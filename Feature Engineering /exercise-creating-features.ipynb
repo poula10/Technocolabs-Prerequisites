{
 "cells": [
  {
   "cell_type": "markdown",
   "id": "29afe685",
   "metadata": {
    "papermill": {
     "duration": 0.005881,
     "end_time": "2023-06-29T23:13:47.132104",
     "exception": false,
     "start_time": "2023-06-29T23:13:47.126223",
     "status": "completed"
    },
    "tags": []
   },
   "source": [
    "**This notebook is an exercise in the [Feature Engineering](https://www.kaggle.com/learn/feature-engineering) course.  You can reference the tutorial at [this link](https://www.kaggle.com/ryanholbrook/creating-features).**\n",
    "\n",
    "---\n"
   ]
  },
  {
   "cell_type": "markdown",
   "id": "028c397c",
   "metadata": {
    "papermill": {
     "duration": 0.004764,
     "end_time": "2023-06-29T23:13:47.142151",
     "exception": false,
     "start_time": "2023-06-29T23:13:47.137387",
     "status": "completed"
    },
    "tags": []
   },
   "source": [
    "# Introduction #\n",
    "\n",
    "In this exercise you'll start developing the features you identified in Exercise 2 as having the most potential. As you work through this exercise, you might take a moment to look at the data documentation again and consider whether the features we're creating make sense from a real-world perspective, and whether there are any useful combinations that stand out to you.\n",
    "\n",
    "Run this cell to set everything up!"
   ]
  },
  {
   "cell_type": "code",
   "execution_count": 1,
   "id": "8d29e22c",
   "metadata": {
    "execution": {
     "iopub.execute_input": "2023-06-29T23:13:47.154729Z",
     "iopub.status.busy": "2023-06-29T23:13:47.153819Z",
     "iopub.status.idle": "2023-06-29T23:13:48.774175Z",
     "shell.execute_reply": "2023-06-29T23:13:48.773044Z"
    },
    "papermill": {
     "duration": 1.629696,
     "end_time": "2023-06-29T23:13:48.776877",
     "exception": false,
     "start_time": "2023-06-29T23:13:47.147181",
     "status": "completed"
    },
    "tags": []
   },
   "outputs": [],
   "source": [
    "# Setup feedback system\n",
    "from learntools.core import binder\n",
    "binder.bind(globals())\n",
    "from learntools.feature_engineering_new.ex3 import *\n",
    "\n",
    "import numpy as np\n",
    "import pandas as pd\n",
    "from sklearn.model_selection import cross_val_score\n",
    "from xgboost import XGBRegressor\n",
    "\n",
    "\n",
    "def score_dataset(X, y, model=XGBRegressor()):\n",
    "    # Label encoding for categoricals\n",
    "    for colname in X.select_dtypes([\"category\", \"object\"]):\n",
    "        X[colname], _ = X[colname].factorize()\n",
    "    # Metric for Housing competition is RMSLE (Root Mean Squared Log Error)\n",
    "    score = cross_val_score(\n",
    "        model, X, y, cv=5, scoring=\"neg_mean_squared_log_error\",\n",
    "    )\n",
    "    score = -1 * score.mean()\n",
    "    score = np.sqrt(score)\n",
    "    return score\n",
    "\n",
    "\n",
    "# Prepare data\n",
    "df = pd.read_csv(\"../input/fe-course-data/ames.csv\")\n",
    "X = df.copy()\n",
    "y = X.pop(\"SalePrice\")"
   ]
  },
  {
   "cell_type": "markdown",
   "id": "08063cec",
   "metadata": {
    "papermill": {
     "duration": 0.005103,
     "end_time": "2023-06-29T23:13:48.787638",
     "exception": false,
     "start_time": "2023-06-29T23:13:48.782535",
     "status": "completed"
    },
    "tags": []
   },
   "source": [
    "-------------------------------------------------------------------------------\n",
    "\n",
    "Let's start with a few mathematical combinations. We'll focus on features describing areas -- having the same units (square-feet) makes it easy to combine them in sensible ways. Since we're using XGBoost (a tree-based model), we'll focus on ratios and sums.\n",
    "\n",
    "# 1) Create Mathematical Transforms\n",
    "\n",
    "Create the following features:\n",
    "\n",
    "- `LivLotRatio`: the ratio of `GrLivArea` to `LotArea`\n",
    "- `Spaciousness`: the sum of `FirstFlrSF` and `SecondFlrSF` divided by `TotRmsAbvGrd`\n",
    "- `TotalOutsideSF`: the sum of `WoodDeckSF`, `OpenPorchSF`, `EnclosedPorch`, `Threeseasonporch`, and `ScreenPorch`"
   ]
  },
  {
   "cell_type": "code",
   "execution_count": 2,
   "id": "36651f6c",
   "metadata": {
    "execution": {
     "iopub.execute_input": "2023-06-29T23:13:48.799645Z",
     "iopub.status.busy": "2023-06-29T23:13:48.799280Z",
     "iopub.status.idle": "2023-06-29T23:13:48.823907Z",
     "shell.execute_reply": "2023-06-29T23:13:48.822944Z"
    },
    "lines_to_next_cell": 0,
    "papermill": {
     "duration": 0.033294,
     "end_time": "2023-06-29T23:13:48.826120",
     "exception": false,
     "start_time": "2023-06-29T23:13:48.792826",
     "status": "completed"
    },
    "tags": []
   },
   "outputs": [
    {
     "data": {
      "application/javascript": [
       "parent.postMessage({\"jupyterEvent\": \"custom.exercise_interaction\", \"data\": {\"outcomeType\": 1, \"valueTowardsCompletion\": 0.2, \"interactionType\": 1, \"questionType\": 2, \"questionId\": \"1_Q1\", \"learnToolsVersion\": \"0.3.4\", \"failureMessage\": \"\", \"exceptionClass\": \"\", \"trace\": \"\"}}, \"*\")"
      ],
      "text/plain": [
       "<IPython.core.display.Javascript object>"
      ]
     },
     "metadata": {},
     "output_type": "display_data"
    },
    {
     "data": {
      "text/markdown": [
       "<span style=\"color:#33cc33\">Correct</span>"
      ],
      "text/plain": [
       "Correct"
      ]
     },
     "metadata": {},
     "output_type": "display_data"
    }
   ],
   "source": [
    "# YOUR CODE HERE\n",
    "X_1 = pd.DataFrame()  # dataframe to hold new features\n",
    "\n",
    "X_1[\"LivLotRatio\"] = df.GrLivArea / df.LotArea\n",
    "X_1[\"Spaciousness\"] = (df.FirstFlrSF + df.SecondFlrSF) / df.TotRmsAbvGrd\n",
    "X_1[\"TotalOutsideSF\"] = df.WoodDeckSF + df.OpenPorchSF + df.EnclosedPorch + df.Threeseasonporch + df.ScreenPorch\n",
    "\n",
    "\n",
    "# Check your answer\n",
    "q_1.check()"
   ]
  },
  {
   "cell_type": "code",
   "execution_count": 3,
   "id": "80790d56",
   "metadata": {
    "execution": {
     "iopub.execute_input": "2023-06-29T23:13:48.840696Z",
     "iopub.status.busy": "2023-06-29T23:13:48.839645Z",
     "iopub.status.idle": "2023-06-29T23:13:48.844018Z",
     "shell.execute_reply": "2023-06-29T23:13:48.843084Z"
    },
    "lines_to_next_cell": 0,
    "papermill": {
     "duration": 0.013125,
     "end_time": "2023-06-29T23:13:48.846094",
     "exception": false,
     "start_time": "2023-06-29T23:13:48.832969",
     "status": "completed"
    },
    "tags": []
   },
   "outputs": [],
   "source": [
    "# Lines below will give you a hint or solution code\n",
    "#q_1.hint()\n",
    "#q_1.solution()"
   ]
  },
  {
   "cell_type": "markdown",
   "id": "dbd9f294",
   "metadata": {
    "papermill": {
     "duration": 0.005194,
     "end_time": "2023-06-29T23:13:48.856659",
     "exception": false,
     "start_time": "2023-06-29T23:13:48.851465",
     "status": "completed"
    },
    "tags": []
   },
   "source": [
    "-------------------------------------------------------------------------------\n",
    "\n",
    "If you've discovered an interaction effect between a numeric feature and a categorical feature, you might want to model it explicitly using a one-hot encoding, like so:\n",
    "\n",
    "```\n",
    "# One-hot encode Categorical feature, adding a column prefix \"Cat\"\n",
    "X_new = pd.get_dummies(df.Categorical, prefix=\"Cat\")\n",
    "\n",
    "# Multiply row-by-row\n",
    "X_new = X_new.mul(df.Continuous, axis=0)\n",
    "\n",
    "# Join the new features to the feature set\n",
    "X = X.join(X_new)\n",
    "```\n",
    "\n",
    "# 2) Interaction with a Categorical\n",
    "\n",
    "We discovered an interaction between `BldgType` and `GrLivArea` in Exercise 2. Now create their interaction features."
   ]
  },
  {
   "cell_type": "code",
   "execution_count": 4,
   "id": "99b6028c",
   "metadata": {
    "execution": {
     "iopub.execute_input": "2023-06-29T23:13:48.868586Z",
     "iopub.status.busy": "2023-06-29T23:13:48.868240Z",
     "iopub.status.idle": "2023-06-29T23:13:48.880667Z",
     "shell.execute_reply": "2023-06-29T23:13:48.880020Z"
    },
    "lines_to_next_cell": 0,
    "papermill": {
     "duration": 0.020917,
     "end_time": "2023-06-29T23:13:48.882835",
     "exception": false,
     "start_time": "2023-06-29T23:13:48.861918",
     "status": "completed"
    },
    "tags": []
   },
   "outputs": [
    {
     "data": {
      "application/javascript": [
       "parent.postMessage({\"jupyterEvent\": \"custom.exercise_interaction\", \"data\": {\"outcomeType\": 1, \"valueTowardsCompletion\": 0.2, \"interactionType\": 1, \"questionType\": 2, \"questionId\": \"2_Q2\", \"learnToolsVersion\": \"0.3.4\", \"failureMessage\": \"\", \"exceptionClass\": \"\", \"trace\": \"\"}}, \"*\")"
      ],
      "text/plain": [
       "<IPython.core.display.Javascript object>"
      ]
     },
     "metadata": {},
     "output_type": "display_data"
    },
    {
     "data": {
      "text/markdown": [
       "<span style=\"color:#33cc33\">Correct</span>"
      ],
      "text/plain": [
       "Correct"
      ]
     },
     "metadata": {},
     "output_type": "display_data"
    }
   ],
   "source": [
    "# YOUR CODE HERE\n",
    "# One-hot encode BldgType. Use `prefix=\"Bldg\"` in `get_dummies`\n",
    "X_2 = pd.get_dummies(df.BldgType, prefix=\"Bldg\")\n",
    "X_2 = X_2.mul(df.GrLivArea, axis=0)\n",
    "\n",
    "\n",
    "# Check your answer\n",
    "q_2.check()"
   ]
  },
  {
   "cell_type": "code",
   "execution_count": 5,
   "id": "6c2b6e9a",
   "metadata": {
    "execution": {
     "iopub.execute_input": "2023-06-29T23:13:48.895467Z",
     "iopub.status.busy": "2023-06-29T23:13:48.895139Z",
     "iopub.status.idle": "2023-06-29T23:13:48.899281Z",
     "shell.execute_reply": "2023-06-29T23:13:48.898318Z"
    },
    "lines_to_next_cell": 0,
    "papermill": {
     "duration": 0.012957,
     "end_time": "2023-06-29T23:13:48.901418",
     "exception": false,
     "start_time": "2023-06-29T23:13:48.888461",
     "status": "completed"
    },
    "tags": []
   },
   "outputs": [],
   "source": [
    "# Lines below will give you a hint or solution code\n",
    "#q_2.hint()\n",
    "#q_2.solution()"
   ]
  },
  {
   "cell_type": "markdown",
   "id": "98a66e9a",
   "metadata": {
    "lines_to_next_cell": 0,
    "papermill": {
     "duration": 0.005351,
     "end_time": "2023-06-29T23:13:48.912298",
     "exception": false,
     "start_time": "2023-06-29T23:13:48.906947",
     "status": "completed"
    },
    "tags": []
   },
   "source": [
    "# 3) Count Feature\n",
    "\n",
    "Let's try creating a feature that describes how many kinds of outdoor areas a dwelling has. Create a feature `PorchTypes` that counts how many of the following are greater than 0.0:\n",
    "\n",
    "```\n",
    "WoodDeckSF\n",
    "OpenPorchSF\n",
    "EnclosedPorch\n",
    "Threeseasonporch\n",
    "ScreenPorch\n",
    "```"
   ]
  },
  {
   "cell_type": "code",
   "execution_count": 6,
   "id": "08965d53",
   "metadata": {
    "execution": {
     "iopub.execute_input": "2023-06-29T23:13:48.924842Z",
     "iopub.status.busy": "2023-06-29T23:13:48.924492Z",
     "iopub.status.idle": "2023-06-29T23:13:48.938782Z",
     "shell.execute_reply": "2023-06-29T23:13:48.937830Z"
    },
    "lines_to_next_cell": 0,
    "papermill": {
     "duration": 0.02319,
     "end_time": "2023-06-29T23:13:48.940954",
     "exception": false,
     "start_time": "2023-06-29T23:13:48.917764",
     "status": "completed"
    },
    "tags": []
   },
   "outputs": [
    {
     "data": {
      "application/javascript": [
       "parent.postMessage({\"jupyterEvent\": \"custom.exercise_interaction\", \"data\": {\"outcomeType\": 1, \"valueTowardsCompletion\": 0.2, \"interactionType\": 1, \"questionType\": 2, \"questionId\": \"3_Q3\", \"learnToolsVersion\": \"0.3.4\", \"failureMessage\": \"\", \"exceptionClass\": \"\", \"trace\": \"\"}}, \"*\")"
      ],
      "text/plain": [
       "<IPython.core.display.Javascript object>"
      ]
     },
     "metadata": {},
     "output_type": "display_data"
    },
    {
     "data": {
      "text/markdown": [
       "<span style=\"color:#33cc33\">Correct</span>"
      ],
      "text/plain": [
       "Correct"
      ]
     },
     "metadata": {},
     "output_type": "display_data"
    }
   ],
   "source": [
    "X_3 = pd.DataFrame()\n",
    "\n",
    "# YOUR CODE HERE\n",
    "\n",
    "X_3[\"PorchTypes\"] = df[[\n",
    "    \"WoodDeckSF\",\n",
    "    \"OpenPorchSF\",\n",
    "    \"EnclosedPorch\",\n",
    "    \"Threeseasonporch\",\n",
    "    \"ScreenPorch\",\n",
    "]].gt(0.0).sum(axis=1)\n",
    "\n",
    "# Check your answer\n",
    "q_3.check()"
   ]
  },
  {
   "cell_type": "code",
   "execution_count": 7,
   "id": "d36ae75d",
   "metadata": {
    "execution": {
     "iopub.execute_input": "2023-06-29T23:13:48.953984Z",
     "iopub.status.busy": "2023-06-29T23:13:48.953417Z",
     "iopub.status.idle": "2023-06-29T23:13:48.957653Z",
     "shell.execute_reply": "2023-06-29T23:13:48.956802Z"
    },
    "lines_to_next_cell": 0,
    "papermill": {
     "duration": 0.012784,
     "end_time": "2023-06-29T23:13:48.959445",
     "exception": false,
     "start_time": "2023-06-29T23:13:48.946661",
     "status": "completed"
    },
    "tags": []
   },
   "outputs": [],
   "source": [
    "# Lines below will give you a hint or solution code\n",
    "#q_3.hint()\n",
    "#q_3.solution()"
   ]
  },
  {
   "cell_type": "markdown",
   "id": "962b3301",
   "metadata": {
    "papermill": {
     "duration": 0.005496,
     "end_time": "2023-06-29T23:13:48.970610",
     "exception": false,
     "start_time": "2023-06-29T23:13:48.965114",
     "status": "completed"
    },
    "tags": []
   },
   "source": [
    "# 4) Break Down a Categorical Feature\n",
    "\n",
    "`MSSubClass` describes the type of a dwelling:"
   ]
  },
  {
   "cell_type": "code",
   "execution_count": 8,
   "id": "c338749e",
   "metadata": {
    "execution": {
     "iopub.execute_input": "2023-06-29T23:13:48.984054Z",
     "iopub.status.busy": "2023-06-29T23:13:48.983058Z",
     "iopub.status.idle": "2023-06-29T23:13:48.991069Z",
     "shell.execute_reply": "2023-06-29T23:13:48.990130Z"
    },
    "papermill": {
     "duration": 0.016754,
     "end_time": "2023-06-29T23:13:48.993018",
     "exception": false,
     "start_time": "2023-06-29T23:13:48.976264",
     "status": "completed"
    },
    "tags": []
   },
   "outputs": [
    {
     "data": {
      "text/plain": [
       "array(['One_Story_1946_and_Newer_All_Styles', 'Two_Story_1946_and_Newer',\n",
       "       'One_Story_PUD_1946_and_Newer',\n",
       "       'One_and_Half_Story_Finished_All_Ages', 'Split_Foyer',\n",
       "       'Two_Story_PUD_1946_and_Newer', 'Split_or_Multilevel',\n",
       "       'One_Story_1945_and_Older', 'Duplex_All_Styles_and_Ages',\n",
       "       'Two_Family_conversion_All_Styles_and_Ages',\n",
       "       'One_and_Half_Story_Unfinished_All_Ages',\n",
       "       'Two_Story_1945_and_Older', 'Two_and_Half_Story_All_Ages',\n",
       "       'One_Story_with_Finished_Attic_All_Ages',\n",
       "       'PUD_Multilevel_Split_Level_Foyer',\n",
       "       'One_and_Half_Story_PUD_All_Ages'], dtype=object)"
      ]
     },
     "execution_count": 8,
     "metadata": {},
     "output_type": "execute_result"
    }
   ],
   "source": [
    "df.MSSubClass.unique()"
   ]
  },
  {
   "cell_type": "markdown",
   "id": "d3042481",
   "metadata": {
    "papermill": {
     "duration": 0.005604,
     "end_time": "2023-06-29T23:13:49.004905",
     "exception": false,
     "start_time": "2023-06-29T23:13:48.999301",
     "status": "completed"
    },
    "tags": []
   },
   "source": [
    "You can see that there is a more general categorization described (roughly) by the first word of each category. Create a feature containing only these first words by splitting `MSSubClass` at the first underscore `_`. (Hint: In the `split` method use an argument `n=1`.)"
   ]
  },
  {
   "cell_type": "code",
   "execution_count": 9,
   "id": "99bd95ef",
   "metadata": {
    "execution": {
     "iopub.execute_input": "2023-06-29T23:13:49.018234Z",
     "iopub.status.busy": "2023-06-29T23:13:49.017864Z",
     "iopub.status.idle": "2023-06-29T23:13:49.040208Z",
     "shell.execute_reply": "2023-06-29T23:13:49.039173Z"
    },
    "lines_to_next_cell": 0,
    "papermill": {
     "duration": 0.031785,
     "end_time": "2023-06-29T23:13:49.042398",
     "exception": false,
     "start_time": "2023-06-29T23:13:49.010613",
     "status": "completed"
    },
    "tags": []
   },
   "outputs": [
    {
     "data": {
      "application/javascript": [
       "parent.postMessage({\"jupyterEvent\": \"custom.exercise_interaction\", \"data\": {\"outcomeType\": 1, \"valueTowardsCompletion\": 0.2, \"interactionType\": 1, \"questionType\": 2, \"questionId\": \"4_Q4\", \"learnToolsVersion\": \"0.3.4\", \"failureMessage\": \"\", \"exceptionClass\": \"\", \"trace\": \"\"}}, \"*\")"
      ],
      "text/plain": [
       "<IPython.core.display.Javascript object>"
      ]
     },
     "metadata": {},
     "output_type": "display_data"
    },
    {
     "data": {
      "text/markdown": [
       "<span style=\"color:#33cc33\">Correct</span>"
      ],
      "text/plain": [
       "Correct"
      ]
     },
     "metadata": {},
     "output_type": "display_data"
    }
   ],
   "source": [
    "X_4 = pd.DataFrame()\n",
    "\n",
    "# YOUR CODE HERE\n",
    "X_4[\"MSClass\"] = df.MSSubClass.str.split(\"_\", n=1, expand=True)[0]\n",
    "\n",
    "\n",
    "# Check your answer\n",
    "q_4.check()"
   ]
  },
  {
   "cell_type": "code",
   "execution_count": 10,
   "id": "d6e954af",
   "metadata": {
    "execution": {
     "iopub.execute_input": "2023-06-29T23:13:49.057051Z",
     "iopub.status.busy": "2023-06-29T23:13:49.056392Z",
     "iopub.status.idle": "2023-06-29T23:13:49.060452Z",
     "shell.execute_reply": "2023-06-29T23:13:49.059808Z"
    },
    "lines_to_next_cell": 0,
    "papermill": {
     "duration": 0.013596,
     "end_time": "2023-06-29T23:13:49.062384",
     "exception": false,
     "start_time": "2023-06-29T23:13:49.048788",
     "status": "completed"
    },
    "tags": []
   },
   "outputs": [],
   "source": [
    "# Lines below will give you a hint or solution code\n",
    "#q_4.hint()\n",
    "#q_4.solution()"
   ]
  },
  {
   "cell_type": "markdown",
   "id": "83e5ecb0",
   "metadata": {
    "papermill": {
     "duration": 0.0059,
     "end_time": "2023-06-29T23:13:49.074355",
     "exception": false,
     "start_time": "2023-06-29T23:13:49.068455",
     "status": "completed"
    },
    "tags": []
   },
   "source": [
    "# 5) Use a Grouped Transform\n",
    "\n",
    "The value of a home often depends on how it compares to typical homes in its neighborhood. Create a feature `MedNhbdArea` that describes the *median* of `GrLivArea` grouped on `Neighborhood`."
   ]
  },
  {
   "cell_type": "code",
   "execution_count": 11,
   "id": "82f1ff81",
   "metadata": {
    "execution": {
     "iopub.execute_input": "2023-06-29T23:13:49.088078Z",
     "iopub.status.busy": "2023-06-29T23:13:49.087723Z",
     "iopub.status.idle": "2023-06-29T23:13:49.104555Z",
     "shell.execute_reply": "2023-06-29T23:13:49.103819Z"
    },
    "lines_to_next_cell": 0,
    "papermill": {
     "duration": 0.025947,
     "end_time": "2023-06-29T23:13:49.106499",
     "exception": false,
     "start_time": "2023-06-29T23:13:49.080552",
     "status": "completed"
    },
    "tags": []
   },
   "outputs": [
    {
     "data": {
      "application/javascript": [
       "parent.postMessage({\"jupyterEvent\": \"custom.exercise_interaction\", \"data\": {\"outcomeType\": 1, \"valueTowardsCompletion\": 0.2, \"interactionType\": 1, \"questionType\": 2, \"questionId\": \"5_Q5\", \"learnToolsVersion\": \"0.3.4\", \"failureMessage\": \"\", \"exceptionClass\": \"\", \"trace\": \"\"}}, \"*\")"
      ],
      "text/plain": [
       "<IPython.core.display.Javascript object>"
      ]
     },
     "metadata": {},
     "output_type": "display_data"
    },
    {
     "data": {
      "text/markdown": [
       "<span style=\"color:#33cc33\">Correct</span>"
      ],
      "text/plain": [
       "Correct"
      ]
     },
     "metadata": {},
     "output_type": "display_data"
    }
   ],
   "source": [
    "X_5 = pd.DataFrame()\n",
    "\n",
    "# YOUR CODE HERE\n",
    "X_5[\"MedNhbdArea\"] = df.groupby(\"Neighborhood\")[\"GrLivArea\"].transform(\"median\")\n",
    "\n",
    "# Check your answer\n",
    "q_5.check()"
   ]
  },
  {
   "cell_type": "code",
   "execution_count": 12,
   "id": "9175f720",
   "metadata": {
    "execution": {
     "iopub.execute_input": "2023-06-29T23:13:49.121130Z",
     "iopub.status.busy": "2023-06-29T23:13:49.120449Z",
     "iopub.status.idle": "2023-06-29T23:13:49.124456Z",
     "shell.execute_reply": "2023-06-29T23:13:49.123800Z"
    },
    "lines_to_next_cell": 0,
    "papermill": {
     "duration": 0.013525,
     "end_time": "2023-06-29T23:13:49.126374",
     "exception": false,
     "start_time": "2023-06-29T23:13:49.112849",
     "status": "completed"
    },
    "tags": []
   },
   "outputs": [],
   "source": [
    "# Lines below will give you a hint or solution code\n",
    "#q_5.hint()\n",
    "#q_5.solution()"
   ]
  },
  {
   "cell_type": "markdown",
   "id": "dd81eea4",
   "metadata": {
    "papermill": {
     "duration": 0.006101,
     "end_time": "2023-06-29T23:13:49.138994",
     "exception": false,
     "start_time": "2023-06-29T23:13:49.132893",
     "status": "completed"
    },
    "tags": []
   },
   "source": [
    "Now you've made your first new feature set! If you like, you can run the cell below to score the model with all of your new features added:"
   ]
  },
  {
   "cell_type": "code",
   "execution_count": 13,
   "id": "9c82db53",
   "metadata": {
    "execution": {
     "iopub.execute_input": "2023-06-29T23:13:49.153774Z",
     "iopub.status.busy": "2023-06-29T23:13:49.153064Z",
     "iopub.status.idle": "2023-06-29T23:13:53.072183Z",
     "shell.execute_reply": "2023-06-29T23:13:53.071349Z"
    },
    "papermill": {
     "duration": 3.92901,
     "end_time": "2023-06-29T23:13:53.074341",
     "exception": false,
     "start_time": "2023-06-29T23:13:49.145331",
     "status": "completed"
    },
    "tags": []
   },
   "outputs": [
    {
     "data": {
      "text/plain": [
       "0.13865658070461215"
      ]
     },
     "execution_count": 13,
     "metadata": {},
     "output_type": "execute_result"
    }
   ],
   "source": [
    "X_new = X.join([X_1, X_2, X_3, X_4, X_5])\n",
    "score_dataset(X_new, y)"
   ]
  },
  {
   "cell_type": "markdown",
   "id": "4cd9342d",
   "metadata": {
    "papermill": {
     "duration": 0.006185,
     "end_time": "2023-06-29T23:13:53.087220",
     "exception": false,
     "start_time": "2023-06-29T23:13:53.081035",
     "status": "completed"
    },
    "tags": []
   },
   "source": [
    "# Keep Going #\n",
    "\n",
    "[**Untangle spatial relationships**](https://www.kaggle.com/ryanholbrook/clustering-with-k-means) by adding cluster labels to your dataset."
   ]
  },
  {
   "cell_type": "markdown",
   "id": "0c17c2fc",
   "metadata": {
    "papermill": {
     "duration": 0.00605,
     "end_time": "2023-06-29T23:13:53.099630",
     "exception": false,
     "start_time": "2023-06-29T23:13:53.093580",
     "status": "completed"
    },
    "tags": []
   },
   "source": [
    "---\n",
    "\n",
    "\n",
    "\n",
    "\n",
    "*Have questions or comments? Visit the [course discussion forum](https://www.kaggle.com/learn/feature-engineering/discussion) to chat with other learners.*"
   ]
  }
 ],
 "metadata": {
  "kernelspec": {
   "display_name": "Python 3",
   "language": "python",
   "name": "python3"
  },
  "language_info": {
   "codemirror_mode": {
    "name": "ipython",
    "version": 3
   },
   "file_extension": ".py",
   "mimetype": "text/x-python",
   "name": "python",
   "nbconvert_exporter": "python",
   "pygments_lexer": "ipython3",
   "version": "3.10.10"
  },
  "papermill": {
   "default_parameters": {},
   "duration": 16.444828,
   "end_time": "2023-06-29T23:13:53.927082",
   "environment_variables": {},
   "exception": null,
   "input_path": "__notebook__.ipynb",
   "output_path": "__notebook__.ipynb",
   "parameters": {},
   "start_time": "2023-06-29T23:13:37.482254",
   "version": "2.4.0"
  }
 },
 "nbformat": 4,
 "nbformat_minor": 5
}
