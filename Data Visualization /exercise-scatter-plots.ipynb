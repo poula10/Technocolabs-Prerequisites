{
 "cells": [
  {
   "cell_type": "markdown",
   "id": "5bffa9ce",
   "metadata": {
    "papermill": {
     "duration": 0.015665,
     "end_time": "2023-06-30T09:06:37.548058",
     "exception": false,
     "start_time": "2023-06-30T09:06:37.532393",
     "status": "completed"
    },
    "tags": []
   },
   "source": [
    "**This notebook is an exercise in the [Data Visualization](https://www.kaggle.com/learn/data-visualization) course.  You can reference the tutorial at [this link](https://www.kaggle.com/alexisbcook/scatter-plots).**\n",
    "\n",
    "---\n"
   ]
  },
  {
   "cell_type": "markdown",
   "id": "74f25df0",
   "metadata": {
    "papermill": {
     "duration": 0.01208,
     "end_time": "2023-06-30T09:06:37.573015",
     "exception": false,
     "start_time": "2023-06-30T09:06:37.560935",
     "status": "completed"
    },
    "tags": []
   },
   "source": [
    "In this exercise, you will use your new knowledge to propose a solution to a real-world scenario.  To succeed, you will need to import data into Python, answer questions using the data, and generate **scatter plots** to understand patterns in the data.\n",
    "\n",
    "## Scenario\n",
    "\n",
    "You work for a major candy producer, and your goal is to write a report that your company can use to guide the design of its next product.  Soon after starting your research, you stumble across this [very interesting dataset](https://fivethirtyeight.com/features/the-ultimate-halloween-candy-power-ranking/) containing results from a fun survey to crowdsource favorite candies.\n",
    "\n",
    "## Setup\n",
    "\n",
    "Run the next cell to import and configure the Python libraries that you need to complete the exercise."
   ]
  },
  {
   "cell_type": "code",
   "execution_count": 1,
   "id": "7aaf5a22",
   "metadata": {
    "execution": {
     "iopub.execute_input": "2023-06-30T09:06:37.599748Z",
     "iopub.status.busy": "2023-06-30T09:06:37.599225Z",
     "iopub.status.idle": "2023-06-30T09:06:39.515360Z",
     "shell.execute_reply": "2023-06-30T09:06:39.513592Z"
    },
    "papermill": {
     "duration": 1.934837,
     "end_time": "2023-06-30T09:06:39.520365",
     "exception": false,
     "start_time": "2023-06-30T09:06:37.585528",
     "status": "completed"
    },
    "tags": []
   },
   "outputs": [
    {
     "name": "stdout",
     "output_type": "stream",
     "text": [
      "Setup Complete\n"
     ]
    }
   ],
   "source": [
    "import pandas as pd\n",
    "pd.plotting.register_matplotlib_converters()\n",
    "import matplotlib.pyplot as plt\n",
    "%matplotlib inline\n",
    "import seaborn as sns\n",
    "print(\"Setup Complete\")"
   ]
  },
  {
   "cell_type": "markdown",
   "id": "732665f2",
   "metadata": {
    "papermill": {
     "duration": 0.011773,
     "end_time": "2023-06-30T09:06:39.545457",
     "exception": false,
     "start_time": "2023-06-30T09:06:39.533684",
     "status": "completed"
    },
    "tags": []
   },
   "source": [
    "The questions below will give you feedback on your work. Run the following cell to set up our feedback system."
   ]
  },
  {
   "cell_type": "code",
   "execution_count": 2,
   "id": "b979872d",
   "metadata": {
    "execution": {
     "iopub.execute_input": "2023-06-30T09:06:39.571591Z",
     "iopub.status.busy": "2023-06-30T09:06:39.571168Z",
     "iopub.status.idle": "2023-06-30T09:06:39.663190Z",
     "shell.execute_reply": "2023-06-30T09:06:39.656393Z"
    },
    "papermill": {
     "duration": 0.110395,
     "end_time": "2023-06-30T09:06:39.667883",
     "exception": false,
     "start_time": "2023-06-30T09:06:39.557488",
     "status": "completed"
    },
    "tags": []
   },
   "outputs": [
    {
     "name": "stdout",
     "output_type": "stream",
     "text": [
      "Setup Complete\n"
     ]
    }
   ],
   "source": [
    "# Set up code checking\n",
    "import os\n",
    "if not os.path.exists(\"../input/candy.csv\"):\n",
    "    os.symlink(\"../input/data-for-datavis/candy.csv\", \"../input/candy.csv\") \n",
    "from learntools.core import binder\n",
    "binder.bind(globals())\n",
    "from learntools.data_viz_to_coder.ex4 import *\n",
    "print(\"Setup Complete\")"
   ]
  },
  {
   "cell_type": "markdown",
   "id": "e640ffe4",
   "metadata": {
    "papermill": {
     "duration": 0.011619,
     "end_time": "2023-06-30T09:06:39.691591",
     "exception": false,
     "start_time": "2023-06-30T09:06:39.679972",
     "status": "completed"
    },
    "tags": []
   },
   "source": [
    "## Step 1: Load the Data\n",
    "\n",
    "Read the candy data file into `candy_data`.  Use the `\"id\"` column to label the rows."
   ]
  },
  {
   "cell_type": "code",
   "execution_count": 3,
   "id": "f4f22afd",
   "metadata": {
    "execution": {
     "iopub.execute_input": "2023-06-30T09:06:39.717820Z",
     "iopub.status.busy": "2023-06-30T09:06:39.717297Z",
     "iopub.status.idle": "2023-06-30T09:06:39.744228Z",
     "shell.execute_reply": "2023-06-30T09:06:39.742978Z"
    },
    "papermill": {
     "duration": 0.042549,
     "end_time": "2023-06-30T09:06:39.746559",
     "exception": false,
     "start_time": "2023-06-30T09:06:39.704010",
     "status": "completed"
    },
    "tags": []
   },
   "outputs": [
    {
     "data": {
      "application/javascript": [
       "parent.postMessage({\"jupyterEvent\": \"custom.exercise_interaction\", \"data\": {\"outcomeType\": 1, \"valueTowardsCompletion\": 0.3333333333333333, \"interactionType\": 1, \"questionType\": 1, \"questionId\": \"1_LoadData\", \"learnToolsVersion\": \"0.3.4\", \"failureMessage\": \"\", \"exceptionClass\": \"\", \"trace\": \"\"}}, \"*\")"
      ],
      "text/plain": [
       "<IPython.core.display.Javascript object>"
      ]
     },
     "metadata": {},
     "output_type": "display_data"
    },
    {
     "data": {
      "text/markdown": [
       "<span style=\"color:#33cc33\">Correct</span>"
      ],
      "text/plain": [
       "Correct"
      ]
     },
     "metadata": {},
     "output_type": "display_data"
    }
   ],
   "source": [
    "# Path of the file to read\n",
    "candy_filepath = \"../input/candy.csv\"\n",
    "\n",
    "# Fill in the line below to read the file into a variable candy_data\n",
    "candy_data = pd.read_csv(candy_filepath, index_col=\"id\")\n",
    "\n",
    "# Run the line below with no changes to check that you've loaded the data correctly\n",
    "step_1.check()"
   ]
  },
  {
   "cell_type": "code",
   "execution_count": 4,
   "id": "ac027ffa",
   "metadata": {
    "execution": {
     "iopub.execute_input": "2023-06-30T09:06:39.774750Z",
     "iopub.status.busy": "2023-06-30T09:06:39.773679Z",
     "iopub.status.idle": "2023-06-30T09:06:39.779878Z",
     "shell.execute_reply": "2023-06-30T09:06:39.778628Z"
    },
    "papermill": {
     "duration": 0.023261,
     "end_time": "2023-06-30T09:06:39.782508",
     "exception": false,
     "start_time": "2023-06-30T09:06:39.759247",
     "status": "completed"
    },
    "tags": []
   },
   "outputs": [],
   "source": [
    "# Lines below will give you a hint or solution code\n",
    "#step_1.hint()\n",
    "#step_1.solution()"
   ]
  },
  {
   "cell_type": "markdown",
   "id": "e88d710d",
   "metadata": {
    "papermill": {
     "duration": 0.01251,
     "end_time": "2023-06-30T09:06:39.807540",
     "exception": false,
     "start_time": "2023-06-30T09:06:39.795030",
     "status": "completed"
    },
    "tags": []
   },
   "source": [
    "## Step 2: Review the data\n",
    "\n",
    "Use a Python command to print the first five rows of the data."
   ]
  },
  {
   "cell_type": "code",
   "execution_count": 5,
   "id": "295dfdfa",
   "metadata": {
    "execution": {
     "iopub.execute_input": "2023-06-30T09:06:39.835634Z",
     "iopub.status.busy": "2023-06-30T09:06:39.834595Z",
     "iopub.status.idle": "2023-06-30T09:06:39.867142Z",
     "shell.execute_reply": "2023-06-30T09:06:39.865990Z"
    },
    "papermill": {
     "duration": 0.049649,
     "end_time": "2023-06-30T09:06:39.869986",
     "exception": false,
     "start_time": "2023-06-30T09:06:39.820337",
     "status": "completed"
    },
    "tags": []
   },
   "outputs": [
    {
     "data": {
      "text/html": [
       "<div>\n",
       "<style scoped>\n",
       "    .dataframe tbody tr th:only-of-type {\n",
       "        vertical-align: middle;\n",
       "    }\n",
       "\n",
       "    .dataframe tbody tr th {\n",
       "        vertical-align: top;\n",
       "    }\n",
       "\n",
       "    .dataframe thead th {\n",
       "        text-align: right;\n",
       "    }\n",
       "</style>\n",
       "<table border=\"1\" class=\"dataframe\">\n",
       "  <thead>\n",
       "    <tr style=\"text-align: right;\">\n",
       "      <th></th>\n",
       "      <th>competitorname</th>\n",
       "      <th>chocolate</th>\n",
       "      <th>fruity</th>\n",
       "      <th>caramel</th>\n",
       "      <th>peanutyalmondy</th>\n",
       "      <th>nougat</th>\n",
       "      <th>crispedricewafer</th>\n",
       "      <th>hard</th>\n",
       "      <th>bar</th>\n",
       "      <th>pluribus</th>\n",
       "      <th>sugarpercent</th>\n",
       "      <th>pricepercent</th>\n",
       "      <th>winpercent</th>\n",
       "    </tr>\n",
       "    <tr>\n",
       "      <th>id</th>\n",
       "      <th></th>\n",
       "      <th></th>\n",
       "      <th></th>\n",
       "      <th></th>\n",
       "      <th></th>\n",
       "      <th></th>\n",
       "      <th></th>\n",
       "      <th></th>\n",
       "      <th></th>\n",
       "      <th></th>\n",
       "      <th></th>\n",
       "      <th></th>\n",
       "      <th></th>\n",
       "    </tr>\n",
       "  </thead>\n",
       "  <tbody>\n",
       "    <tr>\n",
       "      <th>0</th>\n",
       "      <td>100 Grand</td>\n",
       "      <td>Yes</td>\n",
       "      <td>No</td>\n",
       "      <td>Yes</td>\n",
       "      <td>No</td>\n",
       "      <td>No</td>\n",
       "      <td>Yes</td>\n",
       "      <td>No</td>\n",
       "      <td>Yes</td>\n",
       "      <td>No</td>\n",
       "      <td>0.732</td>\n",
       "      <td>0.860</td>\n",
       "      <td>66.971725</td>\n",
       "    </tr>\n",
       "    <tr>\n",
       "      <th>1</th>\n",
       "      <td>3 Musketeers</td>\n",
       "      <td>Yes</td>\n",
       "      <td>No</td>\n",
       "      <td>No</td>\n",
       "      <td>No</td>\n",
       "      <td>Yes</td>\n",
       "      <td>No</td>\n",
       "      <td>No</td>\n",
       "      <td>Yes</td>\n",
       "      <td>No</td>\n",
       "      <td>0.604</td>\n",
       "      <td>0.511</td>\n",
       "      <td>67.602936</td>\n",
       "    </tr>\n",
       "    <tr>\n",
       "      <th>2</th>\n",
       "      <td>Air Heads</td>\n",
       "      <td>No</td>\n",
       "      <td>Yes</td>\n",
       "      <td>No</td>\n",
       "      <td>No</td>\n",
       "      <td>No</td>\n",
       "      <td>No</td>\n",
       "      <td>No</td>\n",
       "      <td>No</td>\n",
       "      <td>No</td>\n",
       "      <td>0.906</td>\n",
       "      <td>0.511</td>\n",
       "      <td>52.341465</td>\n",
       "    </tr>\n",
       "    <tr>\n",
       "      <th>3</th>\n",
       "      <td>Almond Joy</td>\n",
       "      <td>Yes</td>\n",
       "      <td>No</td>\n",
       "      <td>No</td>\n",
       "      <td>Yes</td>\n",
       "      <td>No</td>\n",
       "      <td>No</td>\n",
       "      <td>No</td>\n",
       "      <td>Yes</td>\n",
       "      <td>No</td>\n",
       "      <td>0.465</td>\n",
       "      <td>0.767</td>\n",
       "      <td>50.347546</td>\n",
       "    </tr>\n",
       "    <tr>\n",
       "      <th>4</th>\n",
       "      <td>Baby Ruth</td>\n",
       "      <td>Yes</td>\n",
       "      <td>No</td>\n",
       "      <td>Yes</td>\n",
       "      <td>Yes</td>\n",
       "      <td>Yes</td>\n",
       "      <td>No</td>\n",
       "      <td>No</td>\n",
       "      <td>Yes</td>\n",
       "      <td>No</td>\n",
       "      <td>0.604</td>\n",
       "      <td>0.767</td>\n",
       "      <td>56.914547</td>\n",
       "    </tr>\n",
       "  </tbody>\n",
       "</table>\n",
       "</div>"
      ],
      "text/plain": [
       "   competitorname chocolate fruity caramel peanutyalmondy nougat  \\\n",
       "id                                                                 \n",
       "0       100 Grand       Yes     No     Yes             No     No   \n",
       "1    3 Musketeers       Yes     No      No             No    Yes   \n",
       "2       Air Heads        No    Yes      No             No     No   \n",
       "3      Almond Joy       Yes     No      No            Yes     No   \n",
       "4       Baby Ruth       Yes     No     Yes            Yes    Yes   \n",
       "\n",
       "   crispedricewafer hard  bar pluribus  sugarpercent  pricepercent  winpercent  \n",
       "id                                                                              \n",
       "0               Yes   No  Yes       No         0.732         0.860   66.971725  \n",
       "1                No   No  Yes       No         0.604         0.511   67.602936  \n",
       "2                No   No   No       No         0.906         0.511   52.341465  \n",
       "3                No   No  Yes       No         0.465         0.767   50.347546  \n",
       "4                No   No  Yes       No         0.604         0.767   56.914547  "
      ]
     },
     "execution_count": 5,
     "metadata": {},
     "output_type": "execute_result"
    }
   ],
   "source": [
    "# Print the first five rows of the data\n",
    "candy_data.head() # Your code here"
   ]
  },
  {
   "cell_type": "markdown",
   "id": "a370852b",
   "metadata": {
    "papermill": {
     "duration": 0.012724,
     "end_time": "2023-06-30T09:06:39.895943",
     "exception": false,
     "start_time": "2023-06-30T09:06:39.883219",
     "status": "completed"
    },
    "tags": []
   },
   "source": [
    "The dataset contains 83 rows, where each corresponds to a different candy bar.  There are 13 columns:\n",
    "- `'competitorname'` contains the name of the candy bar. \n",
    "- the next **9** columns (from `'chocolate'` to `'pluribus'`) describe the candy.  For instance, rows with chocolate candies have `\"Yes\"` in the `'chocolate'` column (and candies without chocolate have `\"No\"` in the same column).\n",
    "- `'sugarpercent'` provides some indication of the amount of sugar, where higher values signify higher sugar content.\n",
    "- `'pricepercent'` shows the price per unit, relative to the other candies in the dataset.\n",
    "- `'winpercent'` is calculated from the survey results; higher values indicate that the candy was more popular with survey respondents.\n",
    "\n",
    "Use the first five rows of the data to answer the questions below."
   ]
  },
  {
   "cell_type": "code",
   "execution_count": 6,
   "id": "05ba5f37",
   "metadata": {
    "execution": {
     "iopub.execute_input": "2023-06-30T09:06:39.924273Z",
     "iopub.status.busy": "2023-06-30T09:06:39.923820Z",
     "iopub.status.idle": "2023-06-30T09:06:39.937213Z",
     "shell.execute_reply": "2023-06-30T09:06:39.935804Z"
    },
    "papermill": {
     "duration": 0.030653,
     "end_time": "2023-06-30T09:06:39.939807",
     "exception": false,
     "start_time": "2023-06-30T09:06:39.909154",
     "status": "completed"
    },
    "tags": []
   },
   "outputs": [
    {
     "data": {
      "application/javascript": [
       "parent.postMessage({\"jupyterEvent\": \"custom.exercise_interaction\", \"data\": {\"outcomeType\": 1, \"valueTowardsCompletion\": 0.3333333333333333, \"interactionType\": 1, \"questionType\": 1, \"questionId\": \"2_ReviewData\", \"learnToolsVersion\": \"0.3.4\", \"failureMessage\": \"\", \"exceptionClass\": \"\", \"trace\": \"\"}}, \"*\")"
      ],
      "text/plain": [
       "<IPython.core.display.Javascript object>"
      ]
     },
     "metadata": {},
     "output_type": "display_data"
    },
    {
     "data": {
      "text/markdown": [
       "<span style=\"color:#33cc33\">Correct</span>"
      ],
      "text/plain": [
       "Correct"
      ]
     },
     "metadata": {},
     "output_type": "display_data"
    }
   ],
   "source": [
    "# Fill in the line below: Which candy was more popular with survey respondents:\n",
    "# '3 Musketeers' or 'Almond Joy'?  (Please enclose your answer in single quotes.)\n",
    "more_popular = '3 Musketeers'\n",
    "\n",
    "# Fill in the line below: Which candy has higher sugar content: 'Air Heads'\n",
    "# or 'Baby Ruth'? (Please enclose your answer in single quotes.)\n",
    "more_sugar = 'Air Heads'\n",
    "\n",
    "# Check your answers\n",
    "step_2.check()"
   ]
  },
  {
   "cell_type": "code",
   "execution_count": 7,
   "id": "2ffb29fb",
   "metadata": {
    "execution": {
     "iopub.execute_input": "2023-06-30T09:06:39.968056Z",
     "iopub.status.busy": "2023-06-30T09:06:39.967572Z",
     "iopub.status.idle": "2023-06-30T09:06:39.973005Z",
     "shell.execute_reply": "2023-06-30T09:06:39.971743Z"
    },
    "papermill": {
     "duration": 0.023093,
     "end_time": "2023-06-30T09:06:39.975637",
     "exception": false,
     "start_time": "2023-06-30T09:06:39.952544",
     "status": "completed"
    },
    "tags": []
   },
   "outputs": [],
   "source": [
    "# Lines below will give you a hint or solution code\n",
    "#step_2.hint()\n",
    "#step_2.solution()"
   ]
  },
  {
   "cell_type": "markdown",
   "id": "92e3454a",
   "metadata": {
    "papermill": {
     "duration": 0.01264,
     "end_time": "2023-06-30T09:06:40.001009",
     "exception": false,
     "start_time": "2023-06-30T09:06:39.988369",
     "status": "completed"
    },
    "tags": []
   },
   "source": [
    "## Step 3: The role of sugar\n",
    "\n",
    "Do people tend to prefer candies with higher sugar content?  \n",
    "\n",
    "#### Part A\n",
    "\n",
    "Create a scatter plot that shows the relationship between `'sugarpercent'` (on the horizontal x-axis) and `'winpercent'` (on the vertical y-axis).  _Don't add a regression line just yet -- you'll do that in the next step!_"
   ]
  },
  {
   "cell_type": "code",
   "execution_count": 8,
   "id": "b35413d7",
   "metadata": {
    "execution": {
     "iopub.execute_input": "2023-06-30T09:06:40.032203Z",
     "iopub.status.busy": "2023-06-30T09:06:40.031630Z",
     "iopub.status.idle": "2023-06-30T09:06:40.425715Z",
     "shell.execute_reply": "2023-06-30T09:06:40.424849Z"
    },
    "papermill": {
     "duration": 0.41155,
     "end_time": "2023-06-30T09:06:40.428970",
     "exception": false,
     "start_time": "2023-06-30T09:06:40.017420",
     "status": "completed"
    },
    "tags": []
   },
   "outputs": [
    {
     "data": {
      "application/javascript": [
       "parent.postMessage({\"jupyterEvent\": \"custom.exercise_interaction\", \"data\": {\"outcomeType\": 1, \"valueTowardsCompletion\": 0.3333333333333333, \"interactionType\": 1, \"questionType\": 2, \"questionId\": \"3.1_PlotBlueScatter\", \"learnToolsVersion\": \"0.3.4\", \"failureMessage\": \"\", \"exceptionClass\": \"\", \"trace\": \"\"}}, \"*\")"
      ],
      "text/plain": [
       "<IPython.core.display.Javascript object>"
      ]
     },
     "metadata": {},
     "output_type": "display_data"
    },
    {
     "data": {
      "text/markdown": [
       "<span style=\"color:#33cc33\">Correct</span>"
      ],
      "text/plain": [
       "Correct"
      ]
     },
     "metadata": {},
     "output_type": "display_data"
    },
    {
     "data": {
      "image/png": "[encoded data removed]",
      "text/plain": [
       "<Figure size 640x480 with 1 Axes>"
      ]
     },
     "metadata": {},
     "output_type": "display_data"
    }
   ],
   "source": [
    "# Scatter plot showing the relationship between 'sugarpercent' and 'winpercent'\n",
    "sns.scatterplot(x=candy_data['sugarpercent'], y=candy_data['winpercent'])\n",
    "\n",
    "# Check your answer\n",
    "step_3.a.check()"
   ]
  },
  {
   "cell_type": "code",
   "execution_count": 9,
   "id": "beb1c35f",
   "metadata": {
    "execution": {
     "iopub.execute_input": "2023-06-30T09:06:40.461157Z",
     "iopub.status.busy": "2023-06-30T09:06:40.459763Z",
     "iopub.status.idle": "2023-06-30T09:06:40.466427Z",
     "shell.execute_reply": "2023-06-30T09:06:40.464629Z"
    },
    "papermill": {
     "duration": 0.02513,
     "end_time": "2023-06-30T09:06:40.469280",
     "exception": false,
     "start_time": "2023-06-30T09:06:40.444150",
     "status": "completed"
    },
    "tags": []
   },
   "outputs": [],
   "source": [
    "# Lines below will give you a hint or solution code\n",
    "#step_3.a.hint()\n",
    "#step_3.a.solution_plot()"
   ]
  },
  {
   "cell_type": "markdown",
   "id": "fa30365c",
   "metadata": {
    "papermill": {
     "duration": 0.013184,
     "end_time": "2023-06-30T09:06:40.498028",
     "exception": false,
     "start_time": "2023-06-30T09:06:40.484844",
     "status": "completed"
    },
    "tags": []
   },
   "source": [
    "#### Part B\n",
    "\n",
    "Does the scatter plot show a **strong** correlation between the two variables?  If so, are candies with more sugar relatively more or less popular with the survey respondents?"
   ]
  },
  {
   "cell_type": "code",
   "execution_count": 10,
   "id": "a23e222b",
   "metadata": {
    "execution": {
     "iopub.execute_input": "2023-06-30T09:06:40.529960Z",
     "iopub.status.busy": "2023-06-30T09:06:40.529531Z",
     "iopub.status.idle": "2023-06-30T09:06:40.535589Z",
     "shell.execute_reply": "2023-06-30T09:06:40.533963Z"
    },
    "papermill": {
     "duration": 0.025341,
     "end_time": "2023-06-30T09:06:40.537936",
     "exception": false,
     "start_time": "2023-06-30T09:06:40.512595",
     "status": "completed"
    },
    "tags": []
   },
   "outputs": [],
   "source": [
    "#step_3.b.hint()"
   ]
  },
  {
   "cell_type": "code",
   "execution_count": 11,
   "id": "2af2e631",
   "metadata": {
    "execution": {
     "iopub.execute_input": "2023-06-30T09:06:40.567732Z",
     "iopub.status.busy": "2023-06-30T09:06:40.567345Z",
     "iopub.status.idle": "2023-06-30T09:06:40.578171Z",
     "shell.execute_reply": "2023-06-30T09:06:40.576813Z"
    },
    "papermill": {
     "duration": 0.028488,
     "end_time": "2023-06-30T09:06:40.580821",
     "exception": false,
     "start_time": "2023-06-30T09:06:40.552333",
     "status": "completed"
    },
    "tags": []
   },
   "outputs": [
    {
     "data": {
      "application/javascript": [
       "parent.postMessage({\"jupyterEvent\": \"custom.exercise_interaction\", \"data\": {\"interactionType\": 3, \"questionType\": 4, \"questionId\": \"3.2_ThinkBlueScatter\", \"learnToolsVersion\": \"0.3.4\", \"valueTowardsCompletion\": 0.0, \"failureMessage\": \"\", \"exceptionClass\": \"\", \"trace\": \"\", \"outcomeType\": 4}}, \"*\")"
      ],
      "text/plain": [
       "<IPython.core.display.Javascript object>"
      ]
     },
     "metadata": {},
     "output_type": "display_data"
    },
    {
     "data": {
      "text/markdown": [
       "<span style=\"color:#33cc99\">Solution:</span> The scatter plot does not show a strong correlation between the two variables. Since there is no clear relationship between the two variables, this tells us that sugar content does not play a strong role in candy popularity."
      ],
      "text/plain": [
       "Solution: The scatter plot does not show a strong correlation between the two variables. Since there is no clear relationship between the two variables, this tells us that sugar content does not play a strong role in candy popularity."
      ]
     },
     "metadata": {},
     "output_type": "display_data"
    }
   ],
   "source": [
    "# Check your answer (Run this code cell to receive credit!)\n",
    "step_3.b.solution()"
   ]
  },
  {
   "cell_type": "markdown",
   "id": "d9877b5d",
   "metadata": {
    "papermill": {
     "duration": 0.014408,
     "end_time": "2023-06-30T09:06:40.610134",
     "exception": false,
     "start_time": "2023-06-30T09:06:40.595726",
     "status": "completed"
    },
    "tags": []
   },
   "source": [
    "## Step 4: Take a closer look\n",
    "\n",
    "#### Part A\n",
    "\n",
    "Create the same scatter plot you created in **Step 3**, but now with a regression line!"
   ]
  },
  {
   "cell_type": "code",
   "execution_count": 12,
   "id": "cc2474dc",
   "metadata": {
    "execution": {
     "iopub.execute_input": "2023-06-30T09:06:40.643069Z",
     "iopub.status.busy": "2023-06-30T09:06:40.642669Z",
     "iopub.status.idle": "2023-06-30T09:06:41.107745Z",
     "shell.execute_reply": "2023-06-30T09:06:41.106216Z"
    },
    "papermill": {
     "duration": 0.485048,
     "end_time": "2023-06-30T09:06:41.110675",
     "exception": false,
     "start_time": "2023-06-30T09:06:40.625627",
     "status": "completed"
    },
    "tags": []
   },
   "outputs": [
    {
     "data": {
      "application/javascript": [
       "parent.postMessage({\"jupyterEvent\": \"custom.exercise_interaction\", \"data\": {\"outcomeType\": 1, \"valueTowardsCompletion\": 0.3333333333333333, \"interactionType\": 1, \"questionType\": 2, \"questionId\": \"4.1_PlotBlueReg\", \"learnToolsVersion\": \"0.3.4\", \"failureMessage\": \"\", \"exceptionClass\": \"\", \"trace\": \"\"}}, \"*\")"
      ],
      "text/plain": [
       "<IPython.core.display.Javascript object>"
      ]
     },
     "metadata": {},
     "output_type": "display_data"
    },
    {
     "data": {
      "text/markdown": [
       "<span style=\"color:#33cc33\">Correct</span>"
      ],
      "text/plain": [
       "Correct"
      ]
     },
     "metadata": {},
     "output_type": "display_data"
    },
    {
     "data": {
      "image/png": "[encoded data removed]",
      "text/plain": [
       "<Figure size 640x480 with 1 Axes>"
      ]
     },
     "metadata": {},
     "output_type": "display_data"
    }
   ],
   "source": [
    "# Scatter plot w/ regression line showing the relationship between 'sugarpercent' and 'winpercent'\n",
    "sns.regplot(x=candy_data['sugarpercent'], y=candy_data['winpercent'])\n",
    "\n",
    "# Check your answer\n",
    "step_4.a.check()"
   ]
  },
  {
   "cell_type": "code",
   "execution_count": 13,
   "id": "50ea7e21",
   "metadata": {
    "execution": {
     "iopub.execute_input": "2023-06-30T09:06:41.144194Z",
     "iopub.status.busy": "2023-06-30T09:06:41.142664Z",
     "iopub.status.idle": "2023-06-30T09:06:41.148312Z",
     "shell.execute_reply": "2023-06-30T09:06:41.147100Z"
    },
    "papermill": {
     "duration": 0.025059,
     "end_time": "2023-06-30T09:06:41.150995",
     "exception": false,
     "start_time": "2023-06-30T09:06:41.125936",
     "status": "completed"
    },
    "tags": []
   },
   "outputs": [],
   "source": [
    "# Lines below will give you a hint or solution code\n",
    "#step_4.a.hint()\n",
    "#step_4.a.solution_plot()"
   ]
  },
  {
   "cell_type": "markdown",
   "id": "4fff188f",
   "metadata": {
    "papermill": {
     "duration": 0.015253,
     "end_time": "2023-06-30T09:06:41.181233",
     "exception": false,
     "start_time": "2023-06-30T09:06:41.165980",
     "status": "completed"
    },
    "tags": []
   },
   "source": [
    "#### Part B\n",
    "\n",
    "According to the plot above, is there a **slight** correlation between `'winpercent'` and `'sugarpercent'`?  What does this tell you about the candy that people tend to prefer?"
   ]
  },
  {
   "cell_type": "code",
   "execution_count": 14,
   "id": "7db2edad",
   "metadata": {
    "execution": {
     "iopub.execute_input": "2023-06-30T09:06:41.214207Z",
     "iopub.status.busy": "2023-06-30T09:06:41.213095Z",
     "iopub.status.idle": "2023-06-30T09:06:41.219120Z",
     "shell.execute_reply": "2023-06-30T09:06:41.217821Z"
    },
    "papermill": {
     "duration": 0.025059,
     "end_time": "2023-06-30T09:06:41.221920",
     "exception": false,
     "start_time": "2023-06-30T09:06:41.196861",
     "status": "completed"
    },
    "tags": []
   },
   "outputs": [],
   "source": [
    "#step_4.b.hint()"
   ]
  },
  {
   "cell_type": "code",
   "execution_count": 15,
   "id": "36048a98",
   "metadata": {
    "execution": {
     "iopub.execute_input": "2023-06-30T09:06:41.254172Z",
     "iopub.status.busy": "2023-06-30T09:06:41.253642Z",
     "iopub.status.idle": "2023-06-30T09:06:41.263713Z",
     "shell.execute_reply": "2023-06-30T09:06:41.262327Z"
    },
    "papermill": {
     "duration": 0.029167,
     "end_time": "2023-06-30T09:06:41.266398",
     "exception": false,
     "start_time": "2023-06-30T09:06:41.237231",
     "status": "completed"
    },
    "tags": []
   },
   "outputs": [
    {
     "data": {
      "application/javascript": [
       "parent.postMessage({\"jupyterEvent\": \"custom.exercise_interaction\", \"data\": {\"interactionType\": 3, \"questionType\": 4, \"questionId\": \"4.2_ThinkBlueReg\", \"learnToolsVersion\": \"0.3.4\", \"valueTowardsCompletion\": 0.0, \"failureMessage\": \"\", \"exceptionClass\": \"\", \"trace\": \"\", \"outcomeType\": 4}}, \"*\")"
      ],
      "text/plain": [
       "<IPython.core.display.Javascript object>"
      ]
     },
     "metadata": {},
     "output_type": "display_data"
    },
    {
     "data": {
      "text/markdown": [
       "<span style=\"color:#33cc99\">Solution:</span> Since the regression line has a slightly positive slope, this tells us that there is a slightly positive correlation between `'winpercent'` and `'sugarpercent'`. Thus, people have a slight preference for candies containing relatively more sugar."
      ],
      "text/plain": [
       "Solution: Since the regression line has a slightly positive slope, this tells us that there is a slightly positive correlation between `'winpercent'` and `'sugarpercent'`. Thus, people have a slight preference for candies containing relatively more sugar."
      ]
     },
     "metadata": {},
     "output_type": "display_data"
    }
   ],
   "source": [
    "# Check your answer (Run this code cell to receive credit!)\n",
    "step_4.b.solution()"
   ]
  },
  {
   "cell_type": "markdown",
   "id": "bf4df81a",
   "metadata": {
    "papermill": {
     "duration": 0.016002,
     "end_time": "2023-06-30T09:06:41.298344",
     "exception": false,
     "start_time": "2023-06-30T09:06:41.282342",
     "status": "completed"
    },
    "tags": []
   },
   "source": [
    "## Step 5: Chocolate!\n",
    "\n",
    "In the code cell below, create a scatter plot to show the relationship between `'pricepercent'` (on the horizontal x-axis) and `'winpercent'` (on the vertical y-axis). Use the `'chocolate'` column to color-code the points.  _Don't add any regression lines just yet -- you'll do that in the next step!_"
   ]
  },
  {
   "cell_type": "code",
   "execution_count": 16,
   "id": "2fd0923b",
   "metadata": {
    "execution": {
     "iopub.execute_input": "2023-06-30T09:06:41.331040Z",
     "iopub.status.busy": "2023-06-30T09:06:41.330613Z",
     "iopub.status.idle": "2023-06-30T09:06:41.764707Z",
     "shell.execute_reply": "2023-06-30T09:06:41.763855Z"
    },
    "papermill": {
     "duration": 0.454201,
     "end_time": "2023-06-30T09:06:41.767532",
     "exception": false,
     "start_time": "2023-06-30T09:06:41.313331",
     "status": "completed"
    },
    "tags": []
   },
   "outputs": [
    {
     "data": {
      "application/javascript": [
       "parent.postMessage({\"jupyterEvent\": \"custom.exercise_interaction\", \"data\": {\"outcomeType\": 1, \"valueTowardsCompletion\": 0.3333333333333333, \"interactionType\": 1, \"questionType\": 2, \"questionId\": \"5_ColorScatter\", \"learnToolsVersion\": \"0.3.4\", \"failureMessage\": \"\", \"exceptionClass\": \"\", \"trace\": \"\"}}, \"*\")"
      ],
      "text/plain": [
       "<IPython.core.display.Javascript object>"
      ]
     },
     "metadata": {},
     "output_type": "display_data"
    },
    {
     "data": {
      "text/markdown": [
       "<span style=\"color:#33cc33\">Correct</span>"
      ],
      "text/plain": [
       "Correct"
      ]
     },
     "metadata": {},
     "output_type": "display_data"
    },
    {
     "data": {
      "image/png": "[encoded data removed]",
      "text/plain": [
       "<Figure size 640x480 with 1 Axes>"
      ]
     },
     "metadata": {},
     "output_type": "display_data"
    }
   ],
   "source": [
    "# Scatter plot showing the relationship between 'pricepercent', 'winpercent', and 'chocolate'\n",
    "sns.scatterplot(x=candy_data['pricepercent'], y=candy_data['winpercent'], hue=candy_data['chocolate'])\n",
    "\n",
    "# Check your answer\n",
    "step_5.check()"
   ]
  },
  {
   "cell_type": "code",
   "execution_count": 17,
   "id": "209eab99",
   "metadata": {
    "execution": {
     "iopub.execute_input": "2023-06-30T09:06:41.803788Z",
     "iopub.status.busy": "2023-06-30T09:06:41.802654Z",
     "iopub.status.idle": "2023-06-30T09:06:41.807711Z",
     "shell.execute_reply": "2023-06-30T09:06:41.806949Z"
    },
    "papermill": {
     "duration": 0.025225,
     "end_time": "2023-06-30T09:06:41.809907",
     "exception": false,
     "start_time": "2023-06-30T09:06:41.784682",
     "status": "completed"
    },
    "tags": []
   },
   "outputs": [],
   "source": [
    "# Lines below will give you a hint or solution code\n",
    "#step_5.hint()\n",
    "#step_5.solution_plot()"
   ]
  },
  {
   "cell_type": "markdown",
   "id": "3881e424",
   "metadata": {
    "papermill": {
     "duration": 0.015939,
     "end_time": "2023-06-30T09:06:41.842091",
     "exception": false,
     "start_time": "2023-06-30T09:06:41.826152",
     "status": "completed"
    },
    "tags": []
   },
   "source": [
    "Can you see any interesting patterns in the scatter plot?  We'll investigate this plot further  by adding regression lines in the next step!\n",
    "\n",
    "## Step 6: Investigate chocolate\n",
    "\n",
    "#### Part A\n",
    "\n",
    "Create the same scatter plot you created in **Step 5**, but now with two regression lines, corresponding to (1) chocolate candies and (2) candies without chocolate."
   ]
  },
  {
   "cell_type": "code",
   "execution_count": 18,
   "id": "64c0eef9",
   "metadata": {
    "execution": {
     "iopub.execute_input": "2023-06-30T09:06:41.877706Z",
     "iopub.status.busy": "2023-06-30T09:06:41.876509Z",
     "iopub.status.idle": "2023-06-30T09:06:42.754648Z",
     "shell.execute_reply": "2023-06-30T09:06:42.753188Z"
    },
    "papermill": {
     "duration": 0.899527,
     "end_time": "2023-06-30T09:06:42.757885",
     "exception": false,
     "start_time": "2023-06-30T09:06:41.858358",
     "status": "completed"
    },
    "tags": []
   },
   "outputs": [
    {
     "data": {
      "application/javascript": [
       "parent.postMessage({\"jupyterEvent\": \"custom.exercise_interaction\", \"data\": {\"outcomeType\": 1, \"valueTowardsCompletion\": 0.3333333333333333, \"interactionType\": 1, \"questionType\": 2, \"questionId\": \"6.1_PlotColorReg\", \"learnToolsVersion\": \"0.3.4\", \"failureMessage\": \"\", \"exceptionClass\": \"\", \"trace\": \"\"}}, \"*\")"
      ],
      "text/plain": [
       "<IPython.core.display.Javascript object>"
      ]
     },
     "metadata": {},
     "output_type": "display_data"
    },
    {
     "data": {
      "text/markdown": [
       "<span style=\"color:#33cc33\">Correct</span>"
      ],
      "text/plain": [
       "Correct"
      ]
     },
     "metadata": {},
     "output_type": "display_data"
    },
    {
     "data": {
      "image/png": "[encoded data removed]",
      "text/plain": [
       "<Figure size 578.611x500 with 1 Axes>"
      ]
     },
     "metadata": {},
     "output_type": "display_data"
    }
   ],
   "source": [
    "# Color-coded scatter plot w/ regression lines\n",
    "sns.lmplot(x=\"pricepercent\", y=\"winpercent\", hue=\"chocolate\", data=candy_data)\n",
    "\n",
    "# Check your answer\n",
    "step_6.a.check()"
   ]
  },
  {
   "cell_type": "code",
   "execution_count": 19,
   "id": "b9da8c3a",
   "metadata": {
    "execution": {
     "iopub.execute_input": "2023-06-30T09:06:42.795486Z",
     "iopub.status.busy": "2023-06-30T09:06:42.794964Z",
     "iopub.status.idle": "2023-06-30T09:06:42.800919Z",
     "shell.execute_reply": "2023-06-30T09:06:42.799607Z"
    },
    "papermill": {
     "duration": 0.028359,
     "end_time": "2023-06-30T09:06:42.803921",
     "exception": false,
     "start_time": "2023-06-30T09:06:42.775562",
     "status": "completed"
    },
    "tags": []
   },
   "outputs": [],
   "source": [
    "# Lines below will give you a hint or solution code\n",
    "#step_6.a.hint()\n",
    "#step_6.a.solution_plot()"
   ]
  },
  {
   "cell_type": "markdown",
   "id": "bba84669",
   "metadata": {
    "papermill": {
     "duration": 0.017598,
     "end_time": "2023-06-30T09:06:42.839253",
     "exception": false,
     "start_time": "2023-06-30T09:06:42.821655",
     "status": "completed"
    },
    "tags": []
   },
   "source": [
    "#### Part B\n",
    "\n",
    "Using the regression lines, what conclusions can you draw about the effects of chocolate and price on candy popularity?"
   ]
  },
  {
   "cell_type": "code",
   "execution_count": 20,
   "id": "9561c79e",
   "metadata": {
    "execution": {
     "iopub.execute_input": "2023-06-30T09:06:42.878989Z",
     "iopub.status.busy": "2023-06-30T09:06:42.878534Z",
     "iopub.status.idle": "2023-06-30T09:06:42.882829Z",
     "shell.execute_reply": "2023-06-30T09:06:42.881987Z"
    },
    "papermill": {
     "duration": 0.026122,
     "end_time": "2023-06-30T09:06:42.885239",
     "exception": false,
     "start_time": "2023-06-30T09:06:42.859117",
     "status": "completed"
    },
    "tags": []
   },
   "outputs": [],
   "source": [
    "#step_6.b.hint()"
   ]
  },
  {
   "cell_type": "code",
   "execution_count": 21,
   "id": "9bb6bfc9",
   "metadata": {
    "execution": {
     "iopub.execute_input": "2023-06-30T09:06:42.922705Z",
     "iopub.status.busy": "2023-06-30T09:06:42.922300Z",
     "iopub.status.idle": "2023-06-30T09:06:42.931492Z",
     "shell.execute_reply": "2023-06-30T09:06:42.930406Z"
    },
    "papermill": {
     "duration": 0.03096,
     "end_time": "2023-06-30T09:06:42.934027",
     "exception": false,
     "start_time": "2023-06-30T09:06:42.903067",
     "status": "completed"
    },
    "tags": []
   },
   "outputs": [
    {
     "data": {
      "application/javascript": [
       "parent.postMessage({\"jupyterEvent\": \"custom.exercise_interaction\", \"data\": {\"interactionType\": 3, \"questionType\": 4, \"questionId\": \"6.2_ThinkColorReg\", \"learnToolsVersion\": \"0.3.4\", \"valueTowardsCompletion\": 0.0, \"failureMessage\": \"\", \"exceptionClass\": \"\", \"trace\": \"\", \"outcomeType\": 4}}, \"*\")"
      ],
      "text/plain": [
       "<IPython.core.display.Javascript object>"
      ]
     },
     "metadata": {},
     "output_type": "display_data"
    },
    {
     "data": {
      "text/markdown": [
       "<span style=\"color:#33cc99\">Solution:</span> We'll begin with the regression line for chocolate candies. Since this line has a slightly positive slope, we can say that more expensive chocolate candies tend to be more popular (than relatively cheaper chocolate candies).  Likewise, since the regression line for candies without chocolate has a negative slope, we can say that if candies don't contain chocolate, they tend to be more popular when they are cheaper.  One important note, however, is that the dataset is quite small -- so we shouldn't invest too much trust in these patterns!  To inspire more confidence in the results, we should add more candies to the dataset."
      ],
      "text/plain": [
       "Solution: We'll begin with the regression line for chocolate candies. Since this line has a slightly positive slope, we can say that more expensive chocolate candies tend to be more popular (than relatively cheaper chocolate candies).  Likewise, since the regression line for candies without chocolate has a negative slope, we can say that if candies don't contain chocolate, they tend to be more popular when they are cheaper.  One important note, however, is that the dataset is quite small -- so we shouldn't invest too much trust in these patterns!  To inspire more confidence in the results, we should add more candies to the dataset."
      ]
     },
     "metadata": {},
     "output_type": "display_data"
    }
   ],
   "source": [
    "# Check your answer (Run this code cell to receive credit!)\n",
    "step_6.b.solution()"
   ]
  },
  {
   "cell_type": "markdown",
   "id": "46ccb90b",
   "metadata": {
    "papermill": {
     "duration": 0.019712,
     "end_time": "2023-06-30T09:06:42.972882",
     "exception": false,
     "start_time": "2023-06-30T09:06:42.953170",
     "status": "completed"
    },
    "tags": []
   },
   "source": [
    "## Step 7: Everybody loves chocolate.\n",
    "\n",
    "#### Part A\n",
    "\n",
    "Create a categorical scatter plot to highlight the relationship between `'chocolate'` and `'winpercent'`.  Put `'chocolate'` on the (horizontal) x-axis, and `'winpercent'` on the (vertical) y-axis."
   ]
  },
  {
   "cell_type": "code",
   "execution_count": 22,
   "id": "6162bafd",
   "metadata": {
    "execution": {
     "iopub.execute_input": "2023-06-30T09:06:43.013892Z",
     "iopub.status.busy": "2023-06-30T09:06:43.012342Z",
     "iopub.status.idle": "2023-06-30T09:06:43.609398Z",
     "shell.execute_reply": "2023-06-30T09:06:43.607877Z"
    },
    "papermill": {
     "duration": 0.62191,
     "end_time": "2023-06-30T09:06:43.613627",
     "exception": false,
     "start_time": "2023-06-30T09:06:42.991717",
     "status": "completed"
    },
    "tags": []
   },
   "outputs": [
    {
     "data": {
      "application/javascript": [
       "parent.postMessage({\"jupyterEvent\": \"custom.exercise_interaction\", \"data\": {\"outcomeType\": 1, \"valueTowardsCompletion\": 0.3333333333333333, \"interactionType\": 1, \"questionType\": 2, \"questionId\": \"7.1_PlotSwarm\", \"learnToolsVersion\": \"0.3.4\", \"failureMessage\": \"\", \"exceptionClass\": \"\", \"trace\": \"\"}}, \"*\")"
      ],
      "text/plain": [
       "<IPython.core.display.Javascript object>"
      ]
     },
     "metadata": {},
     "output_type": "display_data"
    },
    {
     "data": {
      "text/markdown": [
       "<span style=\"color:#33cc33\">Correct</span>"
      ],
      "text/plain": [
       "Correct"
      ]
     },
     "metadata": {},
     "output_type": "display_data"
    },
    {
     "data": {
      "image/png": "[encoded data removed]",
      "text/plain": [
       "<Figure size 640x480 with 1 Axes>"
      ]
     },
     "metadata": {},
     "output_type": "display_data"
    }
   ],
   "source": [
    "# Scatter plot showing the relationship between 'chocolate' and 'winpercent'\n",
    "sns.swarmplot(x=candy_data['chocolate'], y=candy_data['winpercent'])\n",
    "\n",
    "# Check your answer\n",
    "step_7.a.check()"
   ]
  },
  {
   "cell_type": "code",
   "execution_count": 23,
   "id": "ddf1aafb",
   "metadata": {
    "execution": {
     "iopub.execute_input": "2023-06-30T09:06:43.663046Z",
     "iopub.status.busy": "2023-06-30T09:06:43.661437Z",
     "iopub.status.idle": "2023-06-30T09:06:43.666710Z",
     "shell.execute_reply": "2023-06-30T09:06:43.665873Z"
    },
    "papermill": {
     "duration": 0.027915,
     "end_time": "2023-06-30T09:06:43.669138",
     "exception": false,
     "start_time": "2023-06-30T09:06:43.641223",
     "status": "completed"
    },
    "tags": []
   },
   "outputs": [],
   "source": [
    "# Lines below will give you a hint or solution code\n",
    "#step_7.a.hint()\n",
    "#step_7.a.solution_plot()"
   ]
  },
  {
   "cell_type": "markdown",
   "id": "03392098",
   "metadata": {
    "papermill": {
     "duration": 0.018318,
     "end_time": "2023-06-30T09:06:43.706144",
     "exception": false,
     "start_time": "2023-06-30T09:06:43.687826",
     "status": "completed"
    },
    "tags": []
   },
   "source": [
    "#### Part B\n",
    "\n",
    "You decide to dedicate a section of your report to the fact that chocolate candies tend to be more popular than candies without chocolate.  Which plot is more appropriate to tell this story: the plot from **Step 6**, or the plot from **Step 7**?"
   ]
  },
  {
   "cell_type": "code",
   "execution_count": 24,
   "id": "28089e47",
   "metadata": {
    "execution": {
     "iopub.execute_input": "2023-06-30T09:06:43.746795Z",
     "iopub.status.busy": "2023-06-30T09:06:43.745560Z",
     "iopub.status.idle": "2023-06-30T09:06:43.751028Z",
     "shell.execute_reply": "2023-06-30T09:06:43.750038Z"
    },
    "papermill": {
     "duration": 0.028706,
     "end_time": "2023-06-30T09:06:43.753611",
     "exception": false,
     "start_time": "2023-06-30T09:06:43.724905",
     "status": "completed"
    },
    "tags": []
   },
   "outputs": [],
   "source": [
    "#step_7.b.hint()"
   ]
  },
  {
   "cell_type": "code",
   "execution_count": 25,
   "id": "812d80d1",
   "metadata": {
    "execution": {
     "iopub.execute_input": "2023-06-30T09:06:43.795639Z",
     "iopub.status.busy": "2023-06-30T09:06:43.794824Z",
     "iopub.status.idle": "2023-06-30T09:06:43.804574Z",
     "shell.execute_reply": "2023-06-30T09:06:43.803155Z"
    },
    "papermill": {
     "duration": 0.033004,
     "end_time": "2023-06-30T09:06:43.806847",
     "exception": false,
     "start_time": "2023-06-30T09:06:43.773843",
     "status": "completed"
    },
    "tags": []
   },
   "outputs": [
    {
     "data": {
      "application/javascript": [
       "parent.postMessage({\"jupyterEvent\": \"custom.exercise_interaction\", \"data\": {\"interactionType\": 3, \"questionType\": 4, \"questionId\": \"7.2_ThinkSwarm\", \"learnToolsVersion\": \"0.3.4\", \"valueTowardsCompletion\": 0.0, \"failureMessage\": \"\", \"exceptionClass\": \"\", \"trace\": \"\", \"outcomeType\": 4}}, \"*\")"
      ],
      "text/plain": [
       "<IPython.core.display.Javascript object>"
      ]
     },
     "metadata": {},
     "output_type": "display_data"
    },
    {
     "data": {
      "text/markdown": [
       "<span style=\"color:#33cc99\">Solution:</span> In this case, the categorical scatter plot from **Step 7** is the more appropriate plot. While both plots tell the desired story, the plot from **Step 6** conveys far more information that could distract from the main point."
      ],
      "text/plain": [
       "Solution: In this case, the categorical scatter plot from **Step 7** is the more appropriate plot. While both plots tell the desired story, the plot from **Step 6** conveys far more information that could distract from the main point."
      ]
     },
     "metadata": {},
     "output_type": "display_data"
    }
   ],
   "source": [
    "# Check your answer (Run this code cell to receive credit!)\n",
    "step_7.b.solution()"
   ]
  },
  {
   "cell_type": "markdown",
   "id": "c8338bb1",
   "metadata": {
    "papermill": {
     "duration": 0.018763,
     "end_time": "2023-06-30T09:06:43.844753",
     "exception": false,
     "start_time": "2023-06-30T09:06:43.825990",
     "status": "completed"
    },
    "tags": []
   },
   "source": [
    "## Keep going\n",
    "\n",
    "Explore **[histograms and density plots](https://www.kaggle.com/alexisbcook/distributions)**."
   ]
  },
  {
   "cell_type": "markdown",
   "id": "5d21dc7b",
   "metadata": {
    "papermill": {
     "duration": 0.018556,
     "end_time": "2023-06-30T09:06:43.882974",
     "exception": false,
     "start_time": "2023-06-30T09:06:43.864418",
     "status": "completed"
    },
    "tags": []
   },
   "source": [
    "---\n",
    "\n",
    "\n",
    "\n",
    "\n",
    "*Have questions or comments? Visit the [course discussion forum](https://www.kaggle.com/learn/data-visualization/discussion) to chat with other learners.*"
   ]
  }
 ],
 "metadata": {
  "kernelspec": {
   "display_name": "Python 3",
   "language": "python",
   "name": "python3"
  },
  "language_info": {
   "codemirror_mode": {
    "name": "ipython",
    "version": 3
   },
   "file_extension": ".py",
   "mimetype": "text/x-python",
   "name": "python",
   "nbconvert_exporter": "python",
   "pygments_lexer": "ipython3",
   "version": "3.10.10"
  },
  "papermill": {
   "default_parameters": {},
   "duration": 21.860798,
   "end_time": "2023-06-30T09:06:45.430647",
   "environment_variables": {},
   "exception": null,
   "input_path": "__notebook__.ipynb",
   "output_path": "__notebook__.ipynb",
   "parameters": {},
   "start_time": "2023-06-30T09:06:23.569849",
   "version": "2.4.0"
  }
 },
 "nbformat": 4,
 "nbformat_minor": 5
}
