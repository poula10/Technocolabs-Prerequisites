{
 "cells": [
  {
   "cell_type": "markdown",
   "id": "56a64e2e",
   "metadata": {
    "papermill": {
     "duration": 0.006561,
     "end_time": "2023-06-26T13:22:32.202573",
     "exception": false,
     "start_time": "2023-06-26T13:22:32.196012",
     "status": "completed"
    },
    "tags": []
   },
   "source": [
    "**This notebook is an exercise in the [Data Cleaning](https://www.kaggle.com/learn/data-cleaning) course.  You can reference the tutorial at [this link](https://www.kaggle.com/alexisbcook/character-encodings).**\n",
    "\n",
    "---\n"
   ]
  },
  {
   "cell_type": "markdown",
   "id": "cd7cef25",
   "metadata": {
    "papermill": {
     "duration": 0.005637,
     "end_time": "2023-06-26T13:22:32.214406",
     "exception": false,
     "start_time": "2023-06-26T13:22:32.208769",
     "status": "completed"
    },
    "tags": []
   },
   "source": [
    "In this exercise, you'll apply what you learned in the **Character encodings** tutorial.\n",
    "\n",
    "# Setup\n",
    "\n",
    "The questions below will give you feedback on your work. Run the following cell to set up the feedback system."
   ]
  },
  {
   "cell_type": "code",
   "execution_count": 1,
   "id": "47b6a0b4",
   "metadata": {
    "execution": {
     "iopub.execute_input": "2023-06-26T13:22:32.229432Z",
     "iopub.status.busy": "2023-06-26T13:22:32.228537Z",
     "iopub.status.idle": "2023-06-26T13:22:32.328118Z",
     "shell.execute_reply": "2023-06-26T13:22:32.326943Z"
    },
    "papermill": {
     "duration": 0.110002,
     "end_time": "2023-06-26T13:22:32.330816",
     "exception": false,
     "start_time": "2023-06-26T13:22:32.220814",
     "status": "completed"
    },
    "tags": []
   },
   "outputs": [
    {
     "name": "stdout",
     "output_type": "stream",
     "text": [
      "Setup Complete\n"
     ]
    }
   ],
   "source": [
    "from learntools.core import binder\n",
    "binder.bind(globals())\n",
    "from learntools.data_cleaning.ex4 import *\n",
    "print(\"Setup Complete\")"
   ]
  },
  {
   "cell_type": "markdown",
   "id": "1e2e1c04",
   "metadata": {
    "papermill": {
     "duration": 0.00588,
     "end_time": "2023-06-26T13:22:32.342821",
     "exception": false,
     "start_time": "2023-06-26T13:22:32.336941",
     "status": "completed"
    },
    "tags": []
   },
   "source": [
    "# Get our environment set up\n",
    "\n",
    "The first thing we'll need to do is load in the libraries we'll be using."
   ]
  },
  {
   "cell_type": "code",
   "execution_count": 2,
   "id": "be2a8747",
   "metadata": {
    "execution": {
     "iopub.execute_input": "2023-06-26T13:22:32.357255Z",
     "iopub.status.busy": "2023-06-26T13:22:32.356520Z",
     "iopub.status.idle": "2023-06-26T13:22:32.361629Z",
     "shell.execute_reply": "2023-06-26T13:22:32.360859Z"
    },
    "papermill": {
     "duration": 0.014965,
     "end_time": "2023-06-26T13:22:32.363852",
     "exception": false,
     "start_time": "2023-06-26T13:22:32.348887",
     "status": "completed"
    },
    "tags": []
   },
   "outputs": [],
   "source": [
    "# modules we'll use\n",
    "import pandas as pd\n",
    "import numpy as np\n",
    "\n",
    "# helpful character encoding module\n",
    "import charset_normalizer\n",
    "\n",
    "# set seed for reproducibility\n",
    "np.random.seed(0)"
   ]
  },
  {
   "cell_type": "markdown",
   "id": "ea8be3d6",
   "metadata": {
    "papermill": {
     "duration": 0.007432,
     "end_time": "2023-06-26T13:22:32.377521",
     "exception": false,
     "start_time": "2023-06-26T13:22:32.370089",
     "status": "completed"
    },
    "tags": []
   },
   "source": [
    "charset_normalizer.detect# 1) What are encodings?\n",
    "\n",
    "You're working with a dataset composed of bytes.  Run the code cell below to print a sample entry."
   ]
  },
  {
   "cell_type": "code",
   "execution_count": 3,
   "id": "72d3c797",
   "metadata": {
    "execution": {
     "iopub.execute_input": "2023-06-26T13:22:32.392005Z",
     "iopub.status.busy": "2023-06-26T13:22:32.391204Z",
     "iopub.status.idle": "2023-06-26T13:22:32.397115Z",
     "shell.execute_reply": "2023-06-26T13:22:32.396073Z"
    },
    "papermill": {
     "duration": 0.015903,
     "end_time": "2023-06-26T13:22:32.399512",
     "exception": false,
     "start_time": "2023-06-26T13:22:32.383609",
     "status": "completed"
    },
    "tags": []
   },
   "outputs": [
    {
     "name": "stdout",
     "output_type": "stream",
     "text": [
      "b'\\xa7A\\xa6n'\n",
      "data type: <class 'bytes'>\n"
     ]
    }
   ],
   "source": [
    "sample_entry = b'\\xa7A\\xa6n'\n",
    "print(sample_entry)\n",
    "print('data type:', type(sample_entry))"
   ]
  },
  {
   "cell_type": "markdown",
   "id": "acd742f3",
   "metadata": {
    "papermill": {
     "duration": 0.006034,
     "end_time": "2023-06-26T13:22:32.411810",
     "exception": false,
     "start_time": "2023-06-26T13:22:32.405776",
     "status": "completed"
    },
    "tags": []
   },
   "source": [
    "You notice that it doesn't use the standard UTF-8 encoding. \n",
    "\n",
    "Use the next code cell to create a variable `new_entry` that changes the encoding from `\"big5-tw\"` to `\"utf-8\"`.  `new_entry` should have the bytes datatype."
   ]
  },
  {
   "cell_type": "code",
   "execution_count": 4,
   "id": "7c1b133d",
   "metadata": {
    "execution": {
     "iopub.execute_input": "2023-06-26T13:22:32.426292Z",
     "iopub.status.busy": "2023-06-26T13:22:32.425437Z",
     "iopub.status.idle": "2023-06-26T13:22:32.434653Z",
     "shell.execute_reply": "2023-06-26T13:22:32.433847Z"
    },
    "papermill": {
     "duration": 0.018984,
     "end_time": "2023-06-26T13:22:32.436954",
     "exception": false,
     "start_time": "2023-06-26T13:22:32.417970",
     "status": "completed"
    },
    "tags": []
   },
   "outputs": [
    {
     "data": {
      "application/javascript": [
       "parent.postMessage({\"jupyterEvent\": \"custom.exercise_interaction\", \"data\": {\"outcomeType\": 1, \"valueTowardsCompletion\": 0.3333333333333333, \"interactionType\": 1, \"questionType\": 1, \"questionId\": \"1_EncodingsIntro\", \"learnToolsVersion\": \"0.3.4\", \"failureMessage\": \"\", \"exceptionClass\": \"\", \"trace\": \"\"}}, \"*\")"
      ],
      "text/plain": [
       "<IPython.core.display.Javascript object>"
      ]
     },
     "metadata": {},
     "output_type": "display_data"
    },
    {
     "data": {
      "text/markdown": [
       "<span style=\"color:#33cc33\">Correct</span>"
      ],
      "text/plain": [
       "Correct"
      ]
     },
     "metadata": {},
     "output_type": "display_data"
    }
   ],
   "source": [
    "new_entry = sample_entry.decode(\"big5-tw\").encode('utf-8')\n",
    "# Check your answer\n",
    "q1.check()"
   ]
  },
  {
   "cell_type": "code",
   "execution_count": 5,
   "id": "c5e6288b",
   "metadata": {
    "execution": {
     "iopub.execute_input": "2023-06-26T13:22:32.452511Z",
     "iopub.status.busy": "2023-06-26T13:22:32.451717Z",
     "iopub.status.idle": "2023-06-26T13:22:32.455966Z",
     "shell.execute_reply": "2023-06-26T13:22:32.455111Z"
    },
    "papermill": {
     "duration": 0.014479,
     "end_time": "2023-06-26T13:22:32.458119",
     "exception": false,
     "start_time": "2023-06-26T13:22:32.443640",
     "status": "completed"
    },
    "tags": []
   },
   "outputs": [],
   "source": [
    "# Lines below will give you a hint or solution code\n",
    "#q1.hint()\n",
    "#q1.solution()"
   ]
  },
  {
   "cell_type": "markdown",
   "id": "f8858bca",
   "metadata": {
    "papermill": {
     "duration": 0.006226,
     "end_time": "2023-06-26T13:22:32.470884",
     "exception": false,
     "start_time": "2023-06-26T13:22:32.464658",
     "status": "completed"
    },
    "tags": []
   },
   "source": [
    "# 2) Reading in files with encoding problems\n",
    "\n",
    "Use the code cell below to read in this file at path `\"../input/fatal-police-shootings-in-the-us/PoliceKillingsUS.csv\"`.  \n",
    "\n",
    "Figure out what the correct encoding should be and read in the file to a DataFrame `police_killings`."
   ]
  },
  {
   "cell_type": "code",
   "execution_count": 6,
   "id": "398e7ccc",
   "metadata": {
    "execution": {
     "iopub.execute_input": "2023-06-26T13:22:32.485874Z",
     "iopub.status.busy": "2023-06-26T13:22:32.485416Z",
     "iopub.status.idle": "2023-06-26T13:22:33.020287Z",
     "shell.execute_reply": "2023-06-26T13:22:33.019177Z"
    },
    "papermill": {
     "duration": 0.545271,
     "end_time": "2023-06-26T13:22:33.022598",
     "exception": false,
     "start_time": "2023-06-26T13:22:32.477327",
     "status": "completed"
    },
    "tags": []
   },
   "outputs": [
    {
     "name": "stdout",
     "output_type": "stream",
     "text": [
      "{'encoding': 'windows-1250', 'language': 'English', 'confidence': 1.0}\n"
     ]
    },
    {
     "data": {
      "application/javascript": [
       "parent.postMessage({\"jupyterEvent\": \"custom.exercise_interaction\", \"data\": {\"outcomeType\": 1, \"valueTowardsCompletion\": 0.3333333333333333, \"interactionType\": 1, \"questionType\": 1, \"questionId\": \"2_ReadIn\", \"learnToolsVersion\": \"0.3.4\", \"failureMessage\": \"\", \"exceptionClass\": \"\", \"trace\": \"\"}}, \"*\")"
      ],
      "text/plain": [
       "<IPython.core.display.Javascript object>"
      ]
     },
     "metadata": {},
     "output_type": "display_data"
    },
    {
     "data": {
      "text/markdown": [
       "<span style=\"color:#33cc33\">Correct</span>"
      ],
      "text/plain": [
       "Correct"
      ]
     },
     "metadata": {},
     "output_type": "display_data"
    }
   ],
   "source": [
    "# TODO: Load in the DataFrame correctly.\n",
    "with open (\"../input/fatal-police-shootings-in-the-us/PoliceKillingsUS.csv\",'rb') as rawdata:\n",
    "  result = charset_normalizer.detect(bytes(rawdata.read(100000)))\n",
    "    \n",
    "print(result)\n",
    "police_killings = pd.read_csv(\"../input/fatal-police-shootings-in-the-us/PoliceKillingsUS.csv\",encoding = result['encoding'])\n",
    "# Check your answer\n",
    "q2.check()"
   ]
  },
  {
   "cell_type": "markdown",
   "id": "b47833f5",
   "metadata": {
    "papermill": {
     "duration": 0.006805,
     "end_time": "2023-06-26T13:22:33.036345",
     "exception": false,
     "start_time": "2023-06-26T13:22:33.029540",
     "status": "completed"
    },
    "tags": []
   },
   "source": [
    "Feel free to use any additional code cells for supplemental work.  To get credit for finishing this question, you'll need to run `q2.check()` and get a result of **Correct**."
   ]
  },
  {
   "cell_type": "code",
   "execution_count": 7,
   "id": "68852907",
   "metadata": {
    "execution": {
     "iopub.execute_input": "2023-06-26T13:22:33.052824Z",
     "iopub.status.busy": "2023-06-26T13:22:33.052134Z",
     "iopub.status.idle": "2023-06-26T13:22:33.056842Z",
     "shell.execute_reply": "2023-06-26T13:22:33.056018Z"
    },
    "papermill": {
     "duration": 0.015725,
     "end_time": "2023-06-26T13:22:33.059147",
     "exception": false,
     "start_time": "2023-06-26T13:22:33.043422",
     "status": "completed"
    },
    "tags": []
   },
   "outputs": [],
   "source": [
    "# (Optional) Use this code cell for any additional work."
   ]
  },
  {
   "cell_type": "code",
   "execution_count": 8,
   "id": "082a06ac",
   "metadata": {
    "execution": {
     "iopub.execute_input": "2023-06-26T13:22:33.075618Z",
     "iopub.status.busy": "2023-06-26T13:22:33.074946Z",
     "iopub.status.idle": "2023-06-26T13:22:33.079588Z",
     "shell.execute_reply": "2023-06-26T13:22:33.078647Z"
    },
    "papermill": {
     "duration": 0.015901,
     "end_time": "2023-06-26T13:22:33.082189",
     "exception": false,
     "start_time": "2023-06-26T13:22:33.066288",
     "status": "completed"
    },
    "tags": []
   },
   "outputs": [],
   "source": [
    "# Lines below will give you a hint or solution code\n",
    "#q2.hint()\n",
    "#q2.solution()"
   ]
  },
  {
   "cell_type": "markdown",
   "id": "df13c38d",
   "metadata": {
    "papermill": {
     "duration": 0.006794,
     "end_time": "2023-06-26T13:22:33.096145",
     "exception": false,
     "start_time": "2023-06-26T13:22:33.089351",
     "status": "completed"
    },
    "tags": []
   },
   "source": [
    "# 3) Saving your files with UTF-8 encoding\n",
    "\n",
    "Save a version of the police killings dataset to CSV with UTF-8 encoding.  Your answer will be marked correct after saving this file.  \n",
    "\n",
    "Note: When using the `to_csv()` method, supply only the name of the file (e.g., `\"my_file.csv\"`).  This saves the file at the filepath `\"/kaggle/working/my_file.csv\"`."
   ]
  },
  {
   "cell_type": "code",
   "execution_count": 9,
   "id": "332c2f50",
   "metadata": {
    "execution": {
     "iopub.execute_input": "2023-06-26T13:22:33.113460Z",
     "iopub.status.busy": "2023-06-26T13:22:33.112327Z",
     "iopub.status.idle": "2023-06-26T13:22:33.171789Z",
     "shell.execute_reply": "2023-06-26T13:22:33.170831Z"
    },
    "papermill": {
     "duration": 0.070783,
     "end_time": "2023-06-26T13:22:33.174014",
     "exception": false,
     "start_time": "2023-06-26T13:22:33.103231",
     "status": "completed"
    },
    "tags": []
   },
   "outputs": [
    {
     "data": {
      "application/javascript": [
       "parent.postMessage({\"jupyterEvent\": \"custom.exercise_interaction\", \"data\": {\"outcomeType\": 1, \"valueTowardsCompletion\": 0.3333333333333333, \"interactionType\": 1, \"questionType\": 2, \"questionId\": \"3_SaveCSV\", \"learnToolsVersion\": \"0.3.4\", \"failureMessage\": \"\", \"exceptionClass\": \"\", \"trace\": \"\"}}, \"*\")"
      ],
      "text/plain": [
       "<IPython.core.display.Javascript object>"
      ]
     },
     "metadata": {},
     "output_type": "display_data"
    },
    {
     "data": {
      "text/markdown": [
       "<span style=\"color:#33cc33\">Correct</span>"
      ],
      "text/plain": [
       "Correct"
      ]
     },
     "metadata": {},
     "output_type": "display_data"
    }
   ],
   "source": [
    "# TODO: Save the police killings dataset to CSV\n",
    "police_killings.to_csv(\"/kaggle/working/my_file.csv\")\n",
    "\n",
    "# Check your answer\n",
    "q3.check()"
   ]
  },
  {
   "cell_type": "code",
   "execution_count": 10,
   "id": "58bd935a",
   "metadata": {
    "execution": {
     "iopub.execute_input": "2023-06-26T13:22:33.190750Z",
     "iopub.status.busy": "2023-06-26T13:22:33.190343Z",
     "iopub.status.idle": "2023-06-26T13:22:33.195018Z",
     "shell.execute_reply": "2023-06-26T13:22:33.193965Z"
    },
    "papermill": {
     "duration": 0.016058,
     "end_time": "2023-06-26T13:22:33.197533",
     "exception": false,
     "start_time": "2023-06-26T13:22:33.181475",
     "status": "completed"
    },
    "tags": []
   },
   "outputs": [],
   "source": [
    "# Lines below will give you a hint or solution code\n",
    "#q3.hint()\n",
    "#q3.solution()"
   ]
  },
  {
   "cell_type": "markdown",
   "id": "19404b20",
   "metadata": {
    "papermill": {
     "duration": 0.007367,
     "end_time": "2023-06-26T13:22:33.212554",
     "exception": false,
     "start_time": "2023-06-26T13:22:33.205187",
     "status": "completed"
    },
    "tags": []
   },
   "source": [
    "# (Optional) More practice\n",
    "\n",
    "Check out [this dataset of files in different character encodings](https://www.kaggle.com/rtatman/character-encoding-examples). Can you read in all the files with their original encodings and them save them out as UTF-8 files?\n",
    "\n",
    "If you have a file that's in UTF-8 but has just a couple of weird-looking characters in it, you can try out the [ftfy module](https://ftfy.readthedocs.io/en/latest/#) and see if it helps. \n",
    "\n",
    "# Keep going\n",
    "\n",
    "In the final lesson, learn how to [**clean up inconsistent text entries**](https://www.kaggle.com/alexisbcook/inconsistent-data-entry) in your dataset."
   ]
  },
  {
   "cell_type": "markdown",
   "id": "ff19bdcd",
   "metadata": {
    "papermill": {
     "duration": 0.007152,
     "end_time": "2023-06-26T13:22:33.227319",
     "exception": false,
     "start_time": "2023-06-26T13:22:33.220167",
     "status": "completed"
    },
    "tags": []
   },
   "source": [
    "---\n",
    "\n",
    "\n",
    "\n",
    "\n",
    "*Have questions or comments? Visit the [course discussion forum](https://www.kaggle.com/learn/data-cleaning/discussion) to chat with other learners.*"
   ]
  }
 ],
 "metadata": {
  "kernelspec": {
   "display_name": "Python 3",
   "language": "python",
   "name": "python3"
  },
  "language_info": {
   "codemirror_mode": {
    "name": "ipython",
    "version": 3
   },
   "file_extension": ".py",
   "mimetype": "text/x-python",
   "name": "python",
   "nbconvert_exporter": "python",
   "pygments_lexer": "ipython3",
   "version": "3.10.10"
  },
  "papermill": {
   "default_parameters": {},
   "duration": 14.153298,
   "end_time": "2023-06-26T13:22:34.156638",
   "environment_variables": {},
   "exception": null,
   "input_path": "__notebook__.ipynb",
   "output_path": "__notebook__.ipynb",
   "parameters": {},
   "start_time": "2023-06-26T13:22:20.003340",
   "version": "2.4.0"
  }
 },
 "nbformat": 4,
 "nbformat_minor": 5
}
