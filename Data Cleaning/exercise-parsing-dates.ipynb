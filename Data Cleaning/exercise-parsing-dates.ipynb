{
 "cells": [
  {
   "cell_type": "markdown",
   "id": "634ad8e2",
   "metadata": {
    "papermill": {
     "duration": 0.008651,
     "end_time": "2023-06-26T08:28:13.429348",
     "exception": false,
     "start_time": "2023-06-26T08:28:13.420697",
     "status": "completed"
    },
    "tags": []
   },
   "source": [
    "**This notebook is an exercise in the [Data Cleaning](https://www.kaggle.com/learn/data-cleaning) course.  You can reference the tutorial at [this link](https://www.kaggle.com/alexisbcook/parsing-dates).**\n",
    "\n",
    "---\n"
   ]
  },
  {
   "cell_type": "markdown",
   "id": "3245c972",
   "metadata": {
    "papermill": {
     "duration": 0.006228,
     "end_time": "2023-06-26T08:28:13.442272",
     "exception": false,
     "start_time": "2023-06-26T08:28:13.436044",
     "status": "completed"
    },
    "tags": []
   },
   "source": [
    "In this exercise, you'll apply what you learned in the **Parsing dates** tutorial.\n",
    "\n",
    "# Setup\n",
    "\n",
    "The questions below will give you feedback on your work. Run the following cell to set up the feedback system."
   ]
  },
  {
   "cell_type": "code",
   "execution_count": 1,
   "id": "be9abe00",
   "metadata": {
    "execution": {
     "iopub.execute_input": "2023-06-26T08:28:13.457747Z",
     "iopub.status.busy": "2023-06-26T08:28:13.456896Z",
     "iopub.status.idle": "2023-06-26T08:28:15.027417Z",
     "shell.execute_reply": "2023-06-26T08:28:15.026347Z"
    },
    "papermill": {
     "duration": 1.580933,
     "end_time": "2023-06-26T08:28:15.029674",
     "exception": false,
     "start_time": "2023-06-26T08:28:13.448741",
     "status": "completed"
    },
    "tags": []
   },
   "outputs": [
    {
     "name": "stdout",
     "output_type": "stream",
     "text": [
      "Setup Complete\n"
     ]
    }
   ],
   "source": [
    "from learntools.core import binder\n",
    "binder.bind(globals())\n",
    "from learntools.data_cleaning.ex3 import *\n",
    "print(\"Setup Complete\")"
   ]
  },
  {
   "cell_type": "markdown",
   "id": "1c63ec33",
   "metadata": {
    "papermill": {
     "duration": 0.006346,
     "end_time": "2023-06-26T08:28:15.042941",
     "exception": false,
     "start_time": "2023-06-26T08:28:15.036595",
     "status": "completed"
    },
    "tags": []
   },
   "source": [
    "# Get our environment set up\n",
    "\n",
    "The first thing we'll need to do is load in the libraries and dataset we'll be using. We'll be working with a dataset containing information on earthquakes that occured between 1965 and 2016."
   ]
  },
  {
   "cell_type": "code",
   "execution_count": 2,
   "id": "74ef6ac0",
   "metadata": {
    "execution": {
     "iopub.execute_input": "2023-06-26T08:28:15.058333Z",
     "iopub.status.busy": "2023-06-26T08:28:15.057739Z",
     "iopub.status.idle": "2023-06-26T08:28:15.146018Z",
     "shell.execute_reply": "2023-06-26T08:28:15.145205Z"
    },
    "papermill": {
     "duration": 0.09895,
     "end_time": "2023-06-26T08:28:15.148366",
     "exception": false,
     "start_time": "2023-06-26T08:28:15.049416",
     "status": "completed"
    },
    "tags": []
   },
   "outputs": [],
   "source": [
    "# modules we'll use\n",
    "import pandas as pd\n",
    "import numpy as np\n",
    "import seaborn as sns\n",
    "import datetime\n",
    "\n",
    "# read in our data\n",
    "earthquakes = pd.read_csv(\"../input/earthquake-database/database.csv\")\n",
    "\n",
    "# set seed for reproducibility\n",
    "np.random.seed(0)"
   ]
  },
  {
   "cell_type": "markdown",
   "id": "1ecd233e",
   "metadata": {
    "papermill": {
     "duration": 0.006207,
     "end_time": "2023-06-26T08:28:15.161100",
     "exception": false,
     "start_time": "2023-06-26T08:28:15.154893",
     "status": "completed"
    },
    "tags": []
   },
   "source": [
    "# 1) Check the data type of our date column\n",
    "\n",
    "You'll be working with the \"Date\" column from the `earthquakes` dataframe.  Investigate this column now: does it look like it contains dates?  What is the dtype of the column?"
   ]
  },
  {
   "cell_type": "code",
   "execution_count": 3,
   "id": "c4ee90b6",
   "metadata": {
    "execution": {
     "iopub.execute_input": "2023-06-26T08:28:15.175910Z",
     "iopub.status.busy": "2023-06-26T08:28:15.175513Z",
     "iopub.status.idle": "2023-06-26T08:28:15.182813Z",
     "shell.execute_reply": "2023-06-26T08:28:15.181830Z"
    },
    "papermill": {
     "duration": 0.017453,
     "end_time": "2023-06-26T08:28:15.185017",
     "exception": false,
     "start_time": "2023-06-26T08:28:15.167564",
     "status": "completed"
    },
    "tags": []
   },
   "outputs": [
    {
     "data": {
      "text/plain": [
       "dtype('O')"
      ]
     },
     "execution_count": 3,
     "metadata": {},
     "output_type": "execute_result"
    }
   ],
   "source": [
    "earthquakes['Date'].head().dtype"
   ]
  },
  {
   "cell_type": "markdown",
   "id": "a163be94",
   "metadata": {
    "papermill": {
     "duration": 0.006348,
     "end_time": "2023-06-26T08:28:15.197885",
     "exception": false,
     "start_time": "2023-06-26T08:28:15.191537",
     "status": "completed"
    },
    "tags": []
   },
   "source": [
    "Once you have answered the question above, run the code cell below to get credit for your work."
   ]
  },
  {
   "cell_type": "code",
   "execution_count": 4,
   "id": "a163bf89",
   "metadata": {
    "execution": {
     "iopub.execute_input": "2023-06-26T08:28:15.212774Z",
     "iopub.status.busy": "2023-06-26T08:28:15.212140Z",
     "iopub.status.idle": "2023-06-26T08:28:15.220254Z",
     "shell.execute_reply": "2023-06-26T08:28:15.219399Z"
    },
    "papermill": {
     "duration": 0.017859,
     "end_time": "2023-06-26T08:28:15.222191",
     "exception": false,
     "start_time": "2023-06-26T08:28:15.204332",
     "status": "completed"
    },
    "tags": []
   },
   "outputs": [
    {
     "data": {
      "application/javascript": [
       "parent.postMessage({\"jupyterEvent\": \"custom.exercise_interaction\", \"data\": {\"outcomeType\": 1, \"valueTowardsCompletion\": 0.25, \"interactionType\": 1, \"questionType\": 4, \"questionId\": \"1_CheckDtype\", \"learnToolsVersion\": \"0.3.4\", \"failureMessage\": \"\", \"exceptionClass\": \"\", \"trace\": \"\"}}, \"*\")"
      ],
      "text/plain": [
       "<IPython.core.display.Javascript object>"
      ]
     },
     "metadata": {},
     "output_type": "display_data"
    },
    {
     "data": {
      "text/markdown": [
       "<span style=\"color:#33cc33\">Correct:</span> \n",
       "\n",
       "The \"Date\" column in the `earthquakes` DataFrame does have dates.  The dtype is \"object\"."
      ],
      "text/plain": [
       "Correct: \n",
       "\n",
       "The \"Date\" column in the `earthquakes` DataFrame does have dates.  The dtype is \"object\"."
      ]
     },
     "metadata": {},
     "output_type": "display_data"
    }
   ],
   "source": [
    "# Check your answer (Run this code cell to receive credit!)\n",
    "q1.check()"
   ]
  },
  {
   "cell_type": "code",
   "execution_count": 5,
   "id": "66e4691f",
   "metadata": {
    "execution": {
     "iopub.execute_input": "2023-06-26T08:28:15.237911Z",
     "iopub.status.busy": "2023-06-26T08:28:15.237165Z",
     "iopub.status.idle": "2023-06-26T08:28:15.241449Z",
     "shell.execute_reply": "2023-06-26T08:28:15.240451Z"
    },
    "papermill": {
     "duration": 0.014366,
     "end_time": "2023-06-26T08:28:15.243452",
     "exception": false,
     "start_time": "2023-06-26T08:28:15.229086",
     "status": "completed"
    },
    "tags": []
   },
   "outputs": [],
   "source": [
    "# Line below will give you a hint\n",
    "#q1.hint()"
   ]
  },
  {
   "cell_type": "markdown",
   "id": "f443670e",
   "metadata": {
    "papermill": {
     "duration": 0.006585,
     "end_time": "2023-06-26T08:28:15.256740",
     "exception": false,
     "start_time": "2023-06-26T08:28:15.250155",
     "status": "completed"
    },
    "tags": []
   },
   "source": [
    "# 2) Convert our date columns to datetime\n",
    "\n",
    "Most of the entries in the \"Date\" column follow the same format: \"month/day/four-digit year\".  However, the entry at index 3378 follows a completely different pattern.  Run the code cell below to see this."
   ]
  },
  {
   "cell_type": "code",
   "execution_count": 6,
   "id": "bf92a090",
   "metadata": {
    "execution": {
     "iopub.execute_input": "2023-06-26T08:28:15.272007Z",
     "iopub.status.busy": "2023-06-26T08:28:15.271391Z",
     "iopub.status.idle": "2023-06-26T08:28:15.306167Z",
     "shell.execute_reply": "2023-06-26T08:28:15.305117Z"
    },
    "papermill": {
     "duration": 0.045335,
     "end_time": "2023-06-26T08:28:15.308682",
     "exception": false,
     "start_time": "2023-06-26T08:28:15.263347",
     "status": "completed"
    },
    "tags": []
   },
   "outputs": [
    {
     "data": {
      "text/html": [
       "<div>\n",
       "<style scoped>\n",
       "    .dataframe tbody tr th:only-of-type {\n",
       "        vertical-align: middle;\n",
       "    }\n",
       "\n",
       "    .dataframe tbody tr th {\n",
       "        vertical-align: top;\n",
       "    }\n",
       "\n",
       "    .dataframe thead th {\n",
       "        text-align: right;\n",
       "    }\n",
       "</style>\n",
       "<table border=\"1\" class=\"dataframe\">\n",
       "  <thead>\n",
       "    <tr style=\"text-align: right;\">\n",
       "      <th></th>\n",
       "      <th>Date</th>\n",
       "      <th>Time</th>\n",
       "      <th>Latitude</th>\n",
       "      <th>Longitude</th>\n",
       "      <th>Type</th>\n",
       "      <th>Depth</th>\n",
       "      <th>Depth Error</th>\n",
       "      <th>Depth Seismic Stations</th>\n",
       "      <th>Magnitude</th>\n",
       "      <th>Magnitude Type</th>\n",
       "      <th>...</th>\n",
       "      <th>Magnitude Seismic Stations</th>\n",
       "      <th>Azimuthal Gap</th>\n",
       "      <th>Horizontal Distance</th>\n",
       "      <th>Horizontal Error</th>\n",
       "      <th>Root Mean Square</th>\n",
       "      <th>ID</th>\n",
       "      <th>Source</th>\n",
       "      <th>Location Source</th>\n",
       "      <th>Magnitude Source</th>\n",
       "      <th>Status</th>\n",
       "    </tr>\n",
       "  </thead>\n",
       "  <tbody>\n",
       "    <tr>\n",
       "      <th>3378</th>\n",
       "      <td>1975-02-23T02:58:41.000Z</td>\n",
       "      <td>1975-02-23T02:58:41.000Z</td>\n",
       "      <td>8.017</td>\n",
       "      <td>124.075</td>\n",
       "      <td>Earthquake</td>\n",
       "      <td>623.0</td>\n",
       "      <td>NaN</td>\n",
       "      <td>NaN</td>\n",
       "      <td>5.6</td>\n",
       "      <td>MB</td>\n",
       "      <td>...</td>\n",
       "      <td>NaN</td>\n",
       "      <td>NaN</td>\n",
       "      <td>NaN</td>\n",
       "      <td>NaN</td>\n",
       "      <td>NaN</td>\n",
       "      <td>USP0000A09</td>\n",
       "      <td>US</td>\n",
       "      <td>US</td>\n",
       "      <td>US</td>\n",
       "      <td>Reviewed</td>\n",
       "    </tr>\n",
       "    <tr>\n",
       "      <th>3379</th>\n",
       "      <td>02/23/1975</td>\n",
       "      <td>03:53:36</td>\n",
       "      <td>-21.727</td>\n",
       "      <td>-71.356</td>\n",
       "      <td>Earthquake</td>\n",
       "      <td>33.0</td>\n",
       "      <td>NaN</td>\n",
       "      <td>NaN</td>\n",
       "      <td>5.6</td>\n",
       "      <td>MB</td>\n",
       "      <td>...</td>\n",
       "      <td>NaN</td>\n",
       "      <td>NaN</td>\n",
       "      <td>NaN</td>\n",
       "      <td>NaN</td>\n",
       "      <td>NaN</td>\n",
       "      <td>USP0000A0A</td>\n",
       "      <td>US</td>\n",
       "      <td>US</td>\n",
       "      <td>US</td>\n",
       "      <td>Reviewed</td>\n",
       "    </tr>\n",
       "    <tr>\n",
       "      <th>3380</th>\n",
       "      <td>02/23/1975</td>\n",
       "      <td>07:34:11</td>\n",
       "      <td>-10.879</td>\n",
       "      <td>166.667</td>\n",
       "      <td>Earthquake</td>\n",
       "      <td>33.0</td>\n",
       "      <td>NaN</td>\n",
       "      <td>NaN</td>\n",
       "      <td>5.5</td>\n",
       "      <td>MS</td>\n",
       "      <td>...</td>\n",
       "      <td>NaN</td>\n",
       "      <td>NaN</td>\n",
       "      <td>NaN</td>\n",
       "      <td>NaN</td>\n",
       "      <td>NaN</td>\n",
       "      <td>USP0000A0C</td>\n",
       "      <td>US</td>\n",
       "      <td>US</td>\n",
       "      <td>US</td>\n",
       "      <td>Reviewed</td>\n",
       "    </tr>\n",
       "    <tr>\n",
       "      <th>3381</th>\n",
       "      <td>02/25/1975</td>\n",
       "      <td>05:20:05</td>\n",
       "      <td>-7.388</td>\n",
       "      <td>149.798</td>\n",
       "      <td>Earthquake</td>\n",
       "      <td>33.0</td>\n",
       "      <td>NaN</td>\n",
       "      <td>NaN</td>\n",
       "      <td>5.5</td>\n",
       "      <td>MB</td>\n",
       "      <td>...</td>\n",
       "      <td>NaN</td>\n",
       "      <td>NaN</td>\n",
       "      <td>NaN</td>\n",
       "      <td>NaN</td>\n",
       "      <td>NaN</td>\n",
       "      <td>USP0000A12</td>\n",
       "      <td>US</td>\n",
       "      <td>US</td>\n",
       "      <td>US</td>\n",
       "      <td>Reviewed</td>\n",
       "    </tr>\n",
       "    <tr>\n",
       "      <th>3382</th>\n",
       "      <td>02/26/1975</td>\n",
       "      <td>04:48:55</td>\n",
       "      <td>85.047</td>\n",
       "      <td>97.969</td>\n",
       "      <td>Earthquake</td>\n",
       "      <td>33.0</td>\n",
       "      <td>NaN</td>\n",
       "      <td>NaN</td>\n",
       "      <td>5.6</td>\n",
       "      <td>MS</td>\n",
       "      <td>...</td>\n",
       "      <td>NaN</td>\n",
       "      <td>NaN</td>\n",
       "      <td>NaN</td>\n",
       "      <td>NaN</td>\n",
       "      <td>NaN</td>\n",
       "      <td>USP0000A1H</td>\n",
       "      <td>US</td>\n",
       "      <td>US</td>\n",
       "      <td>US</td>\n",
       "      <td>Reviewed</td>\n",
       "    </tr>\n",
       "  </tbody>\n",
       "</table>\n",
       "<p>5 rows × 21 columns</p>\n",
       "</div>"
      ],
      "text/plain": [
       "                          Date                      Time  Latitude  Longitude  \\\n",
       "3378  1975-02-23T02:58:41.000Z  1975-02-23T02:58:41.000Z     8.017    124.075   \n",
       "3379                02/23/1975                  03:53:36   -21.727    -71.356   \n",
       "3380                02/23/1975                  07:34:11   -10.879    166.667   \n",
       "3381                02/25/1975                  05:20:05    -7.388    149.798   \n",
       "3382                02/26/1975                  04:48:55    85.047     97.969   \n",
       "\n",
       "            Type  Depth  Depth Error  Depth Seismic Stations  Magnitude  \\\n",
       "3378  Earthquake  623.0          NaN                     NaN        5.6   \n",
       "3379  Earthquake   33.0          NaN                     NaN        5.6   \n",
       "3380  Earthquake   33.0          NaN                     NaN        5.5   \n",
       "3381  Earthquake   33.0          NaN                     NaN        5.5   \n",
       "3382  Earthquake   33.0          NaN                     NaN        5.6   \n",
       "\n",
       "     Magnitude Type  ...  Magnitude Seismic Stations  Azimuthal Gap  \\\n",
       "3378             MB  ...                         NaN            NaN   \n",
       "3379             MB  ...                         NaN            NaN   \n",
       "3380             MS  ...                         NaN            NaN   \n",
       "3381             MB  ...                         NaN            NaN   \n",
       "3382             MS  ...                         NaN            NaN   \n",
       "\n",
       "      Horizontal Distance  Horizontal Error  Root Mean Square          ID  \\\n",
       "3378                  NaN               NaN               NaN  USP0000A09   \n",
       "3379                  NaN               NaN               NaN  USP0000A0A   \n",
       "3380                  NaN               NaN               NaN  USP0000A0C   \n",
       "3381                  NaN               NaN               NaN  USP0000A12   \n",
       "3382                  NaN               NaN               NaN  USP0000A1H   \n",
       "\n",
       "     Source Location Source Magnitude Source    Status  \n",
       "3378     US              US               US  Reviewed  \n",
       "3379     US              US               US  Reviewed  \n",
       "3380     US              US               US  Reviewed  \n",
       "3381     US              US               US  Reviewed  \n",
       "3382     US              US               US  Reviewed  \n",
       "\n",
       "[5 rows x 21 columns]"
      ]
     },
     "execution_count": 6,
     "metadata": {},
     "output_type": "execute_result"
    }
   ],
   "source": [
    "earthquakes[3378:3383]"
   ]
  },
  {
   "cell_type": "markdown",
   "id": "c1dabde1",
   "metadata": {
    "papermill": {
     "duration": 0.006908,
     "end_time": "2023-06-26T08:28:15.323424",
     "exception": false,
     "start_time": "2023-06-26T08:28:15.316516",
     "status": "completed"
    },
    "tags": []
   },
   "source": [
    "This does appear to be an issue with data entry: ideally, all entries in the column have the same format.  We can get an idea of how widespread this issue is by checking the length of each entry in the \"Date\" column."
   ]
  },
  {
   "cell_type": "code",
   "execution_count": 7,
   "id": "a5694d19",
   "metadata": {
    "execution": {
     "iopub.execute_input": "2023-06-26T08:28:15.339140Z",
     "iopub.status.busy": "2023-06-26T08:28:15.338772Z",
     "iopub.status.idle": "2023-06-26T08:28:15.358310Z",
     "shell.execute_reply": "2023-06-26T08:28:15.357251Z"
    },
    "papermill": {
     "duration": 0.029932,
     "end_time": "2023-06-26T08:28:15.360428",
     "exception": false,
     "start_time": "2023-06-26T08:28:15.330496",
     "status": "completed"
    },
    "tags": []
   },
   "outputs": [
    {
     "data": {
      "text/plain": [
       "0        10\n",
       "1        10\n",
       "2        10\n",
       "3        10\n",
       "4        10\n",
       "         ..\n",
       "23407    10\n",
       "23408    10\n",
       "23409    10\n",
       "23410    10\n",
       "23411    10\n",
       "Name: Date, Length: 23412, dtype: int64"
      ]
     },
     "execution_count": 7,
     "metadata": {},
     "output_type": "execute_result"
    }
   ],
   "source": [
    "date_lengths = earthquakes.Date.str.len()\n",
    "date_lengths.value_counts()\n",
    "date_lengths"
   ]
  },
  {
   "cell_type": "markdown",
   "id": "37c234a9",
   "metadata": {
    "papermill": {
     "duration": 0.00706,
     "end_time": "2023-06-26T08:28:15.375041",
     "exception": false,
     "start_time": "2023-06-26T08:28:15.367981",
     "status": "completed"
    },
    "tags": []
   },
   "source": [
    "Looks like there are two more rows that has a date in a different format.  Run the code cell below to obtain the indices corresponding to those rows and print the data."
   ]
  },
  {
   "cell_type": "code",
   "execution_count": 8,
   "id": "1a63cd32",
   "metadata": {
    "execution": {
     "iopub.execute_input": "2023-06-26T08:28:15.391990Z",
     "iopub.status.busy": "2023-06-26T08:28:15.391589Z",
     "iopub.status.idle": "2023-06-26T08:28:15.418860Z",
     "shell.execute_reply": "2023-06-26T08:28:15.417861Z"
    },
    "papermill": {
     "duration": 0.038057,
     "end_time": "2023-06-26T08:28:15.421028",
     "exception": false,
     "start_time": "2023-06-26T08:28:15.382971",
     "status": "completed"
    },
    "tags": []
   },
   "outputs": [
    {
     "name": "stdout",
     "output_type": "stream",
     "text": [
      "Indices with corrupted data: [ 3378  7512 20650]\n"
     ]
    },
    {
     "data": {
      "text/html": [
       "<div>\n",
       "<style scoped>\n",
       "    .dataframe tbody tr th:only-of-type {\n",
       "        vertical-align: middle;\n",
       "    }\n",
       "\n",
       "    .dataframe tbody tr th {\n",
       "        vertical-align: top;\n",
       "    }\n",
       "\n",
       "    .dataframe thead th {\n",
       "        text-align: right;\n",
       "    }\n",
       "</style>\n",
       "<table border=\"1\" class=\"dataframe\">\n",
       "  <thead>\n",
       "    <tr style=\"text-align: right;\">\n",
       "      <th></th>\n",
       "      <th>Date</th>\n",
       "      <th>Time</th>\n",
       "      <th>Latitude</th>\n",
       "      <th>Longitude</th>\n",
       "      <th>Type</th>\n",
       "      <th>Depth</th>\n",
       "      <th>Depth Error</th>\n",
       "      <th>Depth Seismic Stations</th>\n",
       "      <th>Magnitude</th>\n",
       "      <th>Magnitude Type</th>\n",
       "      <th>...</th>\n",
       "      <th>Magnitude Seismic Stations</th>\n",
       "      <th>Azimuthal Gap</th>\n",
       "      <th>Horizontal Distance</th>\n",
       "      <th>Horizontal Error</th>\n",
       "      <th>Root Mean Square</th>\n",
       "      <th>ID</th>\n",
       "      <th>Source</th>\n",
       "      <th>Location Source</th>\n",
       "      <th>Magnitude Source</th>\n",
       "      <th>Status</th>\n",
       "    </tr>\n",
       "  </thead>\n",
       "  <tbody>\n",
       "    <tr>\n",
       "      <th>3378</th>\n",
       "      <td>1975-02-23T02:58:41.000Z</td>\n",
       "      <td>1975-02-23T02:58:41.000Z</td>\n",
       "      <td>8.017</td>\n",
       "      <td>124.075</td>\n",
       "      <td>Earthquake</td>\n",
       "      <td>623.0</td>\n",
       "      <td>NaN</td>\n",
       "      <td>NaN</td>\n",
       "      <td>5.6</td>\n",
       "      <td>MB</td>\n",
       "      <td>...</td>\n",
       "      <td>NaN</td>\n",
       "      <td>NaN</td>\n",
       "      <td>NaN</td>\n",
       "      <td>NaN</td>\n",
       "      <td>NaN</td>\n",
       "      <td>USP0000A09</td>\n",
       "      <td>US</td>\n",
       "      <td>US</td>\n",
       "      <td>US</td>\n",
       "      <td>Reviewed</td>\n",
       "    </tr>\n",
       "    <tr>\n",
       "      <th>7512</th>\n",
       "      <td>1985-04-28T02:53:41.530Z</td>\n",
       "      <td>1985-04-28T02:53:41.530Z</td>\n",
       "      <td>-32.998</td>\n",
       "      <td>-71.766</td>\n",
       "      <td>Earthquake</td>\n",
       "      <td>33.0</td>\n",
       "      <td>NaN</td>\n",
       "      <td>NaN</td>\n",
       "      <td>5.6</td>\n",
       "      <td>MW</td>\n",
       "      <td>...</td>\n",
       "      <td>NaN</td>\n",
       "      <td>NaN</td>\n",
       "      <td>NaN</td>\n",
       "      <td>NaN</td>\n",
       "      <td>1.30</td>\n",
       "      <td>USP0002E81</td>\n",
       "      <td>US</td>\n",
       "      <td>US</td>\n",
       "      <td>HRV</td>\n",
       "      <td>Reviewed</td>\n",
       "    </tr>\n",
       "    <tr>\n",
       "      <th>20650</th>\n",
       "      <td>2011-03-13T02:23:34.520Z</td>\n",
       "      <td>2011-03-13T02:23:34.520Z</td>\n",
       "      <td>36.344</td>\n",
       "      <td>142.344</td>\n",
       "      <td>Earthquake</td>\n",
       "      <td>10.1</td>\n",
       "      <td>13.9</td>\n",
       "      <td>289.0</td>\n",
       "      <td>5.8</td>\n",
       "      <td>MWC</td>\n",
       "      <td>...</td>\n",
       "      <td>NaN</td>\n",
       "      <td>32.3</td>\n",
       "      <td>NaN</td>\n",
       "      <td>NaN</td>\n",
       "      <td>1.06</td>\n",
       "      <td>USP000HWQP</td>\n",
       "      <td>US</td>\n",
       "      <td>US</td>\n",
       "      <td>GCMT</td>\n",
       "      <td>Reviewed</td>\n",
       "    </tr>\n",
       "  </tbody>\n",
       "</table>\n",
       "<p>3 rows × 21 columns</p>\n",
       "</div>"
      ],
      "text/plain": [
       "                           Date                      Time  Latitude  \\\n",
       "3378   1975-02-23T02:58:41.000Z  1975-02-23T02:58:41.000Z     8.017   \n",
       "7512   1985-04-28T02:53:41.530Z  1985-04-28T02:53:41.530Z   -32.998   \n",
       "20650  2011-03-13T02:23:34.520Z  2011-03-13T02:23:34.520Z    36.344   \n",
       "\n",
       "       Longitude        Type  Depth  Depth Error  Depth Seismic Stations  \\\n",
       "3378     124.075  Earthquake  623.0          NaN                     NaN   \n",
       "7512     -71.766  Earthquake   33.0          NaN                     NaN   \n",
       "20650    142.344  Earthquake   10.1         13.9                   289.0   \n",
       "\n",
       "       Magnitude Magnitude Type  ...  Magnitude Seismic Stations  \\\n",
       "3378         5.6             MB  ...                         NaN   \n",
       "7512         5.6             MW  ...                         NaN   \n",
       "20650        5.8            MWC  ...                         NaN   \n",
       "\n",
       "       Azimuthal Gap  Horizontal Distance  Horizontal Error  Root Mean Square  \\\n",
       "3378             NaN                  NaN               NaN               NaN   \n",
       "7512             NaN                  NaN               NaN              1.30   \n",
       "20650           32.3                  NaN               NaN              1.06   \n",
       "\n",
       "               ID Source Location Source Magnitude Source    Status  \n",
       "3378   USP0000A09     US              US               US  Reviewed  \n",
       "7512   USP0002E81     US              US              HRV  Reviewed  \n",
       "20650  USP000HWQP     US              US             GCMT  Reviewed  \n",
       "\n",
       "[3 rows x 21 columns]"
      ]
     },
     "execution_count": 8,
     "metadata": {},
     "output_type": "execute_result"
    }
   ],
   "source": [
    "indices = np.where([date_lengths == 24])[1]\n",
    "print('Indices with corrupted data:', indices)\n",
    "earthquakes.loc[indices]\n"
   ]
  },
  {
   "cell_type": "markdown",
   "id": "3335f2ec",
   "metadata": {
    "papermill": {
     "duration": 0.007479,
     "end_time": "2023-06-26T08:28:15.436274",
     "exception": false,
     "start_time": "2023-06-26T08:28:15.428795",
     "status": "completed"
    },
    "tags": []
   },
   "source": [
    "Given all of this information, it's your turn to create a new column \"date_parsed\" in the `earthquakes` dataset that has correctly parsed dates in it.  \n",
    "\n",
    "**Note**: When completing this problem, you are allowed to (but are not required to) amend the entries in the \"Date\" and \"Time\" columns.  Do not remove any rows from the dataset."
   ]
  },
  {
   "cell_type": "code",
   "execution_count": 9,
   "id": "e473b50f",
   "metadata": {
    "execution": {
     "iopub.execute_input": "2023-06-26T08:28:15.453072Z",
     "iopub.status.busy": "2023-06-26T08:28:15.452696Z",
     "iopub.status.idle": "2023-06-26T08:28:15.512509Z",
     "shell.execute_reply": "2023-06-26T08:28:15.511493Z"
    },
    "papermill": {
     "duration": 0.070923,
     "end_time": "2023-06-26T08:28:15.514723",
     "exception": false,
     "start_time": "2023-06-26T08:28:15.443800",
     "status": "completed"
    },
    "tags": []
   },
   "outputs": [
    {
     "data": {
      "application/javascript": [
       "parent.postMessage({\"jupyterEvent\": \"custom.exercise_interaction\", \"data\": {\"outcomeType\": 1, \"valueTowardsCompletion\": 0.25, \"interactionType\": 1, \"questionType\": 2, \"questionId\": \"2_ConvertToDatetime\", \"learnToolsVersion\": \"0.3.4\", \"failureMessage\": \"\", \"exceptionClass\": \"\", \"trace\": \"\"}}, \"*\")"
      ],
      "text/plain": [
       "<IPython.core.display.Javascript object>"
      ]
     },
     "metadata": {},
     "output_type": "display_data"
    },
    {
     "data": {
      "text/markdown": [
       "<span style=\"color:#33cc33\">Correct</span>"
      ],
      "text/plain": [
       "Correct"
      ]
     },
     "metadata": {},
     "output_type": "display_data"
    },
    {
     "name": "stdout",
     "output_type": "stream",
     "text": [
      "0       1965-01-02\n",
      "1       1965-01-04\n",
      "2       1965-01-05\n",
      "3       1965-01-08\n",
      "4       1965-01-09\n",
      "           ...    \n",
      "23407   2016-12-28\n",
      "23408   2016-12-28\n",
      "23409   2016-12-28\n",
      "23410   2016-12-29\n",
      "23411   2016-12-30\n",
      "Name: date_parsed, Length: 23412, dtype: datetime64[ns]\n"
     ]
    }
   ],
   "source": [
    "# TODO: Your code here\n",
    "earthquakes['date_parsed']= pd.to_datetime(earthquakes['Date'].drop(indices),format = \"%m/%d/%Y\")\n",
    "earthquakes.loc[indices,'Date'] = earthquakes.loc[indices,'Date'].str[:10]\n",
    "earthquakes.loc[indices,'date_parsed'] = pd.to_datetime(earthquakes.loc[indices,'Date'],format = \"%Y-%m-%d\")\n",
    "\n",
    "#earthquakes['date_parsed'].loc[indices] = pd.to_datetime(earthquakes['Date'].loc[indices],format = \"%Y-%m-%d\")\n",
    "# Check your answer\n",
    "q2.check()\n",
    "print(earthquakes.loc[:,'date_parsed'])"
   ]
  },
  {
   "cell_type": "code",
   "execution_count": 10,
   "id": "0d202fd5",
   "metadata": {
    "execution": {
     "iopub.execute_input": "2023-06-26T08:28:15.532611Z",
     "iopub.status.busy": "2023-06-26T08:28:15.532261Z",
     "iopub.status.idle": "2023-06-26T08:28:15.540804Z",
     "shell.execute_reply": "2023-06-26T08:28:15.539864Z"
    },
    "papermill": {
     "duration": 0.020102,
     "end_time": "2023-06-26T08:28:15.542914",
     "exception": false,
     "start_time": "2023-06-26T08:28:15.522812",
     "status": "completed"
    },
    "tags": []
   },
   "outputs": [
    {
     "data": {
      "application/javascript": [
       "parent.postMessage({\"jupyterEvent\": \"custom.exercise_interaction\", \"data\": {\"interactionType\": 3, \"questionType\": 2, \"questionId\": \"2_ConvertToDatetime\", \"learnToolsVersion\": \"0.3.4\", \"valueTowardsCompletion\": 0.0, \"failureMessage\": \"\", \"exceptionClass\": \"\", \"trace\": \"\", \"outcomeType\": 4}}, \"*\")"
      ],
      "text/plain": [
       "<IPython.core.display.Javascript object>"
      ]
     },
     "metadata": {},
     "output_type": "display_data"
    },
    {
     "data": {
      "text/markdown": [
       "<span style=\"color:#33cc99\">Solution:</span> \n",
       "```python\n",
       "\n",
       "earthquakes.loc[3378, \"Date\"] = \"02/23/1975\"\n",
       "earthquakes.loc[7512, \"Date\"] = \"04/28/1985\"\n",
       "earthquakes.loc[20650, \"Date\"] = \"03/13/2011\"\n",
       "earthquakes['date_parsed'] = pd.to_datetime(earthquakes['Date'], format=\"%m/%d/%Y\")\n",
       "\n",
       "```"
      ],
      "text/plain": [
       "Solution: \n",
       "```python\n",
       "\n",
       "earthquakes.loc[3378, \"Date\"] = \"02/23/1975\"\n",
       "earthquakes.loc[7512, \"Date\"] = \"04/28/1985\"\n",
       "earthquakes.loc[20650, \"Date\"] = \"03/13/2011\"\n",
       "earthquakes['date_parsed'] = pd.to_datetime(earthquakes['Date'], format=\"%m/%d/%Y\")\n",
       "\n",
       "```"
      ]
     },
     "metadata": {},
     "output_type": "display_data"
    }
   ],
   "source": [
    "# Lines below will give you a hint or solution code\n",
    "#q2.hint()\n",
    "q2.solution()"
   ]
  },
  {
   "cell_type": "markdown",
   "id": "5661ba69",
   "metadata": {
    "papermill": {
     "duration": 0.00801,
     "end_time": "2023-06-26T08:28:15.559014",
     "exception": false,
     "start_time": "2023-06-26T08:28:15.551004",
     "status": "completed"
    },
    "tags": []
   },
   "source": [
    "# 3) Select the day of the month\n",
    "\n",
    "Create a Pandas Series `day_of_month_earthquakes` containing the day of the month from the \"date_parsed\" column."
   ]
  },
  {
   "cell_type": "code",
   "execution_count": 11,
   "id": "46a3a351",
   "metadata": {
    "execution": {
     "iopub.execute_input": "2023-06-26T08:28:15.576801Z",
     "iopub.status.busy": "2023-06-26T08:28:15.576205Z",
     "iopub.status.idle": "2023-06-26T08:28:15.586892Z",
     "shell.execute_reply": "2023-06-26T08:28:15.585837Z"
    },
    "papermill": {
     "duration": 0.022659,
     "end_time": "2023-06-26T08:28:15.589668",
     "exception": false,
     "start_time": "2023-06-26T08:28:15.567009",
     "status": "completed"
    },
    "tags": []
   },
   "outputs": [
    {
     "data": {
      "application/javascript": [
       "parent.postMessage({\"jupyterEvent\": \"custom.exercise_interaction\", \"data\": {\"outcomeType\": 1, \"valueTowardsCompletion\": 0.25, \"interactionType\": 1, \"questionType\": 1, \"questionId\": \"3_DayOfMonth\", \"learnToolsVersion\": \"0.3.4\", \"failureMessage\": \"\", \"exceptionClass\": \"\", \"trace\": \"\"}}, \"*\")"
      ],
      "text/plain": [
       "<IPython.core.display.Javascript object>"
      ]
     },
     "metadata": {},
     "output_type": "display_data"
    },
    {
     "data": {
      "text/markdown": [
       "<span style=\"color:#33cc33\">Correct</span>"
      ],
      "text/plain": [
       "Correct"
      ]
     },
     "metadata": {},
     "output_type": "display_data"
    }
   ],
   "source": [
    "# try to get the day of the month from the date column\n",
    "day_of_month_earthquakes = earthquakes['date_parsed'].dt.day\n",
    "\n",
    "# Check your answer\n",
    "q3.check()"
   ]
  },
  {
   "cell_type": "code",
   "execution_count": 12,
   "id": "cb0e5401",
   "metadata": {
    "execution": {
     "iopub.execute_input": "2023-06-26T08:28:15.609198Z",
     "iopub.status.busy": "2023-06-26T08:28:15.608802Z",
     "iopub.status.idle": "2023-06-26T08:28:15.613729Z",
     "shell.execute_reply": "2023-06-26T08:28:15.612529Z"
    },
    "papermill": {
     "duration": 0.017259,
     "end_time": "2023-06-26T08:28:15.616198",
     "exception": false,
     "start_time": "2023-06-26T08:28:15.598939",
     "status": "completed"
    },
    "tags": []
   },
   "outputs": [],
   "source": [
    "# Lines below will give you a hint or solution code\n",
    "#q3.hint()\n",
    "#q3.solution()"
   ]
  },
  {
   "cell_type": "markdown",
   "id": "15f376ad",
   "metadata": {
    "papermill": {
     "duration": 0.008408,
     "end_time": "2023-06-26T08:28:15.633344",
     "exception": false,
     "start_time": "2023-06-26T08:28:15.624936",
     "status": "completed"
    },
    "tags": []
   },
   "source": [
    "# 4) Plot the day of the month to check the date parsing\n",
    "\n",
    "Plot the days of the month from your earthquake dataset."
   ]
  },
  {
   "cell_type": "code",
   "execution_count": 13,
   "id": "8f4f1127",
   "metadata": {
    "execution": {
     "iopub.execute_input": "2023-06-26T08:28:15.652724Z",
     "iopub.status.busy": "2023-06-26T08:28:15.651631Z",
     "iopub.status.idle": "2023-06-26T08:28:16.032686Z",
     "shell.execute_reply": "2023-06-26T08:28:16.031518Z"
    },
    "papermill": {
     "duration": 0.393187,
     "end_time": "2023-06-26T08:28:16.035133",
     "exception": false,
     "start_time": "2023-06-26T08:28:15.641946",
     "status": "completed"
    },
    "tags": []
   },
   "outputs": [
    {
     "data": {
      "text/plain": [
       "<seaborn.axisgrid.FacetGrid at 0x78c344fc7a90>"
      ]
     },
     "execution_count": 13,
     "metadata": {},
     "output_type": "execute_result"
    },
    {
     "data": {
      "image/png": "[encoded data removed]",
      "text/plain": [
       "<Figure size 500x500 with 1 Axes>"
      ]
     },
     "metadata": {},
     "output_type": "display_data"
    }
   ],
   "source": [
    "# TODO: Your code here!\n",
    "sns.displot(day_of_month_earthquakes,bins = 31, kde = False)"
   ]
  },
  {
   "cell_type": "markdown",
   "id": "1f417329",
   "metadata": {
    "papermill": {
     "duration": 0.008498,
     "end_time": "2023-06-26T08:28:16.052640",
     "exception": false,
     "start_time": "2023-06-26T08:28:16.044142",
     "status": "completed"
    },
    "tags": []
   },
   "source": [
    "Does the graph make sense to you?"
   ]
  },
  {
   "cell_type": "code",
   "execution_count": 14,
   "id": "44db38df",
   "metadata": {
    "execution": {
     "iopub.execute_input": "2023-06-26T08:28:16.071860Z",
     "iopub.status.busy": "2023-06-26T08:28:16.071477Z",
     "iopub.status.idle": "2023-06-26T08:28:16.080353Z",
     "shell.execute_reply": "2023-06-26T08:28:16.079423Z"
    },
    "papermill": {
     "duration": 0.021015,
     "end_time": "2023-06-26T08:28:16.082487",
     "exception": false,
     "start_time": "2023-06-26T08:28:16.061472",
     "status": "completed"
    },
    "tags": []
   },
   "outputs": [
    {
     "data": {
      "application/javascript": [
       "parent.postMessage({\"jupyterEvent\": \"custom.exercise_interaction\", \"data\": {\"outcomeType\": 1, \"valueTowardsCompletion\": 0.25, \"interactionType\": 1, \"questionType\": 4, \"questionId\": \"4_PlotDayOfMonth\", \"learnToolsVersion\": \"0.3.4\", \"failureMessage\": \"\", \"exceptionClass\": \"\", \"trace\": \"\"}}, \"*\")"
      ],
      "text/plain": [
       "<IPython.core.display.Javascript object>"
      ]
     },
     "metadata": {},
     "output_type": "display_data"
    },
    {
     "data": {
      "text/markdown": [
       "<span style=\"color:#33cc33\">Correct:</span> \n",
       "\n",
       "The graph should make sense: it shows a relatively even distribution in days of the month,which is what we would expect."
      ],
      "text/plain": [
       "Correct: \n",
       "\n",
       "The graph should make sense: it shows a relatively even distribution in days of the month,which is what we would expect."
      ]
     },
     "metadata": {},
     "output_type": "display_data"
    }
   ],
   "source": [
    "# Check your answer (Run this code cell to receive credit!)\n",
    "q4.check()"
   ]
  },
  {
   "cell_type": "code",
   "execution_count": 15,
   "id": "3aa06c1b",
   "metadata": {
    "execution": {
     "iopub.execute_input": "2023-06-26T08:28:16.102591Z",
     "iopub.status.busy": "2023-06-26T08:28:16.102210Z",
     "iopub.status.idle": "2023-06-26T08:28:16.107007Z",
     "shell.execute_reply": "2023-06-26T08:28:16.106029Z"
    },
    "papermill": {
     "duration": 0.017293,
     "end_time": "2023-06-26T08:28:16.109110",
     "exception": false,
     "start_time": "2023-06-26T08:28:16.091817",
     "status": "completed"
    },
    "tags": []
   },
   "outputs": [],
   "source": [
    "# Line below will give you a hint\n",
    "#q4.hint()"
   ]
  },
  {
   "cell_type": "markdown",
   "id": "dab6d5a6",
   "metadata": {
    "papermill": {
     "duration": 0.008889,
     "end_time": "2023-06-26T08:28:16.127457",
     "exception": false,
     "start_time": "2023-06-26T08:28:16.118568",
     "status": "completed"
    },
    "tags": []
   },
   "source": [
    "# (Optional) Bonus Challenge\n",
    "\n",
    "For an extra challenge, you'll work with a [Smithsonian dataset](https://www.kaggle.com/smithsonian/volcanic-eruptions) that documents Earth's volcanoes and their eruptive history over the past 10,000 years \n",
    "\n",
    "Run the next code cell to load the data."
   ]
  },
  {
   "cell_type": "code",
   "execution_count": 16,
   "id": "b92625a4",
   "metadata": {
    "execution": {
     "iopub.execute_input": "2023-06-26T08:28:16.147756Z",
     "iopub.status.busy": "2023-06-26T08:28:16.147354Z",
     "iopub.status.idle": "2023-06-26T08:28:16.167460Z",
     "shell.execute_reply": "2023-06-26T08:28:16.166717Z"
    },
    "papermill": {
     "duration": 0.033042,
     "end_time": "2023-06-26T08:28:16.169849",
     "exception": false,
     "start_time": "2023-06-26T08:28:16.136807",
     "status": "completed"
    },
    "tags": []
   },
   "outputs": [],
   "source": [
    "volcanos = pd.read_csv(\"../input/volcanic-eruptions/database.csv\")"
   ]
  },
  {
   "cell_type": "markdown",
   "id": "f4e669f9",
   "metadata": {
    "papermill": {
     "duration": 0.008961,
     "end_time": "2023-06-26T08:28:16.188128",
     "exception": false,
     "start_time": "2023-06-26T08:28:16.179167",
     "status": "completed"
    },
    "tags": []
   },
   "source": [
    "Try parsing the column \"Last Known Eruption\" from the `volcanos` dataframe. This column contains a mixture of text (\"Unknown\") and years both before the common era (BCE, also known as BC) and in the common era (CE, also known as AD)."
   ]
  },
  {
   "cell_type": "code",
   "execution_count": 17,
   "id": "1c7053ba",
   "metadata": {
    "execution": {
     "iopub.execute_input": "2023-06-26T08:28:16.208694Z",
     "iopub.status.busy": "2023-06-26T08:28:16.207968Z",
     "iopub.status.idle": "2023-06-26T08:28:16.216157Z",
     "shell.execute_reply": "2023-06-26T08:28:16.215095Z"
    },
    "papermill": {
     "duration": 0.020892,
     "end_time": "2023-06-26T08:28:16.218247",
     "exception": false,
     "start_time": "2023-06-26T08:28:16.197355",
     "status": "completed"
    },
    "tags": []
   },
   "outputs": [
    {
     "data": {
      "text/plain": [
       "764     Unknown\n",
       "1069    1996 CE\n",
       "34      1855 CE\n",
       "489     2016 CE\n",
       "9       1302 CE\n",
       "Name: Last Known Eruption, dtype: object"
      ]
     },
     "execution_count": 17,
     "metadata": {},
     "output_type": "execute_result"
    }
   ],
   "source": [
    "volcanos['Last Known Eruption'].sample(5)"
   ]
  },
  {
   "cell_type": "markdown",
   "id": "fd950dc3",
   "metadata": {
    "papermill": {
     "duration": 0.009034,
     "end_time": "2023-06-26T08:28:16.236613",
     "exception": false,
     "start_time": "2023-06-26T08:28:16.227579",
     "status": "completed"
    },
    "tags": []
   },
   "source": [
    "# (Optional) More practice\n",
    "\n",
    "If you're interested in graphing time series, [check out this tutorial](https://www.kaggle.com/residentmario/time-series-plotting-optional).\n",
    "\n",
    "You can also look into passing columns that you know have dates in them  the `parse_dates` argument in `read_csv`. (The documention [is here](https://pandas.pydata.org/pandas-docs/stable/generated/pandas.read_csv.html).) Do note that this method can be very slow, but depending on your needs it may sometimes be handy to use.\n",
    "\n",
    "# Keep going\n",
    "\n",
    "In the next lesson, learn how to [**work with character encodings**](https://www.kaggle.com/alexisbcook/character-encodings)."
   ]
  },
  {
   "cell_type": "markdown",
   "id": "c229d7c5",
   "metadata": {
    "papermill": {
     "duration": 0.008841,
     "end_time": "2023-06-26T08:28:16.254694",
     "exception": false,
     "start_time": "2023-06-26T08:28:16.245853",
     "status": "completed"
    },
    "tags": []
   },
   "source": [
    "---\n",
    "\n",
    "\n",
    "\n",
    "\n",
    "*Have questions or comments? Visit the [course discussion forum](https://www.kaggle.com/learn/data-cleaning/discussion) to chat with other learners.*"
   ]
  }
 ],
 "metadata": {
  "kernelspec": {
   "display_name": "Python 3",
   "language": "python",
   "name": "python3"
  },
  "language_info": {
   "codemirror_mode": {
    "name": "ipython",
    "version": 3
   },
   "file_extension": ".py",
   "mimetype": "text/x-python",
   "name": "python",
   "nbconvert_exporter": "python",
   "pygments_lexer": "ipython3",
   "version": "3.10.10"
  },
  "papermill": {
   "default_parameters": {},
   "duration": 13.693848,
   "end_time": "2023-06-26T08:28:17.184625",
   "environment_variables": {},
   "exception": null,
   "input_path": "__notebook__.ipynb",
   "output_path": "__notebook__.ipynb",
   "parameters": {},
   "start_time": "2023-06-26T08:28:03.490777",
   "version": "2.4.0"
  }
 },
 "nbformat": 4,
 "nbformat_minor": 5
}
