{
 "cells": [
  {
   "cell_type": "markdown",
   "id": "20339426",
   "metadata": {
    "papermill": {
     "duration": 0.004128,
     "end_time": "2023-06-28T08:43:31.434203",
     "exception": false,
     "start_time": "2023-06-28T08:43:31.430075",
     "status": "completed"
    },
    "tags": []
   },
   "source": [
    "**This notebook is an exercise in the [Pandas](https://www.kaggle.com/learn/pandas) course.  You can reference the tutorial at [this link](https://www.kaggle.com/residentmario/data-types-and-missing-values).**\n",
    "\n",
    "---\n"
   ]
  },
  {
   "cell_type": "markdown",
   "id": "f99fe10b",
   "metadata": {
    "papermill": {
     "duration": 0.00332,
     "end_time": "2023-06-28T08:43:31.441300",
     "exception": false,
     "start_time": "2023-06-28T08:43:31.437980",
     "status": "completed"
    },
    "tags": []
   },
   "source": [
    "# Introduction\n",
    "\n",
    "Run the following cell to load your data and some utility functions."
   ]
  },
  {
   "cell_type": "code",
   "execution_count": 1,
   "id": "1bd6b5d9",
   "metadata": {
    "execution": {
     "iopub.execute_input": "2023-06-28T08:43:31.451128Z",
     "iopub.status.busy": "2023-06-28T08:43:31.450027Z",
     "iopub.status.idle": "2023-06-28T08:43:34.124879Z",
     "shell.execute_reply": "2023-06-28T08:43:34.123420Z"
    },
    "papermill": {
     "duration": 2.682536,
     "end_time": "2023-06-28T08:43:34.127264",
     "exception": false,
     "start_time": "2023-06-28T08:43:31.444728",
     "status": "completed"
    },
    "tags": []
   },
   "outputs": [
    {
     "name": "stdout",
     "output_type": "stream",
     "text": [
      "Setup complete.\n"
     ]
    }
   ],
   "source": [
    "import pandas as pd\n",
    "\n",
    "reviews = pd.read_csv(\"../input/wine-reviews/winemag-data-130k-v2.csv\", index_col=0)\n",
    "\n",
    "from learntools.core import binder; binder.bind(globals())\n",
    "from learntools.pandas.data_types_and_missing_data import *\n",
    "print(\"Setup complete.\")"
   ]
  },
  {
   "cell_type": "markdown",
   "id": "c227d18c",
   "metadata": {
    "papermill": {
     "duration": 0.004566,
     "end_time": "2023-06-28T08:43:34.136109",
     "exception": false,
     "start_time": "2023-06-28T08:43:34.131543",
     "status": "completed"
    },
    "tags": []
   },
   "source": [
    "# Exercises"
   ]
  },
  {
   "cell_type": "markdown",
   "id": "1f400dfb",
   "metadata": {
    "papermill": {
     "duration": 0.004022,
     "end_time": "2023-06-28T08:43:34.145018",
     "exception": false,
     "start_time": "2023-06-28T08:43:34.140996",
     "status": "completed"
    },
    "tags": []
   },
   "source": [
    "## 1. \n",
    "What is the data type of the `points` column in the dataset?"
   ]
  },
  {
   "cell_type": "code",
   "execution_count": 2,
   "id": "83ab0956",
   "metadata": {
    "execution": {
     "iopub.execute_input": "2023-06-28T08:43:34.154798Z",
     "iopub.status.busy": "2023-06-28T08:43:34.154405Z",
     "iopub.status.idle": "2023-06-28T08:43:34.169165Z",
     "shell.execute_reply": "2023-06-28T08:43:34.167747Z"
    },
    "papermill": {
     "duration": 0.022863,
     "end_time": "2023-06-28T08:43:34.171942",
     "exception": false,
     "start_time": "2023-06-28T08:43:34.149079",
     "status": "completed"
    },
    "tags": []
   },
   "outputs": [
    {
     "data": {
      "application/javascript": [
       "parent.postMessage({\"jupyterEvent\": \"custom.exercise_interaction\", \"data\": {\"outcomeType\": 1, \"valueTowardsCompletion\": 0.25, \"interactionType\": 1, \"questionType\": 1, \"questionId\": \"1_PointsDtype\", \"learnToolsVersion\": \"0.3.4\", \"failureMessage\": \"\", \"exceptionClass\": \"\", \"trace\": \"\"}}, \"*\")"
      ],
      "text/plain": [
       "<IPython.core.display.Javascript object>"
      ]
     },
     "metadata": {},
     "output_type": "display_data"
    },
    {
     "data": {
      "text/markdown": [
       "<span style=\"color:#33cc33\">Correct</span>"
      ],
      "text/plain": [
       "Correct"
      ]
     },
     "metadata": {},
     "output_type": "display_data"
    }
   ],
   "source": [
    "# Your code here\n",
    "dtype = reviews.points.dtype\n",
    "\n",
    "# Check your answer\n",
    "q1.check()"
   ]
  },
  {
   "cell_type": "code",
   "execution_count": 3,
   "id": "aafa5111",
   "metadata": {
    "execution": {
     "iopub.execute_input": "2023-06-28T08:43:34.183732Z",
     "iopub.status.busy": "2023-06-28T08:43:34.183377Z",
     "iopub.status.idle": "2023-06-28T08:43:34.188391Z",
     "shell.execute_reply": "2023-06-28T08:43:34.187072Z"
    },
    "papermill": {
     "duration": 0.012683,
     "end_time": "2023-06-28T08:43:34.190695",
     "exception": false,
     "start_time": "2023-06-28T08:43:34.178012",
     "status": "completed"
    },
    "tags": []
   },
   "outputs": [],
   "source": [
    "#q1.hint()\n",
    "#q1.solution()"
   ]
  },
  {
   "cell_type": "markdown",
   "id": "8ad5f127",
   "metadata": {
    "papermill": {
     "duration": 0.003943,
     "end_time": "2023-06-28T08:43:34.199225",
     "exception": false,
     "start_time": "2023-06-28T08:43:34.195282",
     "status": "completed"
    },
    "tags": []
   },
   "source": [
    "## 2. \n",
    "Create a Series from entries in the `points` column, but convert the entries to strings. Hint: strings are `str` in native Python."
   ]
  },
  {
   "cell_type": "code",
   "execution_count": 4,
   "id": "16318d7a",
   "metadata": {
    "execution": {
     "iopub.execute_input": "2023-06-28T08:43:34.211212Z",
     "iopub.status.busy": "2023-06-28T08:43:34.209839Z",
     "iopub.status.idle": "2023-06-28T08:43:34.263311Z",
     "shell.execute_reply": "2023-06-28T08:43:34.261869Z"
    },
    "papermill": {
     "duration": 0.063195,
     "end_time": "2023-06-28T08:43:34.266596",
     "exception": false,
     "start_time": "2023-06-28T08:43:34.203401",
     "status": "completed"
    },
    "tags": []
   },
   "outputs": [
    {
     "data": {
      "application/javascript": [
       "parent.postMessage({\"jupyterEvent\": \"custom.exercise_interaction\", \"data\": {\"outcomeType\": 1, \"valueTowardsCompletion\": 0.25, \"interactionType\": 1, \"questionType\": 1, \"questionId\": \"2_StrPoints\", \"learnToolsVersion\": \"0.3.4\", \"failureMessage\": \"\", \"exceptionClass\": \"\", \"trace\": \"\"}}, \"*\")"
      ],
      "text/plain": [
       "<IPython.core.display.Javascript object>"
      ]
     },
     "metadata": {},
     "output_type": "display_data"
    },
    {
     "data": {
      "text/markdown": [
       "<span style=\"color:#33cc33\">Correct</span>"
      ],
      "text/plain": [
       "Correct"
      ]
     },
     "metadata": {},
     "output_type": "display_data"
    }
   ],
   "source": [
    "point_strings = reviews.points.astype('str')\n",
    "\n",
    "\n",
    "# Check your answer\n",
    "q2.check()"
   ]
  },
  {
   "cell_type": "raw",
   "id": "5cdb8abb",
   "metadata": {
    "execution": {
     "iopub.execute_input": "2023-06-28T08:26:30.409372Z",
     "iopub.status.busy": "2023-06-28T08:26:30.408926Z",
     "iopub.status.idle": "2023-06-28T08:26:30.418598Z",
     "shell.execute_reply": "2023-06-28T08:26:30.417507Z",
     "shell.execute_reply.started": "2023-06-28T08:26:30.409337Z"
    },
    "papermill": {
     "duration": 0.005255,
     "end_time": "2023-06-28T08:43:34.277583",
     "exception": false,
     "start_time": "2023-06-28T08:43:34.272328",
     "status": "completed"
    },
    "tags": []
   },
   "source": [
    "#q2.hint()\n",
    "q2.solution()"
   ]
  },
  {
   "cell_type": "markdown",
   "id": "2b68db26",
   "metadata": {
    "papermill": {
     "duration": 0.004166,
     "end_time": "2023-06-28T08:43:34.287192",
     "exception": false,
     "start_time": "2023-06-28T08:43:34.283026",
     "status": "completed"
    },
    "tags": []
   },
   "source": [
    "## 3.\n",
    "Sometimes the price column is null. How many reviews in the dataset are missing a price?"
   ]
  },
  {
   "cell_type": "code",
   "execution_count": 5,
   "id": "1ee7d03d",
   "metadata": {
    "execution": {
     "iopub.execute_input": "2023-06-28T08:43:34.297803Z",
     "iopub.status.busy": "2023-06-28T08:43:34.297062Z",
     "iopub.status.idle": "2023-06-28T08:43:34.517558Z",
     "shell.execute_reply": "2023-06-28T08:43:34.516404Z"
    },
    "papermill": {
     "duration": 0.228176,
     "end_time": "2023-06-28T08:43:34.519549",
     "exception": false,
     "start_time": "2023-06-28T08:43:34.291373",
     "status": "completed"
    },
    "tags": []
   },
   "outputs": [
    {
     "data": {
      "application/javascript": [
       "parent.postMessage({\"jupyterEvent\": \"custom.exercise_interaction\", \"data\": {\"outcomeType\": 1, \"valueTowardsCompletion\": 0.25, \"interactionType\": 1, \"questionType\": 1, \"questionId\": \"3_CountMissingPrices\", \"learnToolsVersion\": \"0.3.4\", \"failureMessage\": \"\", \"exceptionClass\": \"\", \"trace\": \"\"}}, \"*\")"
      ],
      "text/plain": [
       "<IPython.core.display.Javascript object>"
      ]
     },
     "metadata": {},
     "output_type": "display_data"
    },
    {
     "data": {
      "text/markdown": [
       "<span style=\"color:#33cc33\">Correct</span>"
      ],
      "text/plain": [
       "Correct"
      ]
     },
     "metadata": {},
     "output_type": "display_data"
    }
   ],
   "source": [
    "n_missing_prices = reviews.isnull().price.sum()\n",
    "# Check your answer\n",
    "q3.check()"
   ]
  },
  {
   "cell_type": "code",
   "execution_count": 6,
   "id": "0555b5f5",
   "metadata": {
    "execution": {
     "iopub.execute_input": "2023-06-28T08:43:34.530265Z",
     "iopub.status.busy": "2023-06-28T08:43:34.529958Z",
     "iopub.status.idle": "2023-06-28T08:43:34.541879Z",
     "shell.execute_reply": "2023-06-28T08:43:34.540429Z"
    },
    "papermill": {
     "duration": 0.019792,
     "end_time": "2023-06-28T08:43:34.543929",
     "exception": false,
     "start_time": "2023-06-28T08:43:34.524137",
     "status": "completed"
    },
    "tags": []
   },
   "outputs": [
    {
     "data": {
      "application/javascript": [
       "parent.postMessage({\"jupyterEvent\": \"custom.exercise_interaction\", \"data\": {\"interactionType\": 2, \"questionType\": 1, \"questionId\": \"3_CountMissingPrices\", \"learnToolsVersion\": \"0.3.4\", \"valueTowardsCompletion\": 0.0, \"failureMessage\": \"\", \"exceptionClass\": \"\", \"trace\": \"\", \"outcomeType\": 4}}, \"*\")"
      ],
      "text/plain": [
       "<IPython.core.display.Javascript object>"
      ]
     },
     "metadata": {},
     "output_type": "display_data"
    },
    {
     "data": {
      "text/markdown": [
       "<span style=\"color:#3366cc\">Hint:</span> Use `pd.isnull()`."
      ],
      "text/plain": [
       "Hint: Use `pd.isnull()`."
      ]
     },
     "metadata": {},
     "output_type": "display_data"
    },
    {
     "data": {
      "application/javascript": [
       "parent.postMessage({\"jupyterEvent\": \"custom.exercise_interaction\", \"data\": {\"interactionType\": 3, \"questionType\": 1, \"questionId\": \"3_CountMissingPrices\", \"learnToolsVersion\": \"0.3.4\", \"valueTowardsCompletion\": 0.0, \"failureMessage\": \"\", \"exceptionClass\": \"\", \"trace\": \"\", \"outcomeType\": 4}}, \"*\")"
      ],
      "text/plain": [
       "<IPython.core.display.Javascript object>"
      ]
     },
     "metadata": {},
     "output_type": "display_data"
    },
    {
     "data": {
      "text/markdown": [
       "<span style=\"color:#33cc99\">Solution:</span> \n",
       "```python\n",
       "missing_price_reviews = reviews[reviews.price.isnull()]\n",
       "n_missing_prices = len(missing_price_reviews)\n",
       "# Cute alternative solution: if we sum a boolean series, True is treated as 1 and False as 0\n",
       "n_missing_prices = reviews.price.isnull().sum()\n",
       "# or equivalently:\n",
       "n_missing_prices = pd.isnull(reviews.price).sum()\n",
       "\n",
       "```"
      ],
      "text/plain": [
       "Solution: \n",
       "```python\n",
       "missing_price_reviews = reviews[reviews.price.isnull()]\n",
       "n_missing_prices = len(missing_price_reviews)\n",
       "# Cute alternative solution: if we sum a boolean series, True is treated as 1 and False as 0\n",
       "n_missing_prices = reviews.price.isnull().sum()\n",
       "# or equivalently:\n",
       "n_missing_prices = pd.isnull(reviews.price).sum()\n",
       "\n",
       "```"
      ]
     },
     "metadata": {},
     "output_type": "display_data"
    }
   ],
   "source": [
    "q3.hint()\n",
    "q3.solution()"
   ]
  },
  {
   "cell_type": "markdown",
   "id": "a3ce4aad",
   "metadata": {
    "papermill": {
     "duration": 0.004502,
     "end_time": "2023-06-28T08:43:34.553447",
     "exception": false,
     "start_time": "2023-06-28T08:43:34.548945",
     "status": "completed"
    },
    "tags": []
   },
   "source": [
    "## 4.\n",
    "What are the most common wine-producing regions? Create a Series counting the number of times each value occurs in the `region_1` field. This field is often missing data, so replace missing values with `Unknown`. Sort in descending order.  Your output should look something like this:\n",
    "\n",
    "```\n",
    "Unknown                    21247\n",
    "Napa Valley                 4480\n",
    "                           ...  \n",
    "Bardolino Superiore            1\n",
    "Primitivo del Tarantino        1\n",
    "Name: region_1, Length: 1230, dtype: int64\n",
    "```"
   ]
  },
  {
   "cell_type": "code",
   "execution_count": 7,
   "id": "4d206aa9",
   "metadata": {
    "execution": {
     "iopub.execute_input": "2023-06-28T08:43:34.565249Z",
     "iopub.status.busy": "2023-06-28T08:43:34.564908Z",
     "iopub.status.idle": "2023-06-28T08:43:34.623009Z",
     "shell.execute_reply": "2023-06-28T08:43:34.622024Z"
    },
    "papermill": {
     "duration": 0.066442,
     "end_time": "2023-06-28T08:43:34.624892",
     "exception": false,
     "start_time": "2023-06-28T08:43:34.558450",
     "status": "completed"
    },
    "tags": []
   },
   "outputs": [
    {
     "data": {
      "application/javascript": [
       "parent.postMessage({\"jupyterEvent\": \"custom.exercise_interaction\", \"data\": {\"outcomeType\": 1, \"valueTowardsCompletion\": 0.25, \"interactionType\": 1, \"questionType\": 2, \"questionId\": \"4_ReviewsPerRegion\", \"learnToolsVersion\": \"0.3.4\", \"failureMessage\": \"\", \"exceptionClass\": \"\", \"trace\": \"\"}}, \"*\")"
      ],
      "text/plain": [
       "<IPython.core.display.Javascript object>"
      ]
     },
     "metadata": {},
     "output_type": "display_data"
    },
    {
     "data": {
      "text/markdown": [
       "<span style=\"color:#33cc33\">Correct</span>"
      ],
      "text/plain": [
       "Correct"
      ]
     },
     "metadata": {},
     "output_type": "display_data"
    }
   ],
   "source": [
    "reviews.region_1 = reviews.region_1.fillna('Unknown')\n",
    "reviews_per_region = reviews.region_1.value_counts().sort_values(ascending = False)\n",
    "\n",
    "# Check your answer\n",
    "q4.check()"
   ]
  },
  {
   "cell_type": "code",
   "execution_count": 8,
   "id": "493e91e0",
   "metadata": {
    "execution": {
     "iopub.execute_input": "2023-06-28T08:43:34.637670Z",
     "iopub.status.busy": "2023-06-28T08:43:34.637252Z",
     "iopub.status.idle": "2023-06-28T08:43:34.641232Z",
     "shell.execute_reply": "2023-06-28T08:43:34.640405Z"
    },
    "papermill": {
     "duration": 0.013033,
     "end_time": "2023-06-28T08:43:34.643149",
     "exception": false,
     "start_time": "2023-06-28T08:43:34.630116",
     "status": "completed"
    },
    "tags": []
   },
   "outputs": [],
   "source": [
    "#q4.hint()\n",
    "#q4.solution()"
   ]
  },
  {
   "cell_type": "markdown",
   "id": "0636470f",
   "metadata": {
    "papermill": {
     "duration": 0.005045,
     "end_time": "2023-06-28T08:43:34.653752",
     "exception": false,
     "start_time": "2023-06-28T08:43:34.648707",
     "status": "completed"
    },
    "tags": []
   },
   "source": [
    "# Keep going\n",
    "\n",
    "Move on to **[renaming and combining](https://www.kaggle.com/residentmario/renaming-and-combining)**."
   ]
  },
  {
   "cell_type": "markdown",
   "id": "08ca6f9c",
   "metadata": {
    "papermill": {
     "duration": 0.005186,
     "end_time": "2023-06-28T08:43:34.665163",
     "exception": false,
     "start_time": "2023-06-28T08:43:34.659977",
     "status": "completed"
    },
    "tags": []
   },
   "source": [
    "---\n",
    "\n",
    "\n",
    "\n",
    "\n",
    "*Have questions or comments? Visit the [course discussion forum](https://www.kaggle.com/learn/pandas/discussion) to chat with other learners.*"
   ]
  }
 ],
 "metadata": {
  "kernelspec": {
   "display_name": "Python 3",
   "language": "python",
   "name": "python3"
  },
  "language_info": {
   "codemirror_mode": {
    "name": "ipython",
    "version": 3
   },
   "file_extension": ".py",
   "mimetype": "text/x-python",
   "name": "python",
   "nbconvert_exporter": "python",
   "pygments_lexer": "ipython3",
   "version": "3.10.10"
  },
  "papermill": {
   "default_parameters": {},
   "duration": 14.101248,
   "end_time": "2023-06-28T08:43:35.593809",
   "environment_variables": {},
   "exception": null,
   "input_path": "__notebook__.ipynb",
   "output_path": "__notebook__.ipynb",
   "parameters": {},
   "start_time": "2023-06-28T08:43:21.492561",
   "version": "2.4.0"
  }
 },
 "nbformat": 4,
 "nbformat_minor": 5
}
