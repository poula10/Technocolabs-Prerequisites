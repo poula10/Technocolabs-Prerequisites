{
 "cells": [
  {
   "cell_type": "markdown",
   "id": "eb581129",
   "metadata": {
    "papermill": {
     "duration": 0.006697,
     "end_time": "2023-06-28T23:30:32.295907",
     "exception": false,
     "start_time": "2023-06-28T23:30:32.289210",
     "status": "completed"
    },
    "tags": []
   },
   "source": [
    "**This notebook is an exercise in the [Introduction to Machine Learning](https://www.kaggle.com/learn/intro-to-machine-learning) course.  You can reference the tutorial at [this link](https://www.kaggle.com/dansbecker/model-validation).**\n",
    "\n",
    "---\n"
   ]
  },
  {
   "cell_type": "markdown",
   "id": "8d94414e",
   "metadata": {
    "papermill": {
     "duration": 0.005478,
     "end_time": "2023-06-28T23:30:32.307338",
     "exception": false,
     "start_time": "2023-06-28T23:30:32.301860",
     "status": "completed"
    },
    "tags": []
   },
   "source": [
    "## Recap\n",
    "You've built a model. In this exercise you will test how good your model is.\n",
    "\n",
    "Run the cell below to set up your coding environment where the previous exercise left off."
   ]
  },
  {
   "cell_type": "code",
   "execution_count": 1,
   "id": "21c7836d",
   "metadata": {
    "execution": {
     "iopub.execute_input": "2023-06-28T23:30:32.321009Z",
     "iopub.status.busy": "2023-06-28T23:30:32.320311Z",
     "iopub.status.idle": "2023-06-28T23:30:34.006619Z",
     "shell.execute_reply": "2023-06-28T23:30:34.005312Z"
    },
    "papermill": {
     "duration": 1.696627,
     "end_time": "2023-06-28T23:30:34.009581",
     "exception": false,
     "start_time": "2023-06-28T23:30:32.312954",
     "status": "completed"
    },
    "tags": []
   },
   "outputs": [
    {
     "name": "stdout",
     "output_type": "stream",
     "text": [
      "First in-sample predictions: [208500. 181500. 223500. 140000. 250000.]\n",
      "Actual target values for those homes: [208500, 181500, 223500, 140000, 250000]\n",
      "Setup Complete\n"
     ]
    }
   ],
   "source": [
    "# Code you have previously used to load data\n",
    "import pandas as pd\n",
    "from sklearn.tree import DecisionTreeRegressor\n",
    "\n",
    "# Path of the file to read\n",
    "iowa_file_path = '../input/home-data-for-ml-course/train.csv'\n",
    "\n",
    "home_data = pd.read_csv(iowa_file_path)\n",
    "y = home_data.SalePrice\n",
    "feature_columns = ['LotArea', 'YearBuilt', '1stFlrSF', '2ndFlrSF', 'FullBath', 'BedroomAbvGr', 'TotRmsAbvGrd']\n",
    "X = home_data[feature_columns]\n",
    "\n",
    "# Specify Model\n",
    "iowa_model = DecisionTreeRegressor()\n",
    "# Fit Model\n",
    "iowa_model.fit(X, y)\n",
    "\n",
    "print(\"First in-sample predictions:\", iowa_model.predict(X.head()))\n",
    "print(\"Actual target values for those homes:\", y.head().tolist())\n",
    "\n",
    "# Set up code checking\n",
    "from learntools.core import binder\n",
    "binder.bind(globals())\n",
    "from learntools.machine_learning.ex4 import *\n",
    "print(\"Setup Complete\")"
   ]
  },
  {
   "cell_type": "markdown",
   "id": "239ae840",
   "metadata": {
    "papermill": {
     "duration": 0.005535,
     "end_time": "2023-06-28T23:30:34.020977",
     "exception": false,
     "start_time": "2023-06-28T23:30:34.015442",
     "status": "completed"
    },
    "tags": []
   },
   "source": [
    "# Exercises\n",
    "\n",
    "## Step 1: Split Your Data\n",
    "Use the `train_test_split` function to split up your data.\n",
    "\n",
    "Give it the argument `random_state=1` so the `check` functions know what to expect when verifying your code.\n",
    "\n",
    "Recall, your features are loaded in the DataFrame **X** and your target is loaded in **y**.\n"
   ]
  },
  {
   "cell_type": "code",
   "execution_count": 2,
   "id": "98a944ab",
   "metadata": {
    "execution": {
     "iopub.execute_input": "2023-06-28T23:30:34.034360Z",
     "iopub.status.busy": "2023-06-28T23:30:34.033935Z",
     "iopub.status.idle": "2023-06-28T23:30:34.048058Z",
     "shell.execute_reply": "2023-06-28T23:30:34.046926Z"
    },
    "papermill": {
     "duration": 0.023656,
     "end_time": "2023-06-28T23:30:34.050469",
     "exception": false,
     "start_time": "2023-06-28T23:30:34.026813",
     "status": "completed"
    },
    "tags": []
   },
   "outputs": [
    {
     "data": {
      "application/javascript": [
       "parent.postMessage({\"jupyterEvent\": \"custom.exercise_interaction\", \"data\": {\"outcomeType\": 1, \"valueTowardsCompletion\": 0.25, \"interactionType\": 1, \"questionType\": 2, \"questionId\": \"1_SplitData\", \"learnToolsVersion\": \"0.3.4\", \"failureMessage\": \"\", \"exceptionClass\": \"\", \"trace\": \"\"}}, \"*\")"
      ],
      "text/plain": [
       "<IPython.core.display.Javascript object>"
      ]
     },
     "metadata": {},
     "output_type": "display_data"
    },
    {
     "data": {
      "text/markdown": [
       "<span style=\"color:#33cc33\">Correct</span>"
      ],
      "text/plain": [
       "Correct"
      ]
     },
     "metadata": {},
     "output_type": "display_data"
    }
   ],
   "source": [
    "# Import the train_test_split function and uncomment\n",
    "from sklearn.model_selection import train_test_split\n",
    "\n",
    "# fill in and uncomment\n",
    "train_X, val_X, train_y, val_y = train_test_split(X,y,random_state = 1)\n",
    "\n",
    "# Check your answer\n",
    "step_1.check()"
   ]
  },
  {
   "cell_type": "code",
   "execution_count": 3,
   "id": "71f9bd5b",
   "metadata": {
    "execution": {
     "iopub.execute_input": "2023-06-28T23:30:34.064950Z",
     "iopub.status.busy": "2023-06-28T23:30:34.064525Z",
     "iopub.status.idle": "2023-06-28T23:30:34.068827Z",
     "shell.execute_reply": "2023-06-28T23:30:34.068057Z"
    },
    "papermill": {
     "duration": 0.014053,
     "end_time": "2023-06-28T23:30:34.070807",
     "exception": false,
     "start_time": "2023-06-28T23:30:34.056754",
     "status": "completed"
    },
    "tags": []
   },
   "outputs": [],
   "source": [
    "# The lines below will show you a hint or the solution.\n",
    "# step_1.hint() \n",
    "# step_1.solution()\n"
   ]
  },
  {
   "cell_type": "markdown",
   "id": "25556917",
   "metadata": {
    "papermill": {
     "duration": 0.005868,
     "end_time": "2023-06-28T23:30:34.084429",
     "exception": false,
     "start_time": "2023-06-28T23:30:34.078561",
     "status": "completed"
    },
    "tags": []
   },
   "source": [
    "## Step 2: Specify and Fit the Model\n",
    "\n",
    "Create a `DecisionTreeRegressor` model and fit it to the relevant data.\n",
    "Set `random_state` to 1 again when creating the model."
   ]
  },
  {
   "cell_type": "code",
   "execution_count": 4,
   "id": "0179167e",
   "metadata": {
    "execution": {
     "iopub.execute_input": "2023-06-28T23:30:34.098813Z",
     "iopub.status.busy": "2023-06-28T23:30:34.097824Z",
     "iopub.status.idle": "2023-06-28T23:30:34.128756Z",
     "shell.execute_reply": "2023-06-28T23:30:34.127706Z"
    },
    "papermill": {
     "duration": 0.040527,
     "end_time": "2023-06-28T23:30:34.131011",
     "exception": false,
     "start_time": "2023-06-28T23:30:34.090484",
     "status": "completed"
    },
    "tags": []
   },
   "outputs": [
    {
     "name": "stdout",
     "output_type": "stream",
     "text": [
      "[186500. 184000. 130000.  92000. 164500. 220000. 335000. 144152. 215000.\n",
      " 262000.]\n",
      "[186500. 184000. 130000.  92000. 164500. 220000. 335000. 144152. 215000.\n",
      " 262000.]\n"
     ]
    },
    {
     "data": {
      "application/javascript": [
       "parent.postMessage({\"jupyterEvent\": \"custom.exercise_interaction\", \"data\": {\"outcomeType\": 1, \"valueTowardsCompletion\": 0.25, \"interactionType\": 1, \"questionType\": 2, \"questionId\": \"2_FitModelWithTrain\", \"learnToolsVersion\": \"0.3.4\", \"failureMessage\": \"\", \"exceptionClass\": \"\", \"trace\": \"\"}}, \"*\")"
      ],
      "text/plain": [
       "<IPython.core.display.Javascript object>"
      ]
     },
     "metadata": {},
     "output_type": "display_data"
    },
    {
     "data": {
      "text/markdown": [
       "<span style=\"color:#33cc33\">Correct</span>"
      ],
      "text/plain": [
       "Correct"
      ]
     },
     "metadata": {},
     "output_type": "display_data"
    }
   ],
   "source": [
    "# You imported DecisionTreeRegressor in your last exercise\n",
    "# and that code has been copied to the setup code above. So, no need to\n",
    "# import it again\n",
    "\n",
    "# Specify the model\n",
    "iowa_model = DecisionTreeRegressor(random_state = 1)\n",
    "\n",
    "# Fit iowa_model with the training data.\n",
    "iowa_model.fit(train_X,train_y)\n",
    "\n",
    "# Check your answer\n",
    "step_2.check()"
   ]
  },
  {
   "cell_type": "code",
   "execution_count": 5,
   "id": "4d5cb5e4",
   "metadata": {
    "execution": {
     "iopub.execute_input": "2023-06-28T23:30:34.145769Z",
     "iopub.status.busy": "2023-06-28T23:30:34.145381Z",
     "iopub.status.idle": "2023-06-28T23:30:34.150030Z",
     "shell.execute_reply": "2023-06-28T23:30:34.148898Z"
    },
    "papermill": {
     "duration": 0.014495,
     "end_time": "2023-06-28T23:30:34.152107",
     "exception": false,
     "start_time": "2023-06-28T23:30:34.137612",
     "status": "completed"
    },
    "tags": []
   },
   "outputs": [],
   "source": [
    "# step_2.hint()\n",
    "# step_2.solution()"
   ]
  },
  {
   "cell_type": "markdown",
   "id": "3d518110",
   "metadata": {
    "papermill": {
     "duration": 0.006306,
     "end_time": "2023-06-28T23:30:34.165089",
     "exception": false,
     "start_time": "2023-06-28T23:30:34.158783",
     "status": "completed"
    },
    "tags": []
   },
   "source": [
    "## Step 3: Make Predictions with Validation data\n"
   ]
  },
  {
   "cell_type": "code",
   "execution_count": 6,
   "id": "0ca9ab13",
   "metadata": {
    "execution": {
     "iopub.execute_input": "2023-06-28T23:30:34.180025Z",
     "iopub.status.busy": "2023-06-28T23:30:34.179608Z",
     "iopub.status.idle": "2023-06-28T23:30:34.192387Z",
     "shell.execute_reply": "2023-06-28T23:30:34.191289Z"
    },
    "papermill": {
     "duration": 0.022814,
     "end_time": "2023-06-28T23:30:34.194501",
     "exception": false,
     "start_time": "2023-06-28T23:30:34.171687",
     "status": "completed"
    },
    "tags": []
   },
   "outputs": [
    {
     "data": {
      "application/javascript": [
       "parent.postMessage({\"jupyterEvent\": \"custom.exercise_interaction\", \"data\": {\"outcomeType\": 1, \"valueTowardsCompletion\": 0.25, \"interactionType\": 1, \"questionType\": 2, \"questionId\": \"3_ValPreds\", \"learnToolsVersion\": \"0.3.4\", \"failureMessage\": \"\", \"exceptionClass\": \"\", \"trace\": \"\"}}, \"*\")"
      ],
      "text/plain": [
       "<IPython.core.display.Javascript object>"
      ]
     },
     "metadata": {},
     "output_type": "display_data"
    },
    {
     "data": {
      "text/markdown": [
       "<span style=\"color:#33cc33\">Correct</span>"
      ],
      "text/plain": [
       "Correct"
      ]
     },
     "metadata": {},
     "output_type": "display_data"
    }
   ],
   "source": [
    "# Predict with all validation observations\n",
    "val_predictions = iowa_model.predict(val_X)\n",
    "\n",
    "# Check your answer\n",
    "step_3.check()"
   ]
  },
  {
   "cell_type": "code",
   "execution_count": 7,
   "id": "e455a8d3",
   "metadata": {
    "execution": {
     "iopub.execute_input": "2023-06-28T23:30:34.210348Z",
     "iopub.status.busy": "2023-06-28T23:30:34.209913Z",
     "iopub.status.idle": "2023-06-28T23:30:34.214153Z",
     "shell.execute_reply": "2023-06-28T23:30:34.213045Z"
    },
    "papermill": {
     "duration": 0.0149,
     "end_time": "2023-06-28T23:30:34.216433",
     "exception": false,
     "start_time": "2023-06-28T23:30:34.201533",
     "status": "completed"
    },
    "tags": []
   },
   "outputs": [],
   "source": [
    "# step_3.hint()\n",
    "# step_3.solution()"
   ]
  },
  {
   "cell_type": "markdown",
   "id": "913fd797",
   "metadata": {
    "papermill": {
     "duration": 0.006584,
     "end_time": "2023-06-28T23:30:34.229961",
     "exception": false,
     "start_time": "2023-06-28T23:30:34.223377",
     "status": "completed"
    },
    "tags": []
   },
   "source": [
    "Inspect your predictions and actual values from validation data."
   ]
  },
  {
   "cell_type": "code",
   "execution_count": 8,
   "id": "743a88e2",
   "metadata": {
    "execution": {
     "iopub.execute_input": "2023-06-28T23:30:34.245440Z",
     "iopub.status.busy": "2023-06-28T23:30:34.245041Z",
     "iopub.status.idle": "2023-06-28T23:30:34.251767Z",
     "shell.execute_reply": "2023-06-28T23:30:34.250654Z"
    },
    "papermill": {
     "duration": 0.017317,
     "end_time": "2023-06-28T23:30:34.254157",
     "exception": false,
     "start_time": "2023-06-28T23:30:34.236840",
     "status": "completed"
    },
    "tags": []
   },
   "outputs": [
    {
     "name": "stdout",
     "output_type": "stream",
     "text": [
      "[186500. 184000. 130000.  92000. 164500. 220000. 335000. 144152. 215000.\n",
      " 262000.]\n",
      "258     231500\n",
      "267     179500\n",
      "288     122000\n",
      "649      84500\n",
      "1233    142000\n",
      "Name: SalePrice, dtype: int64\n"
     ]
    }
   ],
   "source": [
    "# print the top few validation predictions\n",
    "print(val_predictions[:10])\n",
    "# print the top few actual prices from validation data\n",
    "print(val_y.head())"
   ]
  },
  {
   "cell_type": "markdown",
   "id": "777c7f12",
   "metadata": {
    "papermill": {
     "duration": 0.006677,
     "end_time": "2023-06-28T23:30:34.268101",
     "exception": false,
     "start_time": "2023-06-28T23:30:34.261424",
     "status": "completed"
    },
    "tags": []
   },
   "source": [
    "What do you notice that is different from what you saw with in-sample predictions (which are printed after the top code cell in this page).\n",
    "\n",
    "Do you remember why validation predictions differ from in-sample (or training) predictions? This is an important idea from the last lesson.\n",
    "\n",
    "## Step 4: Calculate the Mean Absolute Error in Validation Data\n"
   ]
  },
  {
   "cell_type": "code",
   "execution_count": 9,
   "id": "ebf1bfb0",
   "metadata": {
    "execution": {
     "iopub.execute_input": "2023-06-28T23:30:34.283776Z",
     "iopub.status.busy": "2023-06-28T23:30:34.283357Z",
     "iopub.status.idle": "2023-06-28T23:30:34.294992Z",
     "shell.execute_reply": "2023-06-28T23:30:34.293868Z"
    },
    "papermill": {
     "duration": 0.022001,
     "end_time": "2023-06-28T23:30:34.297049",
     "exception": false,
     "start_time": "2023-06-28T23:30:34.275048",
     "status": "completed"
    },
    "tags": []
   },
   "outputs": [
    {
     "name": "stdout",
     "output_type": "stream",
     "text": [
      "29652.931506849316\n"
     ]
    },
    {
     "data": {
      "application/javascript": [
       "parent.postMessage({\"jupyterEvent\": \"custom.exercise_interaction\", \"data\": {\"outcomeType\": 1, \"valueTowardsCompletion\": 0.25, \"interactionType\": 1, \"questionType\": 1, \"questionId\": \"4_MAE\", \"learnToolsVersion\": \"0.3.4\", \"failureMessage\": \"\", \"exceptionClass\": \"\", \"trace\": \"\"}}, \"*\")"
      ],
      "text/plain": [
       "<IPython.core.display.Javascript object>"
      ]
     },
     "metadata": {},
     "output_type": "display_data"
    },
    {
     "data": {
      "text/markdown": [
       "<span style=\"color:#33cc33\">Correct</span>"
      ],
      "text/plain": [
       "Correct"
      ]
     },
     "metadata": {},
     "output_type": "display_data"
    }
   ],
   "source": [
    "from sklearn.metrics import mean_absolute_error\n",
    "val_mae = mean_absolute_error(val_y,val_predictions)\n",
    "\n",
    "# uncomment following line to see the validation_mae\n",
    "print(val_mae)\n",
    "\n",
    "# Check your answer\n",
    "step_4.check()"
   ]
  },
  {
   "cell_type": "code",
   "execution_count": 10,
   "id": "0a1b185d",
   "metadata": {
    "execution": {
     "iopub.execute_input": "2023-06-28T23:30:34.313615Z",
     "iopub.status.busy": "2023-06-28T23:30:34.313176Z",
     "iopub.status.idle": "2023-06-28T23:30:34.317870Z",
     "shell.execute_reply": "2023-06-28T23:30:34.316738Z"
    },
    "papermill": {
     "duration": 0.015783,
     "end_time": "2023-06-28T23:30:34.320255",
     "exception": false,
     "start_time": "2023-06-28T23:30:34.304472",
     "status": "completed"
    },
    "tags": []
   },
   "outputs": [],
   "source": [
    "# step_4.hint()\n",
    "# step_4.solution()"
   ]
  },
  {
   "cell_type": "markdown",
   "id": "3c7ffa56",
   "metadata": {
    "papermill": {
     "duration": 0.00715,
     "end_time": "2023-06-28T23:30:34.335042",
     "exception": false,
     "start_time": "2023-06-28T23:30:34.327892",
     "status": "completed"
    },
    "tags": []
   },
   "source": [
    "Is that MAE good?  There isn't a general rule for what values are good that applies across applications. But you'll see how to use (and improve) this number in the next step.\n",
    "\n",
    "# Keep Going\n",
    "\n",
    "You are ready for **[Underfitting and Overfitting](https://www.kaggle.com/dansbecker/underfitting-and-overfitting).**\n"
   ]
  },
  {
   "cell_type": "markdown",
   "id": "1e29d71d",
   "metadata": {
    "papermill": {
     "duration": 0.007137,
     "end_time": "2023-06-28T23:30:34.349623",
     "exception": false,
     "start_time": "2023-06-28T23:30:34.342486",
     "status": "completed"
    },
    "tags": []
   },
   "source": [
    "---\n",
    "\n",
    "\n",
    "\n",
    "\n",
    "*Have questions or comments? Visit the [course discussion forum](https://www.kaggle.com/learn/intro-to-machine-learning/discussion) to chat with other learners.*"
   ]
  }
 ],
 "metadata": {
  "kernelspec": {
   "display_name": "Python 3",
   "language": "python",
   "name": "python3"
  },
  "language_info": {
   "codemirror_mode": {
    "name": "ipython",
    "version": 3
   },
   "file_extension": ".py",
   "mimetype": "text/x-python",
   "name": "python",
   "nbconvert_exporter": "python",
   "pygments_lexer": "ipython3",
   "version": "3.10.10"
  },
  "papermill": {
   "default_parameters": {},
   "duration": 16.340973,
   "end_time": "2023-06-28T23:30:35.380326",
   "environment_variables": {},
   "exception": null,
   "input_path": "__notebook__.ipynb",
   "output_path": "__notebook__.ipynb",
   "parameters": {},
   "start_time": "2023-06-28T23:30:19.039353",
   "version": "2.4.0"
  }
 },
 "nbformat": 4,
 "nbformat_minor": 5
}
