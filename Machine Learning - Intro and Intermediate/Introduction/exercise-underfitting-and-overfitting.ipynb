{
 "cells": [
  {
   "cell_type": "markdown",
   "id": "adcc7b83",
   "metadata": {
    "papermill": {
     "duration": 0.004972,
     "end_time": "2023-06-29T08:58:19.550697",
     "exception": false,
     "start_time": "2023-06-29T08:58:19.545725",
     "status": "completed"
    },
    "tags": []
   },
   "source": [
    "**This notebook is an exercise in the [Introduction to Machine Learning](https://www.kaggle.com/learn/intro-to-machine-learning) course.  You can reference the tutorial at [this link](https://www.kaggle.com/dansbecker/underfitting-and-overfitting).**\n",
    "\n",
    "---\n"
   ]
  },
  {
   "cell_type": "markdown",
   "id": "370fb778",
   "metadata": {
    "papermill": {
     "duration": 0.003891,
     "end_time": "2023-06-29T08:58:19.559081",
     "exception": false,
     "start_time": "2023-06-29T08:58:19.555190",
     "status": "completed"
    },
    "tags": []
   },
   "source": [
    "## Recap\n",
    "You've built your first model, and now it's time to optimize the size of the tree to make better predictions. Run this cell to set up your coding environment where the previous step left off."
   ]
  },
  {
   "cell_type": "code",
   "execution_count": 1,
   "id": "c77f3c5c",
   "metadata": {
    "execution": {
     "iopub.execute_input": "2023-06-29T08:58:19.569445Z",
     "iopub.status.busy": "2023-06-29T08:58:19.568946Z",
     "iopub.status.idle": "2023-06-29T08:58:21.267140Z",
     "shell.execute_reply": "2023-06-29T08:58:21.265882Z"
    },
    "papermill": {
     "duration": 1.706465,
     "end_time": "2023-06-29T08:58:21.269657",
     "exception": false,
     "start_time": "2023-06-29T08:58:19.563192",
     "status": "completed"
    },
    "tags": []
   },
   "outputs": [
    {
     "name": "stdout",
     "output_type": "stream",
     "text": [
      "Validation MAE: 29,653\n",
      "\n",
      "Setup complete\n"
     ]
    }
   ],
   "source": [
    "# Code you have previously used to load data\n",
    "import pandas as pd\n",
    "from sklearn.metrics import mean_absolute_error\n",
    "from sklearn.model_selection import train_test_split\n",
    "from sklearn.tree import DecisionTreeRegressor\n",
    "\n",
    "\n",
    "# Path of the file to read\n",
    "iowa_file_path = '../input/home-data-for-ml-course/train.csv'\n",
    "\n",
    "home_data = pd.read_csv(iowa_file_path)\n",
    "# Create target object and call it y\n",
    "y = home_data.SalePrice\n",
    "# Create X\n",
    "features = ['LotArea', 'YearBuilt', '1stFlrSF', '2ndFlrSF', 'FullBath', 'BedroomAbvGr', 'TotRmsAbvGrd']\n",
    "X = home_data[features]\n",
    "\n",
    "# Split into validation and training data\n",
    "train_X, val_X, train_y, val_y = train_test_split(X, y, random_state=1)\n",
    "\n",
    "# Specify Model\n",
    "iowa_model = DecisionTreeRegressor(random_state=1)\n",
    "# Fit Model\n",
    "iowa_model.fit(train_X, train_y)\n",
    "\n",
    "# Make validation predictions and calculate mean absolute error\n",
    "val_predictions = iowa_model.predict(val_X)\n",
    "val_mae = mean_absolute_error(val_predictions, val_y)\n",
    "print(\"Validation MAE: {:,.0f}\".format(val_mae))\n",
    "\n",
    "# Set up code checking\n",
    "from learntools.core import binder\n",
    "binder.bind(globals())\n",
    "from learntools.machine_learning.ex5 import *\n",
    "print(\"\\nSetup complete\")"
   ]
  },
  {
   "cell_type": "markdown",
   "id": "d3bfe576",
   "metadata": {
    "papermill": {
     "duration": 0.004121,
     "end_time": "2023-06-29T08:58:21.278310",
     "exception": false,
     "start_time": "2023-06-29T08:58:21.274189",
     "status": "completed"
    },
    "tags": []
   },
   "source": [
    "# Exercises\n",
    "You could write the function `get_mae` yourself. For now, we'll supply it. This is the same function you read about in the previous lesson. Just run the cell below."
   ]
  },
  {
   "cell_type": "code",
   "execution_count": 2,
   "id": "b6e976bd",
   "metadata": {
    "execution": {
     "iopub.execute_input": "2023-06-29T08:58:21.288368Z",
     "iopub.status.busy": "2023-06-29T08:58:21.288007Z",
     "iopub.status.idle": "2023-06-29T08:58:21.293945Z",
     "shell.execute_reply": "2023-06-29T08:58:21.293010Z"
    },
    "papermill": {
     "duration": 0.013695,
     "end_time": "2023-06-29T08:58:21.296221",
     "exception": false,
     "start_time": "2023-06-29T08:58:21.282526",
     "status": "completed"
    },
    "tags": []
   },
   "outputs": [],
   "source": [
    "def get_mae(max_leaf_nodes, train_X, val_X, train_y, val_y):\n",
    "    model = DecisionTreeRegressor(max_leaf_nodes=max_leaf_nodes, random_state=0)\n",
    "    model.fit(train_X, train_y)\n",
    "    preds_val = model.predict(val_X)\n",
    "    mae = mean_absolute_error(val_y, preds_val)\n",
    "    return(mae)"
   ]
  },
  {
   "cell_type": "markdown",
   "id": "002b2d08",
   "metadata": {
    "papermill": {
     "duration": 0.004042,
     "end_time": "2023-06-29T08:58:21.304518",
     "exception": false,
     "start_time": "2023-06-29T08:58:21.300476",
     "status": "completed"
    },
    "tags": []
   },
   "source": [
    "## Step 1: Compare Different Tree Sizes\n",
    "Write a loop that tries the following values for *max_leaf_nodes* from a set of possible values.\n",
    "\n",
    "Call the *get_mae* function on each value of max_leaf_nodes. Store the output in some way that allows you to select the value of `max_leaf_nodes` that gives the most accurate model on your data."
   ]
  },
  {
   "cell_type": "code",
   "execution_count": 3,
   "id": "f3e713cb",
   "metadata": {
    "execution": {
     "iopub.execute_input": "2023-06-29T08:58:21.315139Z",
     "iopub.status.busy": "2023-06-29T08:58:21.314505Z",
     "iopub.status.idle": "2023-06-29T08:58:21.365660Z",
     "shell.execute_reply": "2023-06-29T08:58:21.364470Z"
    },
    "papermill": {
     "duration": 0.059215,
     "end_time": "2023-06-29T08:58:21.367948",
     "exception": false,
     "start_time": "2023-06-29T08:58:21.308733",
     "status": "completed"
    },
    "tags": []
   },
   "outputs": [
    {
     "data": {
      "application/javascript": [
       "parent.postMessage({\"jupyterEvent\": \"custom.exercise_interaction\", \"data\": {\"outcomeType\": 1, \"valueTowardsCompletion\": 0.5, \"interactionType\": 1, \"questionType\": 1, \"questionId\": \"1_BestTreeSize\", \"learnToolsVersion\": \"0.3.4\", \"failureMessage\": \"\", \"exceptionClass\": \"\", \"trace\": \"\"}}, \"*\")"
      ],
      "text/plain": [
       "<IPython.core.display.Javascript object>"
      ]
     },
     "metadata": {},
     "output_type": "display_data"
    },
    {
     "data": {
      "text/markdown": [
       "<span style=\"color:#33cc33\">Correct</span>"
      ],
      "text/plain": [
       "Correct"
      ]
     },
     "metadata": {},
     "output_type": "display_data"
    }
   ],
   "source": [
    "candidate_max_leaf_nodes = [5, 25, 50, 100, 250, 500]\n",
    "# Write loop to find the ideal tree size from candidate_max_leaf_nodes\n",
    "values = {}\n",
    "for n in candidate_max_leaf_nodes:\n",
    "    mae = get_mae(n,train_X,val_X,train_y,val_y)\n",
    "    values[n] = mae\n",
    "# Store the best value of max_leaf_nodes (it will be either 5, 25, 50, 100, 250 or 500)\n",
    "best_tree_size = min(values,key = values.get)\n",
    "# Check your answer\n",
    "step_1.check()"
   ]
  },
  {
   "cell_type": "code",
   "execution_count": 4,
   "id": "36c7b513",
   "metadata": {
    "execution": {
     "iopub.execute_input": "2023-06-29T08:58:21.378983Z",
     "iopub.status.busy": "2023-06-29T08:58:21.378606Z",
     "iopub.status.idle": "2023-06-29T08:58:21.385940Z",
     "shell.execute_reply": "2023-06-29T08:58:21.385204Z"
    },
    "papermill": {
     "duration": 0.015113,
     "end_time": "2023-06-29T08:58:21.387959",
     "exception": false,
     "start_time": "2023-06-29T08:58:21.372846",
     "status": "completed"
    },
    "tags": []
   },
   "outputs": [
    {
     "data": {
      "application/javascript": [
       "parent.postMessage({\"jupyterEvent\": \"custom.exercise_interaction\", \"data\": {\"interactionType\": 3, \"questionType\": 1, \"questionId\": \"1_BestTreeSize\", \"learnToolsVersion\": \"0.3.4\", \"valueTowardsCompletion\": 0.0, \"failureMessage\": \"\", \"exceptionClass\": \"\", \"trace\": \"\", \"outcomeType\": 4}}, \"*\")"
      ],
      "text/plain": [
       "<IPython.core.display.Javascript object>"
      ]
     },
     "metadata": {},
     "output_type": "display_data"
    },
    {
     "data": {
      "text/markdown": [
       "<span style=\"color:#33cc99\">Solution:</span> \n",
       "```python\n",
       "# Here is a short solution with a dict comprehension.\n",
       "# The lesson gives an example of how to do this with an explicit loop.\n",
       "scores = {leaf_size: get_mae(leaf_size, train_X, val_X, train_y, val_y) for leaf_size in candidate_max_leaf_nodes}\n",
       "best_tree_size = min(scores, key=scores.get)\n",
       "\n",
       "```"
      ],
      "text/plain": [
       "Solution: \n",
       "```python\n",
       "# Here is a short solution with a dict comprehension.\n",
       "# The lesson gives an example of how to do this with an explicit loop.\n",
       "scores = {leaf_size: get_mae(leaf_size, train_X, val_X, train_y, val_y) for leaf_size in candidate_max_leaf_nodes}\n",
       "best_tree_size = min(scores, key=scores.get)\n",
       "\n",
       "```"
      ]
     },
     "metadata": {},
     "output_type": "display_data"
    }
   ],
   "source": [
    "# The lines below will show you a hint or the solution.\n",
    "# step_1.hint() \n",
    "step_1.solution()"
   ]
  },
  {
   "cell_type": "markdown",
   "id": "ec57655e",
   "metadata": {
    "papermill": {
     "duration": 0.006403,
     "end_time": "2023-06-29T08:58:21.401066",
     "exception": false,
     "start_time": "2023-06-29T08:58:21.394663",
     "status": "completed"
    },
    "tags": []
   },
   "source": [
    "## Step 2: Fit Model Using All Data\n",
    "You know the best tree size. If you were going to deploy this model in practice, you would make it even more accurate by using all of the data and keeping that tree size.  That is, you don't need to hold out the validation data now that you've made all your modeling decisions."
   ]
  },
  {
   "cell_type": "code",
   "execution_count": 5,
   "id": "a7df9bd7",
   "metadata": {
    "execution": {
     "iopub.execute_input": "2023-06-29T08:58:21.413550Z",
     "iopub.status.busy": "2023-06-29T08:58:21.412960Z",
     "iopub.status.idle": "2023-06-29T08:58:21.429047Z",
     "shell.execute_reply": "2023-06-29T08:58:21.428112Z"
    },
    "papermill": {
     "duration": 0.025141,
     "end_time": "2023-06-29T08:58:21.431486",
     "exception": false,
     "start_time": "2023-06-29T08:58:21.406345",
     "status": "completed"
    },
    "tags": []
   },
   "outputs": [
    {
     "data": {
      "application/javascript": [
       "parent.postMessage({\"jupyterEvent\": \"custom.exercise_interaction\", \"data\": {\"outcomeType\": 1, \"valueTowardsCompletion\": 0.5, \"interactionType\": 1, \"questionType\": 2, \"questionId\": \"2_FitModelWithAllData\", \"learnToolsVersion\": \"0.3.4\", \"failureMessage\": \"\", \"exceptionClass\": \"\", \"trace\": \"\"}}, \"*\")"
      ],
      "text/plain": [
       "<IPython.core.display.Javascript object>"
      ]
     },
     "metadata": {},
     "output_type": "display_data"
    },
    {
     "data": {
      "text/markdown": [
       "<span style=\"color:#33cc33\">Correct</span>"
      ],
      "text/plain": [
       "Correct"
      ]
     },
     "metadata": {},
     "output_type": "display_data"
    }
   ],
   "source": [
    "# Fill in argument to make optimal size and uncomment\n",
    "final_model = DecisionTreeRegressor(max_leaf_nodes = best_tree_size, random_state = 0)\n",
    "\n",
    "# fit the final model and uncomment the next two lines\n",
    "final_model.fit(X,y)\n",
    "\n",
    "# Check your answer\n",
    "step_2.check()"
   ]
  },
  {
   "cell_type": "code",
   "execution_count": 6,
   "id": "76a1f79c",
   "metadata": {
    "execution": {
     "iopub.execute_input": "2023-06-29T08:58:21.444364Z",
     "iopub.status.busy": "2023-06-29T08:58:21.444016Z",
     "iopub.status.idle": "2023-06-29T08:58:21.447954Z",
     "shell.execute_reply": "2023-06-29T08:58:21.446961Z"
    },
    "papermill": {
     "duration": 0.013008,
     "end_time": "2023-06-29T08:58:21.450097",
     "exception": false,
     "start_time": "2023-06-29T08:58:21.437089",
     "status": "completed"
    },
    "tags": []
   },
   "outputs": [],
   "source": [
    "# step_2.hint()\n",
    "# step_2.solution()"
   ]
  },
  {
   "cell_type": "markdown",
   "id": "abaac0e9",
   "metadata": {
    "papermill": {
     "duration": 0.005118,
     "end_time": "2023-06-29T08:58:21.460547",
     "exception": false,
     "start_time": "2023-06-29T08:58:21.455429",
     "status": "completed"
    },
    "tags": []
   },
   "source": [
    "You've tuned this model and improved your results. But we are still using Decision Tree models, which are not very sophisticated by modern machine learning standards. In the next step you will learn to use Random Forests to improve your models even more.\n",
    "\n",
    "# Keep Going\n",
    "\n",
    "You are ready for **[Random Forests](https://www.kaggle.com/dansbecker/random-forests).**\n"
   ]
  },
  {
   "cell_type": "markdown",
   "id": "ccbc79cf",
   "metadata": {
    "papermill": {
     "duration": 0.005104,
     "end_time": "2023-06-29T08:58:21.470997",
     "exception": false,
     "start_time": "2023-06-29T08:58:21.465893",
     "status": "completed"
    },
    "tags": []
   },
   "source": [
    "---\n",
    "\n",
    "\n",
    "\n",
    "\n",
    "*Have questions or comments? Visit the [course discussion forum](https://www.kaggle.com/learn/intro-to-machine-learning/discussion) to chat with other learners.*"
   ]
  }
 ],
 "metadata": {
  "kernelspec": {
   "display_name": "Python 3",
   "language": "python",
   "name": "python3"
  },
  "language_info": {
   "codemirror_mode": {
    "name": "ipython",
    "version": 3
   },
   "file_extension": ".py",
   "mimetype": "text/x-python",
   "name": "python",
   "nbconvert_exporter": "python",
   "pygments_lexer": "ipython3",
   "version": "3.10.10"
  },
  "papermill": {
   "default_parameters": {},
   "duration": 14.790075,
   "end_time": "2023-06-29T08:58:22.398490",
   "environment_variables": {},
   "exception": null,
   "input_path": "__notebook__.ipynb",
   "output_path": "__notebook__.ipynb",
   "parameters": {},
   "start_time": "2023-06-29T08:58:07.608415",
   "version": "2.4.0"
  }
 },
 "nbformat": 4,
 "nbformat_minor": 5
}
