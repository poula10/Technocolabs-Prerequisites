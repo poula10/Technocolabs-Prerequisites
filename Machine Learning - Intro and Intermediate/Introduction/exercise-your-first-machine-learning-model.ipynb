{
 "cells": [
  {
   "cell_type": "markdown",
   "id": "c435b480",
   "metadata": {
    "papermill": {
     "duration": 0.006734,
     "end_time": "2023-06-28T15:48:52.161502",
     "exception": false,
     "start_time": "2023-06-28T15:48:52.154768",
     "status": "completed"
    },
    "tags": []
   },
   "source": [
    "**This notebook is an exercise in the [Introduction to Machine Learning](https://www.kaggle.com/learn/intro-to-machine-learning) course.  You can reference the tutorial at [this link](https://www.kaggle.com/dansbecker/your-first-machine-learning-model).**\n",
    "\n",
    "---\n"
   ]
  },
  {
   "cell_type": "markdown",
   "id": "a3dc9d15",
   "metadata": {
    "papermill": {
     "duration": 0.004814,
     "end_time": "2023-06-28T15:48:52.171429",
     "exception": false,
     "start_time": "2023-06-28T15:48:52.166615",
     "status": "completed"
    },
    "tags": []
   },
   "source": [
    "## Recap\n",
    "So far, you have loaded your data and reviewed it with the following code. Run this cell to set up your coding environment where the previous step left off."
   ]
  },
  {
   "cell_type": "code",
   "execution_count": 1,
   "id": "1a0108dc",
   "metadata": {
    "execution": {
     "iopub.execute_input": "2023-06-28T15:48:52.184388Z",
     "iopub.status.busy": "2023-06-28T15:48:52.183539Z",
     "iopub.status.idle": "2023-06-28T15:48:53.875131Z",
     "shell.execute_reply": "2023-06-28T15:48:53.873869Z"
    },
    "papermill": {
     "duration": 1.701558,
     "end_time": "2023-06-28T15:48:53.878232",
     "exception": false,
     "start_time": "2023-06-28T15:48:52.176674",
     "status": "completed"
    },
    "tags": []
   },
   "outputs": [
    {
     "name": "stdout",
     "output_type": "stream",
     "text": [
      "Setup Complete\n"
     ]
    }
   ],
   "source": [
    "# Code you have previously used to load data\n",
    "import pandas as pd\n",
    "\n",
    "# Path of the file to read\n",
    "iowa_file_path = '../input/home-data-for-ml-course/train.csv'\n",
    "\n",
    "home_data = pd.read_csv(iowa_file_path)\n",
    "\n",
    "# Set up code checking\n",
    "from learntools.core import binder\n",
    "binder.bind(globals())\n",
    "from learntools.machine_learning.ex3 import *\n",
    "\n",
    "print(\"Setup Complete\")"
   ]
  },
  {
   "cell_type": "markdown",
   "id": "b7320bcf",
   "metadata": {
    "papermill": {
     "duration": 0.004745,
     "end_time": "2023-06-28T15:48:53.887947",
     "exception": false,
     "start_time": "2023-06-28T15:48:53.883202",
     "status": "completed"
    },
    "tags": []
   },
   "source": [
    "# Exercises\n",
    "\n",
    "## Step 1: Specify Prediction Target\n",
    "Select the target variable, which corresponds to the sales price. Save this to a new variable called `y`. You'll need to print a list of the columns to find the name of the column you need.\n"
   ]
  },
  {
   "cell_type": "code",
   "execution_count": 2,
   "id": "1c62700f",
   "metadata": {
    "execution": {
     "iopub.execute_input": "2023-06-28T15:48:53.899601Z",
     "iopub.status.busy": "2023-06-28T15:48:53.899204Z",
     "iopub.status.idle": "2023-06-28T15:48:53.907437Z",
     "shell.execute_reply": "2023-06-28T15:48:53.906203Z"
    },
    "papermill": {
     "duration": 0.016964,
     "end_time": "2023-06-28T15:48:53.909853",
     "exception": false,
     "start_time": "2023-06-28T15:48:53.892889",
     "status": "completed"
    },
    "tags": []
   },
   "outputs": [
    {
     "data": {
      "text/plain": [
       "Index(['Id', 'MSSubClass', 'MSZoning', 'LotFrontage', 'LotArea', 'Street',\n",
       "       'Alley', 'LotShape', 'LandContour', 'Utilities', 'LotConfig',\n",
       "       'LandSlope', 'Neighborhood', 'Condition1', 'Condition2', 'BldgType',\n",
       "       'HouseStyle', 'OverallQual', 'OverallCond', 'YearBuilt', 'YearRemodAdd',\n",
       "       'RoofStyle', 'RoofMatl', 'Exterior1st', 'Exterior2nd', 'MasVnrType',\n",
       "       'MasVnrArea', 'ExterQual', 'ExterCond', 'Foundation', 'BsmtQual',\n",
       "       'BsmtCond', 'BsmtExposure', 'BsmtFinType1', 'BsmtFinSF1',\n",
       "       'BsmtFinType2', 'BsmtFinSF2', 'BsmtUnfSF', 'TotalBsmtSF', 'Heating',\n",
       "       'HeatingQC', 'CentralAir', 'Electrical', '1stFlrSF', '2ndFlrSF',\n",
       "       'LowQualFinSF', 'GrLivArea', 'BsmtFullBath', 'BsmtHalfBath', 'FullBath',\n",
       "       'HalfBath', 'BedroomAbvGr', 'KitchenAbvGr', 'KitchenQual',\n",
       "       'TotRmsAbvGrd', 'Functional', 'Fireplaces', 'FireplaceQu', 'GarageType',\n",
       "       'GarageYrBlt', 'GarageFinish', 'GarageCars', 'GarageArea', 'GarageQual',\n",
       "       'GarageCond', 'PavedDrive', 'WoodDeckSF', 'OpenPorchSF',\n",
       "       'EnclosedPorch', '3SsnPorch', 'ScreenPorch', 'PoolArea', 'PoolQC',\n",
       "       'Fence', 'MiscFeature', 'MiscVal', 'MoSold', 'YrSold', 'SaleType',\n",
       "       'SaleCondition', 'SalePrice'],\n",
       "      dtype='object')"
      ]
     },
     "execution_count": 2,
     "metadata": {},
     "output_type": "execute_result"
    }
   ],
   "source": [
    "# print the list of columns in the dataset to find the name of the prediction target\n",
    "home_data.columns"
   ]
  },
  {
   "cell_type": "code",
   "execution_count": 3,
   "id": "44ecb6b8",
   "metadata": {
    "execution": {
     "iopub.execute_input": "2023-06-28T15:48:53.923728Z",
     "iopub.status.busy": "2023-06-28T15:48:53.923367Z",
     "iopub.status.idle": "2023-06-28T15:48:53.938266Z",
     "shell.execute_reply": "2023-06-28T15:48:53.936950Z"
    },
    "papermill": {
     "duration": 0.023931,
     "end_time": "2023-06-28T15:48:53.940625",
     "exception": false,
     "start_time": "2023-06-28T15:48:53.916694",
     "status": "completed"
    },
    "tags": []
   },
   "outputs": [
    {
     "data": {
      "application/javascript": [
       "parent.postMessage({\"jupyterEvent\": \"custom.exercise_interaction\", \"data\": {\"outcomeType\": 1, \"valueTowardsCompletion\": 0.25, \"interactionType\": 1, \"questionType\": 2, \"questionId\": \"1_SetTarget\", \"learnToolsVersion\": \"0.3.4\", \"failureMessage\": \"\", \"exceptionClass\": \"\", \"trace\": \"\"}}, \"*\")"
      ],
      "text/plain": [
       "<IPython.core.display.Javascript object>"
      ]
     },
     "metadata": {},
     "output_type": "display_data"
    },
    {
     "data": {
      "text/markdown": [
       "<span style=\"color:#33cc33\">Correct</span>"
      ],
      "text/plain": [
       "Correct"
      ]
     },
     "metadata": {},
     "output_type": "display_data"
    }
   ],
   "source": [
    "y = home_data.SalePrice\n",
    "\n",
    "# Check your answer\n",
    "step_1.check()"
   ]
  },
  {
   "cell_type": "code",
   "execution_count": 4,
   "id": "1499fff4",
   "metadata": {
    "execution": {
     "iopub.execute_input": "2023-06-28T15:48:53.953625Z",
     "iopub.status.busy": "2023-06-28T15:48:53.953251Z",
     "iopub.status.idle": "2023-06-28T15:48:53.957659Z",
     "shell.execute_reply": "2023-06-28T15:48:53.956323Z"
    },
    "papermill": {
     "duration": 0.013724,
     "end_time": "2023-06-28T15:48:53.960074",
     "exception": false,
     "start_time": "2023-06-28T15:48:53.946350",
     "status": "completed"
    },
    "tags": []
   },
   "outputs": [],
   "source": [
    "# The lines below will show you a hint or the solution.\n",
    "# step_1.hint() \n",
    "# step_1.solution()"
   ]
  },
  {
   "cell_type": "markdown",
   "id": "f09089bb",
   "metadata": {
    "papermill": {
     "duration": 0.005098,
     "end_time": "2023-06-28T15:48:53.970728",
     "exception": false,
     "start_time": "2023-06-28T15:48:53.965630",
     "status": "completed"
    },
    "tags": []
   },
   "source": [
    "## Step 2: Create X\n",
    "Now you will create a DataFrame called `X` holding the predictive features.\n",
    "\n",
    "Since you want only some columns from the original data, you'll first create a list with the names of the columns you want in `X`.\n",
    "\n",
    "You'll use just the following columns in the list (you can copy and paste the whole list to save some typing, though you'll still need to add quotes):\n",
    "  * LotArea\n",
    "  * YearBuilt\n",
    "  * 1stFlrSF\n",
    "  * 2ndFlrSF\n",
    "  * FullBath\n",
    "  * BedroomAbvGr\n",
    "  * TotRmsAbvGrd\n",
    "\n",
    "After you've created that list of features, use it to create the DataFrame that you'll use to fit the model."
   ]
  },
  {
   "cell_type": "code",
   "execution_count": 5,
   "id": "1921afa8",
   "metadata": {
    "execution": {
     "iopub.execute_input": "2023-06-28T15:48:53.983924Z",
     "iopub.status.busy": "2023-06-28T15:48:53.983549Z",
     "iopub.status.idle": "2023-06-28T15:48:53.999745Z",
     "shell.execute_reply": "2023-06-28T15:48:53.998636Z"
    },
    "papermill": {
     "duration": 0.025404,
     "end_time": "2023-06-28T15:48:54.002159",
     "exception": false,
     "start_time": "2023-06-28T15:48:53.976755",
     "status": "completed"
    },
    "tags": []
   },
   "outputs": [
    {
     "data": {
      "application/javascript": [
       "parent.postMessage({\"jupyterEvent\": \"custom.exercise_interaction\", \"data\": {\"outcomeType\": 1, \"valueTowardsCompletion\": 0.25, \"interactionType\": 1, \"questionType\": 2, \"questionId\": \"2_SelectPredictionData\", \"learnToolsVersion\": \"0.3.4\", \"failureMessage\": \"\", \"exceptionClass\": \"\", \"trace\": \"\"}}, \"*\")"
      ],
      "text/plain": [
       "<IPython.core.display.Javascript object>"
      ]
     },
     "metadata": {},
     "output_type": "display_data"
    },
    {
     "data": {
      "text/markdown": [
       "<span style=\"color:#33cc33\">Correct</span>"
      ],
      "text/plain": [
       "Correct"
      ]
     },
     "metadata": {},
     "output_type": "display_data"
    }
   ],
   "source": [
    "# Create the list of features below\n",
    "feature_names = ['LotArea','YearBuilt','1stFlrSF','2ndFlrSF','FullBath','BedroomAbvGr','TotRmsAbvGrd']\n",
    "\n",
    "# Select data corresponding to features in feature_names\n",
    "X = home_data[feature_names]\n",
    "\n",
    "# Check your answer\n",
    "step_2.check()"
   ]
  },
  {
   "cell_type": "code",
   "execution_count": 6,
   "id": "7a4a9301",
   "metadata": {
    "collapsed": true,
    "execution": {
     "iopub.execute_input": "2023-06-28T15:48:54.015451Z",
     "iopub.status.busy": "2023-06-28T15:48:54.015049Z",
     "iopub.status.idle": "2023-06-28T15:48:54.019745Z",
     "shell.execute_reply": "2023-06-28T15:48:54.018605Z"
    },
    "jupyter": {
     "outputs_hidden": true
    },
    "papermill": {
     "duration": 0.01405,
     "end_time": "2023-06-28T15:48:54.022109",
     "exception": false,
     "start_time": "2023-06-28T15:48:54.008059",
     "status": "completed"
    },
    "tags": []
   },
   "outputs": [],
   "source": [
    "# step_2.hint()\n",
    "# step_2.solution()"
   ]
  },
  {
   "cell_type": "markdown",
   "id": "65cca007",
   "metadata": {
    "papermill": {
     "duration": 0.005307,
     "end_time": "2023-06-28T15:48:54.033102",
     "exception": false,
     "start_time": "2023-06-28T15:48:54.027795",
     "status": "completed"
    },
    "tags": []
   },
   "source": [
    "## Review Data\n",
    "Before building a model, take a quick look at **X** to verify it looks sensible"
   ]
  },
  {
   "cell_type": "code",
   "execution_count": 7,
   "id": "ad30f39a",
   "metadata": {
    "execution": {
     "iopub.execute_input": "2023-06-28T15:48:54.045882Z",
     "iopub.status.busy": "2023-06-28T15:48:54.045496Z",
     "iopub.status.idle": "2023-06-28T15:48:54.084283Z",
     "shell.execute_reply": "2023-06-28T15:48:54.082900Z"
    },
    "papermill": {
     "duration": 0.048687,
     "end_time": "2023-06-28T15:48:54.087423",
     "exception": false,
     "start_time": "2023-06-28T15:48:54.038736",
     "status": "completed"
    },
    "tags": []
   },
   "outputs": [
    {
     "name": "stdout",
     "output_type": "stream",
     "text": [
      "             LotArea    YearBuilt     1stFlrSF     2ndFlrSF     FullBath  \\\n",
      "count    1460.000000  1460.000000  1460.000000  1460.000000  1460.000000   \n",
      "mean    10516.828082  1971.267808  1162.626712   346.992466     1.565068   \n",
      "std      9981.264932    30.202904   386.587738   436.528436     0.550916   \n",
      "min      1300.000000  1872.000000   334.000000     0.000000     0.000000   \n",
      "25%      7553.500000  1954.000000   882.000000     0.000000     1.000000   \n",
      "50%      9478.500000  1973.000000  1087.000000     0.000000     2.000000   \n",
      "75%     11601.500000  2000.000000  1391.250000   728.000000     2.000000   \n",
      "max    215245.000000  2010.000000  4692.000000  2065.000000     3.000000   \n",
      "\n",
      "       BedroomAbvGr  TotRmsAbvGrd  \n",
      "count   1460.000000   1460.000000  \n",
      "mean       2.866438      6.517808  \n",
      "std        0.815778      1.625393  \n",
      "min        0.000000      2.000000  \n",
      "25%        2.000000      5.000000  \n",
      "50%        3.000000      6.000000  \n",
      "75%        3.000000      7.000000  \n",
      "max        8.000000     14.000000  \n",
      "   LotArea  YearBuilt  1stFlrSF  2ndFlrSF  FullBath  BedroomAbvGr  \\\n",
      "0     8450       2003       856       854         2             3   \n",
      "1     9600       1976      1262         0         2             3   \n",
      "2    11250       2001       920       866         2             3   \n",
      "3     9550       1915       961       756         1             3   \n",
      "4    14260       2000      1145      1053         2             4   \n",
      "\n",
      "   TotRmsAbvGrd  \n",
      "0             8  \n",
      "1             6  \n",
      "2             6  \n",
      "3             7  \n",
      "4             9  \n"
     ]
    }
   ],
   "source": [
    "# Review data\n",
    "# print description or statistics from X\n",
    "print(X.describe())\n",
    "\n",
    "# print the top few lines\n",
    "print(X.head())"
   ]
  },
  {
   "cell_type": "markdown",
   "id": "97122e0c",
   "metadata": {
    "papermill": {
     "duration": 0.005836,
     "end_time": "2023-06-28T15:48:54.099428",
     "exception": false,
     "start_time": "2023-06-28T15:48:54.093592",
     "status": "completed"
    },
    "tags": []
   },
   "source": [
    "## Step 3: Specify and Fit Model\n",
    "Create a `DecisionTreeRegressor` and save it iowa_model. Ensure you've done the relevant import from sklearn to run this command.\n",
    "\n",
    "Then fit the model you just created using the data in `X` and `y` that you saved above."
   ]
  },
  {
   "cell_type": "code",
   "execution_count": 8,
   "id": "012e8af7",
   "metadata": {
    "execution": {
     "iopub.execute_input": "2023-06-28T15:48:54.113471Z",
     "iopub.status.busy": "2023-06-28T15:48:54.113096Z",
     "iopub.status.idle": "2023-06-28T15:48:54.132937Z",
     "shell.execute_reply": "2023-06-28T15:48:54.131799Z"
    },
    "papermill": {
     "duration": 0.030209,
     "end_time": "2023-06-28T15:48:54.135469",
     "exception": false,
     "start_time": "2023-06-28T15:48:54.105260",
     "status": "completed"
    },
    "tags": []
   },
   "outputs": [
    {
     "data": {
      "application/javascript": [
       "parent.postMessage({\"jupyterEvent\": \"custom.exercise_interaction\", \"data\": {\"outcomeType\": 1, \"valueTowardsCompletion\": 0.25, \"interactionType\": 1, \"questionType\": 2, \"questionId\": \"3_CreateModel\", \"learnToolsVersion\": \"0.3.4\", \"failureMessage\": \"\", \"exceptionClass\": \"\", \"trace\": \"\"}}, \"*\")"
      ],
      "text/plain": [
       "<IPython.core.display.Javascript object>"
      ]
     },
     "metadata": {},
     "output_type": "display_data"
    },
    {
     "data": {
      "text/markdown": [
       "<span style=\"color:#33cc33\">Correct</span>"
      ],
      "text/plain": [
       "Correct"
      ]
     },
     "metadata": {},
     "output_type": "display_data"
    }
   ],
   "source": [
    "from sklearn.tree import DecisionTreeRegressor\n",
    "#specify the model. \n",
    "#For model reproducibility, set a numeric value for random_state when specifying the model\n",
    "iowa_model = DecisionTreeRegressor(random_state = 1)\n",
    "\n",
    "# Fit the model\n",
    "iowa_model.fit(X,y)\n",
    "\n",
    "# Check your answer\n",
    "step_3.check()"
   ]
  },
  {
   "cell_type": "code",
   "execution_count": 9,
   "id": "1a48d4a4",
   "metadata": {
    "collapsed": true,
    "execution": {
     "iopub.execute_input": "2023-06-28T15:48:54.149581Z",
     "iopub.status.busy": "2023-06-28T15:48:54.149182Z",
     "iopub.status.idle": "2023-06-28T15:48:54.153753Z",
     "shell.execute_reply": "2023-06-28T15:48:54.152624Z"
    },
    "jupyter": {
     "outputs_hidden": true
    },
    "papermill": {
     "duration": 0.014968,
     "end_time": "2023-06-28T15:48:54.156364",
     "exception": false,
     "start_time": "2023-06-28T15:48:54.141396",
     "status": "completed"
    },
    "tags": []
   },
   "outputs": [],
   "source": [
    "# step_3.hint()\n",
    "# step_3.solution()"
   ]
  },
  {
   "cell_type": "markdown",
   "id": "6213b70e",
   "metadata": {
    "papermill": {
     "duration": 0.005616,
     "end_time": "2023-06-28T15:48:54.168012",
     "exception": false,
     "start_time": "2023-06-28T15:48:54.162396",
     "status": "completed"
    },
    "tags": []
   },
   "source": [
    "## Step 4: Make Predictions\n",
    "Make predictions with the model's `predict` command using `X` as the data. Save the results to a variable called `predictions`."
   ]
  },
  {
   "cell_type": "code",
   "execution_count": 10,
   "id": "21ac4180",
   "metadata": {
    "execution": {
     "iopub.execute_input": "2023-06-28T15:48:54.182203Z",
     "iopub.status.busy": "2023-06-28T15:48:54.181670Z",
     "iopub.status.idle": "2023-06-28T15:48:54.195765Z",
     "shell.execute_reply": "2023-06-28T15:48:54.194688Z"
    },
    "papermill": {
     "duration": 0.023767,
     "end_time": "2023-06-28T15:48:54.197960",
     "exception": false,
     "start_time": "2023-06-28T15:48:54.174193",
     "status": "completed"
    },
    "tags": []
   },
   "outputs": [
    {
     "name": "stdout",
     "output_type": "stream",
     "text": [
      "[208500. 181500. 223500. ... 266500. 142125. 147500.]\n"
     ]
    },
    {
     "data": {
      "application/javascript": [
       "parent.postMessage({\"jupyterEvent\": \"custom.exercise_interaction\", \"data\": {\"outcomeType\": 1, \"valueTowardsCompletion\": 0.25, \"interactionType\": 1, \"questionType\": 2, \"questionId\": \"4_MakePredictions\", \"learnToolsVersion\": \"0.3.4\", \"failureMessage\": \"\", \"exceptionClass\": \"\", \"trace\": \"\"}}, \"*\")"
      ],
      "text/plain": [
       "<IPython.core.display.Javascript object>"
      ]
     },
     "metadata": {},
     "output_type": "display_data"
    },
    {
     "data": {
      "text/markdown": [
       "<span style=\"color:#33cc33\">Correct</span>"
      ],
      "text/plain": [
       "Correct"
      ]
     },
     "metadata": {},
     "output_type": "display_data"
    }
   ],
   "source": [
    "predictions = iowa_model.predict(X)\n",
    "print(predictions)\n",
    "\n",
    "# Check your answer\n",
    "step_4.check()"
   ]
  },
  {
   "cell_type": "code",
   "execution_count": 11,
   "id": "4a0f30e9",
   "metadata": {
    "execution": {
     "iopub.execute_input": "2023-06-28T15:48:54.212577Z",
     "iopub.status.busy": "2023-06-28T15:48:54.212151Z",
     "iopub.status.idle": "2023-06-28T15:48:54.217374Z",
     "shell.execute_reply": "2023-06-28T15:48:54.215804Z"
    },
    "papermill": {
     "duration": 0.015354,
     "end_time": "2023-06-28T15:48:54.219933",
     "exception": false,
     "start_time": "2023-06-28T15:48:54.204579",
     "status": "completed"
    },
    "tags": []
   },
   "outputs": [],
   "source": [
    "# step_4.hint()\n",
    "# step_4.solution()"
   ]
  },
  {
   "cell_type": "markdown",
   "id": "828b05f4",
   "metadata": {
    "papermill": {
     "duration": 0.006124,
     "end_time": "2023-06-28T15:48:54.232755",
     "exception": false,
     "start_time": "2023-06-28T15:48:54.226631",
     "status": "completed"
    },
    "tags": []
   },
   "source": [
    "## Think About Your Results\n",
    "\n",
    "Use the `head` method to compare the top few predictions to the actual home values (in `y`) for those same homes. Anything surprising?\n"
   ]
  },
  {
   "cell_type": "code",
   "execution_count": 12,
   "id": "45aed0fc",
   "metadata": {
    "execution": {
     "iopub.execute_input": "2023-06-28T15:48:54.248124Z",
     "iopub.status.busy": "2023-06-28T15:48:54.247462Z",
     "iopub.status.idle": "2023-06-28T15:48:54.256669Z",
     "shell.execute_reply": "2023-06-28T15:48:54.255464Z"
    },
    "papermill": {
     "duration": 0.01949,
     "end_time": "2023-06-28T15:48:54.259060",
     "exception": false,
     "start_time": "2023-06-28T15:48:54.239570",
     "status": "completed"
    },
    "tags": []
   },
   "outputs": [
    {
     "data": {
      "text/plain": [
       "0       208500\n",
       "1       181500\n",
       "2       223500\n",
       "3       140000\n",
       "4       250000\n",
       "         ...  \n",
       "1455    175000\n",
       "1456    210000\n",
       "1457    266500\n",
       "1458    142125\n",
       "1459    147500\n",
       "Name: SalePrice, Length: 1460, dtype: int64"
      ]
     },
     "execution_count": 12,
     "metadata": {},
     "output_type": "execute_result"
    }
   ],
   "source": [
    "# You can write code in this cell\n",
    "y\n"
   ]
  },
  {
   "cell_type": "markdown",
   "id": "31fa0d4a",
   "metadata": {
    "papermill": {
     "duration": 0.006234,
     "end_time": "2023-06-28T15:48:54.271885",
     "exception": false,
     "start_time": "2023-06-28T15:48:54.265651",
     "status": "completed"
    },
    "tags": []
   },
   "source": [
    "It's natural to ask how accurate the model's predictions will be and how you can improve that. That will be you're next step.\n",
    "\n",
    "# Keep Going\n",
    "\n",
    "You are ready for **[Model Validation](https://www.kaggle.com/dansbecker/model-validation).**\n"
   ]
  },
  {
   "cell_type": "markdown",
   "id": "630befeb",
   "metadata": {
    "papermill": {
     "duration": 0.006532,
     "end_time": "2023-06-28T15:48:54.284932",
     "exception": false,
     "start_time": "2023-06-28T15:48:54.278400",
     "status": "completed"
    },
    "tags": []
   },
   "source": [
    "---\n",
    "\n",
    "\n",
    "\n",
    "\n",
    "*Have questions or comments? Visit the [course discussion forum](https://www.kaggle.com/learn/intro-to-machine-learning/discussion) to chat with other learners.*"
   ]
  }
 ],
 "metadata": {
  "kernelspec": {
   "display_name": "Python 3",
   "language": "python",
   "name": "python3"
  },
  "language_info": {
   "codemirror_mode": {
    "name": "ipython",
    "version": 3
   },
   "file_extension": ".py",
   "mimetype": "text/x-python",
   "name": "python",
   "nbconvert_exporter": "python",
   "pygments_lexer": "ipython3",
   "version": "3.10.10"
  },
  "papermill": {
   "default_parameters": {},
   "duration": 13.467603,
   "end_time": "2023-06-28T15:48:55.214013",
   "environment_variables": {},
   "exception": null,
   "input_path": "__notebook__.ipynb",
   "output_path": "__notebook__.ipynb",
   "parameters": {},
   "start_time": "2023-06-28T15:48:41.746410",
   "version": "2.4.0"
  }
 },
 "nbformat": 4,
 "nbformat_minor": 5
}
