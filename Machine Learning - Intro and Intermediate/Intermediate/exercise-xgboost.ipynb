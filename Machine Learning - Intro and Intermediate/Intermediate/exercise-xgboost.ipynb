{
 "cells": [
  {
   "cell_type": "markdown",
   "id": "a039ba48",
   "metadata": {
    "papermill": {
     "duration": 0.007266,
     "end_time": "2023-06-29T22:05:44.044938",
     "exception": false,
     "start_time": "2023-06-29T22:05:44.037672",
     "status": "completed"
    },
    "tags": []
   },
   "source": [
    "**This notebook is an exercise in the [Intermediate Machine Learning](https://www.kaggle.com/learn/intermediate-machine-learning) course.  You can reference the tutorial at [this link](https://www.kaggle.com/alexisbcook/xgboost).**\n",
    "\n",
    "---\n"
   ]
  },
  {
   "cell_type": "markdown",
   "id": "63605373",
   "metadata": {
    "papermill": {
     "duration": 0.006282,
     "end_time": "2023-06-29T22:05:44.057901",
     "exception": false,
     "start_time": "2023-06-29T22:05:44.051619",
     "status": "completed"
    },
    "tags": []
   },
   "source": [
    "In this exercise, you will use your new knowledge to train a model with **gradient boosting**.\n",
    "\n",
    "# Setup\n",
    "\n",
    "The questions below will give you feedback on your work. Run the following cell to set up the feedback system."
   ]
  },
  {
   "cell_type": "code",
   "execution_count": 1,
   "id": "9be0c5bf",
   "metadata": {
    "execution": {
     "iopub.execute_input": "2023-06-29T22:05:44.073631Z",
     "iopub.status.busy": "2023-06-29T22:05:44.072786Z",
     "iopub.status.idle": "2023-06-29T22:05:46.882114Z",
     "shell.execute_reply": "2023-06-29T22:05:46.881213Z"
    },
    "papermill": {
     "duration": 2.820387,
     "end_time": "2023-06-29T22:05:46.884780",
     "exception": false,
     "start_time": "2023-06-29T22:05:44.064393",
     "status": "completed"
    },
    "tags": []
   },
   "outputs": [
    {
     "name": "stdout",
     "output_type": "stream",
     "text": [
      "Setup Complete\n"
     ]
    }
   ],
   "source": [
    "# Set up code checking\n",
    "import os\n",
    "if not os.path.exists(\"../input/train.csv\"):\n",
    "    os.symlink(\"../input/home-data-for-ml-course/train.csv\", \"../input/train.csv\")  \n",
    "    os.symlink(\"../input/home-data-for-ml-course/test.csv\", \"../input/test.csv\") \n",
    "from learntools.core import binder\n",
    "binder.bind(globals())\n",
    "from learntools.ml_intermediate.ex6 import *\n",
    "print(\"Setup Complete\")"
   ]
  },
  {
   "cell_type": "markdown",
   "id": "4379954c",
   "metadata": {
    "papermill": {
     "duration": 0.006418,
     "end_time": "2023-06-29T22:05:46.898465",
     "exception": false,
     "start_time": "2023-06-29T22:05:46.892047",
     "status": "completed"
    },
    "tags": []
   },
   "source": [
    "You will work with the [Housing Prices Competition for Kaggle Learn Users](https://www.kaggle.com/c/home-data-for-ml-course) dataset from the previous exercise. \n",
    "\n",
    "![Ames Housing dataset image](https://storage.googleapis.com/kaggle-media/learn/images/lTJVG4e.png)\n",
    "\n",
    "Run the next code cell without changes to load the training and validation sets in `X_train`, `X_valid`, `y_train`, and `y_valid`.  The test set is loaded in `X_test`."
   ]
  },
  {
   "cell_type": "code",
   "execution_count": 2,
   "id": "baa6576d",
   "metadata": {
    "execution": {
     "iopub.execute_input": "2023-06-29T22:05:46.913372Z",
     "iopub.status.busy": "2023-06-29T22:05:46.912945Z",
     "iopub.status.idle": "2023-06-29T22:05:47.124203Z",
     "shell.execute_reply": "2023-06-29T22:05:47.122889Z"
    },
    "papermill": {
     "duration": 0.222521,
     "end_time": "2023-06-29T22:05:47.127450",
     "exception": false,
     "start_time": "2023-06-29T22:05:46.904929",
     "status": "completed"
    },
    "tags": []
   },
   "outputs": [],
   "source": [
    "import pandas as pd\n",
    "from sklearn.model_selection import train_test_split\n",
    "\n",
    "# Read the data\n",
    "X = pd.read_csv('../input/train.csv', index_col='Id')\n",
    "X_test_full = pd.read_csv('../input/test.csv', index_col='Id')\n",
    "\n",
    "# Remove rows with missing target, separate target from predictors\n",
    "X.dropna(axis=0, subset=['SalePrice'], inplace=True)\n",
    "y = X.SalePrice              \n",
    "X.drop(['SalePrice'], axis=1, inplace=True)\n",
    "\n",
    "# Break off validation set from training data\n",
    "X_train_full, X_valid_full, y_train, y_valid = train_test_split(X, y, train_size=0.8, test_size=0.2,\n",
    "                                                                random_state=0)\n",
    "\n",
    "# \"Cardinality\" means the number of unique values in a column\n",
    "# Select categorical columns with relatively low cardinality (convenient but arbitrary)\n",
    "low_cardinality_cols = [cname for cname in X_train_full.columns if X_train_full[cname].nunique() < 10 and \n",
    "                        X_train_full[cname].dtype == \"object\"]\n",
    "\n",
    "# Select numeric columns\n",
    "numeric_cols = [cname for cname in X_train_full.columns if X_train_full[cname].dtype in ['int64', 'float64']]\n",
    "\n",
    "# Keep selected columns only\n",
    "my_cols = low_cardinality_cols + numeric_cols\n",
    "X_train = X_train_full[my_cols].copy()\n",
    "X_valid = X_valid_full[my_cols].copy()\n",
    "X_test = X_test_full[my_cols].copy()\n",
    "\n",
    "# One-hot encode the data (to shorten the code, we use pandas)\n",
    "X_train = pd.get_dummies(X_train)\n",
    "X_valid = pd.get_dummies(X_valid)\n",
    "X_test = pd.get_dummies(X_test)\n",
    "X_train, X_valid = X_train.align(X_valid, join='left', axis=1)\n",
    "X_train, X_test = X_train.align(X_test, join='left', axis=1)"
   ]
  },
  {
   "cell_type": "markdown",
   "id": "0ca79a84",
   "metadata": {
    "papermill": {
     "duration": 0.008592,
     "end_time": "2023-06-29T22:05:47.143133",
     "exception": false,
     "start_time": "2023-06-29T22:05:47.134541",
     "status": "completed"
    },
    "tags": []
   },
   "source": [
    "# Step 1: Build model\n",
    "\n",
    "### Part A\n",
    "\n",
    "In this step, you'll build and train your first model with gradient boosting.\n",
    "\n",
    "- Begin by setting `my_model_1` to an XGBoost model.  Use the [XGBRegressor](https://xgboost.readthedocs.io/en/latest/python/python_api.html#xgboost.XGBRegressor) class, and set the random seed to 0 (`random_state=0`).  **Leave all other parameters as default.**\n",
    "- Then, fit the model to the training data in `X_train` and `y_train`."
   ]
  },
  {
   "cell_type": "code",
   "execution_count": 3,
   "id": "9c519400",
   "metadata": {
    "execution": {
     "iopub.execute_input": "2023-06-29T22:05:47.159501Z",
     "iopub.status.busy": "2023-06-29T22:05:47.158641Z",
     "iopub.status.idle": "2023-06-29T22:05:48.095552Z",
     "shell.execute_reply": "2023-06-29T22:05:48.093880Z"
    },
    "papermill": {
     "duration": 0.949149,
     "end_time": "2023-06-29T22:05:48.098923",
     "exception": false,
     "start_time": "2023-06-29T22:05:47.149774",
     "status": "completed"
    },
    "tags": []
   },
   "outputs": [
    {
     "data": {
      "application/javascript": [
       "parent.postMessage({\"jupyterEvent\": \"custom.exercise_interaction\", \"data\": {\"outcomeType\": 1, \"valueTowardsCompletion\": 0.5, \"interactionType\": 1, \"questionType\": 2, \"questionId\": \"1.1_Model1A\", \"learnToolsVersion\": \"0.3.4\", \"failureMessage\": \"\", \"exceptionClass\": \"\", \"trace\": \"\"}}, \"*\")"
      ],
      "text/plain": [
       "<IPython.core.display.Javascript object>"
      ]
     },
     "metadata": {},
     "output_type": "display_data"
    },
    {
     "data": {
      "text/markdown": [
       "<span style=\"color:#33cc33\">Correct</span>"
      ],
      "text/plain": [
       "Correct"
      ]
     },
     "metadata": {},
     "output_type": "display_data"
    }
   ],
   "source": [
    "from xgboost import XGBRegressor\n",
    "\n",
    "# Define the model\n",
    "my_model_1 = XGBRegressor(random_state=0)\n",
    "\n",
    "# Fit the model\n",
    "my_model_1.fit(X_train, y_train)\n",
    "\n",
    "# Check your answer\n",
    "step_1.a.check()"
   ]
  },
  {
   "cell_type": "code",
   "execution_count": 4,
   "id": "48335ad7",
   "metadata": {
    "execution": {
     "iopub.execute_input": "2023-06-29T22:05:48.117331Z",
     "iopub.status.busy": "2023-06-29T22:05:48.116085Z",
     "iopub.status.idle": "2023-06-29T22:05:48.121660Z",
     "shell.execute_reply": "2023-06-29T22:05:48.120355Z"
    },
    "papermill": {
     "duration": 0.018441,
     "end_time": "2023-06-29T22:05:48.125305",
     "exception": false,
     "start_time": "2023-06-29T22:05:48.106864",
     "status": "completed"
    },
    "tags": []
   },
   "outputs": [],
   "source": [
    "# Lines below will give you a hint or solution code\n",
    "#step_1.a.hint()\n",
    "#step_1.a.solution()"
   ]
  },
  {
   "cell_type": "markdown",
   "id": "96cbb493",
   "metadata": {
    "papermill": {
     "duration": 0.007416,
     "end_time": "2023-06-29T22:05:48.140037",
     "exception": false,
     "start_time": "2023-06-29T22:05:48.132621",
     "status": "completed"
    },
    "tags": []
   },
   "source": [
    "### Part B\n",
    "\n",
    "Set `predictions_1` to the model's predictions for the validation data.  Recall that the validation features are stored in `X_valid`."
   ]
  },
  {
   "cell_type": "code",
   "execution_count": 5,
   "id": "4bb5cf30",
   "metadata": {
    "execution": {
     "iopub.execute_input": "2023-06-29T22:05:48.157393Z",
     "iopub.status.busy": "2023-06-29T22:05:48.156558Z",
     "iopub.status.idle": "2023-06-29T22:05:48.189005Z",
     "shell.execute_reply": "2023-06-29T22:05:48.188032Z"
    },
    "papermill": {
     "duration": 0.044245,
     "end_time": "2023-06-29T22:05:48.191685",
     "exception": false,
     "start_time": "2023-06-29T22:05:48.147440",
     "status": "completed"
    },
    "tags": []
   },
   "outputs": [
    {
     "data": {
      "application/javascript": [
       "parent.postMessage({\"jupyterEvent\": \"custom.exercise_interaction\", \"data\": {\"outcomeType\": 1, \"valueTowardsCompletion\": 0.5, \"interactionType\": 1, \"questionType\": 2, \"questionId\": \"1.2_Model1B\", \"learnToolsVersion\": \"0.3.4\", \"failureMessage\": \"\", \"exceptionClass\": \"\", \"trace\": \"\"}}, \"*\")"
      ],
      "text/plain": [
       "<IPython.core.display.Javascript object>"
      ]
     },
     "metadata": {},
     "output_type": "display_data"
    },
    {
     "data": {
      "text/markdown": [
       "<span style=\"color:#33cc33\">Correct</span>"
      ],
      "text/plain": [
       "Correct"
      ]
     },
     "metadata": {},
     "output_type": "display_data"
    }
   ],
   "source": [
    "from sklearn.metrics import mean_absolute_error\n",
    "\n",
    "# Get predictions\n",
    "\n",
    "predictions_1 = my_model_1.predict(X_valid)\n",
    "# Check your answer\n",
    "step_1.b.check()"
   ]
  },
  {
   "cell_type": "code",
   "execution_count": 6,
   "id": "63c57170",
   "metadata": {
    "execution": {
     "iopub.execute_input": "2023-06-29T22:05:48.209265Z",
     "iopub.status.busy": "2023-06-29T22:05:48.208833Z",
     "iopub.status.idle": "2023-06-29T22:05:48.213562Z",
     "shell.execute_reply": "2023-06-29T22:05:48.212330Z"
    },
    "papermill": {
     "duration": 0.015773,
     "end_time": "2023-06-29T22:05:48.215789",
     "exception": false,
     "start_time": "2023-06-29T22:05:48.200016",
     "status": "completed"
    },
    "tags": []
   },
   "outputs": [],
   "source": [
    "# Lines below will give you a hint or solution code\n",
    "#step_1.b.hint()\n",
    "#step_1.b.solution()"
   ]
  },
  {
   "cell_type": "markdown",
   "id": "782d48c7",
   "metadata": {
    "papermill": {
     "duration": 0.007054,
     "end_time": "2023-06-29T22:05:48.230444",
     "exception": false,
     "start_time": "2023-06-29T22:05:48.223390",
     "status": "completed"
    },
    "tags": []
   },
   "source": [
    "### Part C\n",
    "\n",
    "Finally, use the `mean_absolute_error()` function to calculate the mean absolute error (MAE) corresponding to the predictions for the validation set.  Recall that the labels for the validation data are stored in `y_valid`."
   ]
  },
  {
   "cell_type": "code",
   "execution_count": 7,
   "id": "7ad6d577",
   "metadata": {
    "execution": {
     "iopub.execute_input": "2023-06-29T22:05:48.246981Z",
     "iopub.status.busy": "2023-06-29T22:05:48.246504Z",
     "iopub.status.idle": "2023-06-29T22:05:48.259899Z",
     "shell.execute_reply": "2023-06-29T22:05:48.258766Z"
    },
    "papermill": {
     "duration": 0.024866,
     "end_time": "2023-06-29T22:05:48.262666",
     "exception": false,
     "start_time": "2023-06-29T22:05:48.237800",
     "status": "completed"
    },
    "tags": []
   },
   "outputs": [
    {
     "name": "stdout",
     "output_type": "stream",
     "text": [
      "Mean Absolute Error: 17662.736729452055\n"
     ]
    },
    {
     "data": {
      "application/javascript": [
       "parent.postMessage({\"jupyterEvent\": \"custom.exercise_interaction\", \"data\": {\"outcomeType\": 1, \"valueTowardsCompletion\": 0.5, \"interactionType\": 1, \"questionType\": 2, \"questionId\": \"1.3_Model1C\", \"learnToolsVersion\": \"0.3.4\", \"failureMessage\": \"\", \"exceptionClass\": \"\", \"trace\": \"\"}}, \"*\")"
      ],
      "text/plain": [
       "<IPython.core.display.Javascript object>"
      ]
     },
     "metadata": {},
     "output_type": "display_data"
    },
    {
     "data": {
      "text/markdown": [
       "<span style=\"color:#33cc33\">Correct</span>"
      ],
      "text/plain": [
       "Correct"
      ]
     },
     "metadata": {},
     "output_type": "display_data"
    }
   ],
   "source": [
    "# Calculate MAE\n",
    "# Calculate MAE\n",
    "mae_1 = mean_absolute_error(predictions_1, y_valid)\n",
    "print(\"Mean Absolute Error:\" , mae_1)\n",
    "# Uncomment to print MAE\n",
    "# print(\"Mean Absolute Error:\" , mae_1)\n",
    "\n",
    "# Check your answer\n",
    "step_1.c.check()"
   ]
  },
  {
   "cell_type": "code",
   "execution_count": 8,
   "id": "e80442c3",
   "metadata": {
    "execution": {
     "iopub.execute_input": "2023-06-29T22:05:48.281081Z",
     "iopub.status.busy": "2023-06-29T22:05:48.280603Z",
     "iopub.status.idle": "2023-06-29T22:05:48.285171Z",
     "shell.execute_reply": "2023-06-29T22:05:48.284047Z"
    },
    "papermill": {
     "duration": 0.017095,
     "end_time": "2023-06-29T22:05:48.287882",
     "exception": false,
     "start_time": "2023-06-29T22:05:48.270787",
     "status": "completed"
    },
    "tags": []
   },
   "outputs": [],
   "source": [
    "# Lines below will give you a hint or solution code\n",
    "#step_1.c.hint()\n",
    "#step_1.c.solution()"
   ]
  },
  {
   "cell_type": "markdown",
   "id": "f763ab80",
   "metadata": {
    "papermill": {
     "duration": 0.007602,
     "end_time": "2023-06-29T22:05:48.303709",
     "exception": false,
     "start_time": "2023-06-29T22:05:48.296107",
     "status": "completed"
    },
    "tags": []
   },
   "source": [
    "# Step 2: Improve the model\n",
    "\n",
    "Now that you've trained a default model as baseline, it's time to tinker with the parameters, to see if you can get better performance!\n",
    "- Begin by setting `my_model_2` to an XGBoost model, using the [XGBRegressor](https://xgboost.readthedocs.io/en/latest/python/python_api.html#xgboost.XGBRegressor) class.  Use what you learned in the previous tutorial to figure out how to change the default parameters (like `n_estimators` and `learning_rate`) to get better results.\n",
    "- Then, fit the model to the training data in `X_train` and `y_train`.\n",
    "- Set `predictions_2` to the model's predictions for the validation data.  Recall that the validation features are stored in `X_valid`.\n",
    "- Finally, use the `mean_absolute_error()` function to calculate the mean absolute error (MAE) corresponding to the predictions on the validation set.  Recall that the labels for the validation data are stored in `y_valid`.\n",
    "\n",
    "In order for this step to be marked correct, your model in `my_model_2` must attain lower MAE than the model in `my_model_1`. "
   ]
  },
  {
   "cell_type": "code",
   "execution_count": 9,
   "id": "5638ec46",
   "metadata": {
    "execution": {
     "iopub.execute_input": "2023-06-29T22:05:48.321956Z",
     "iopub.status.busy": "2023-06-29T22:05:48.320866Z",
     "iopub.status.idle": "2023-06-29T22:05:58.362165Z",
     "shell.execute_reply": "2023-06-29T22:05:58.361293Z"
    },
    "papermill": {
     "duration": 10.05312,
     "end_time": "2023-06-29T22:05:58.364680",
     "exception": false,
     "start_time": "2023-06-29T22:05:48.311560",
     "status": "completed"
    },
    "tags": []
   },
   "outputs": [
    {
     "name": "stdout",
     "output_type": "stream",
     "text": [
      "Mean Absolute Error: 16688.691513270547\n"
     ]
    },
    {
     "data": {
      "application/javascript": [
       "parent.postMessage({\"jupyterEvent\": \"custom.exercise_interaction\", \"data\": {\"outcomeType\": 1, \"valueTowardsCompletion\": 0.5, \"interactionType\": 1, \"questionType\": 2, \"questionId\": \"2_Model2\", \"learnToolsVersion\": \"0.3.4\", \"failureMessage\": \"\", \"exceptionClass\": \"\", \"trace\": \"\"}}, \"*\")"
      ],
      "text/plain": [
       "<IPython.core.display.Javascript object>"
      ]
     },
     "metadata": {},
     "output_type": "display_data"
    },
    {
     "data": {
      "text/markdown": [
       "<span style=\"color:#33cc33\">Correct</span>"
      ],
      "text/plain": [
       "Correct"
      ]
     },
     "metadata": {},
     "output_type": "display_data"
    }
   ],
   "source": [
    "# Define the model\n",
    "my_model_2 = XGBRegressor(n_estimators=1000, learning_rate=0.05)\n",
    "\n",
    "# Fit the model\n",
    "my_model_2.fit(X_train, y_train)\n",
    "\n",
    "# Get predictions\n",
    "predictions_2 = my_model_2.predict(X_valid)\n",
    "\n",
    "# Calculate MAE\n",
    "mae_2 = mean_absolute_error(predictions_2, y_valid)\n",
    "print(\"Mean Absolute Error:\" , mae_2)\n",
    "\n",
    "# Uncomment to print MAE\n",
    "# print(\"Mean Absolute Error:\" , mae_2)\n",
    "\n",
    "# Check your answer\n",
    "step_2.check()"
   ]
  },
  {
   "cell_type": "code",
   "execution_count": 10,
   "id": "1bbb8a80",
   "metadata": {
    "execution": {
     "iopub.execute_input": "2023-06-29T22:05:58.383534Z",
     "iopub.status.busy": "2023-06-29T22:05:58.383072Z",
     "iopub.status.idle": "2023-06-29T22:05:58.388209Z",
     "shell.execute_reply": "2023-06-29T22:05:58.386975Z"
    },
    "papermill": {
     "duration": 0.017026,
     "end_time": "2023-06-29T22:05:58.390396",
     "exception": false,
     "start_time": "2023-06-29T22:05:58.373370",
     "status": "completed"
    },
    "tags": []
   },
   "outputs": [],
   "source": [
    "# Lines below will give you a hint or solution code\n",
    "#step_2.hint()\n",
    "#step_2.solution()"
   ]
  },
  {
   "cell_type": "markdown",
   "id": "e0d2cc07",
   "metadata": {
    "papermill": {
     "duration": 0.007948,
     "end_time": "2023-06-29T22:05:58.406623",
     "exception": false,
     "start_time": "2023-06-29T22:05:58.398675",
     "status": "completed"
    },
    "tags": []
   },
   "source": [
    "# Step 3: Break the model\n",
    "\n",
    "In this step, you will create a model that performs worse than the original model in Step 1.  This will help you to develop your intuition for how to set parameters.  You might even find that you accidentally get better performance, which is ultimately a nice problem to have and a valuable learning experience!\n",
    "- Begin by setting `my_model_3` to an XGBoost model, using the [XGBRegressor](https://xgboost.readthedocs.io/en/latest/python/python_api.html#xgboost.XGBRegressor) class.  Use what you learned in the previous tutorial to figure out how to change the default parameters (like `n_estimators` and `learning_rate`) to design a model to get high MAE.\n",
    "- Then, fit the model to the training data in `X_train` and `y_train`.\n",
    "- Set `predictions_3` to the model's predictions for the validation data.  Recall that the validation features are stored in `X_valid`.\n",
    "- Finally, use the `mean_absolute_error()` function to calculate the mean absolute error (MAE) corresponding to the predictions on the validation set.  Recall that the labels for the validation data are stored in `y_valid`.\n",
    "\n",
    "In order for this step to be marked correct, your model in `my_model_3` must attain higher MAE than the model in `my_model_1`. "
   ]
  },
  {
   "cell_type": "code",
   "execution_count": 11,
   "id": "f75bdeb5",
   "metadata": {
    "execution": {
     "iopub.execute_input": "2023-06-29T22:05:58.425604Z",
     "iopub.status.busy": "2023-06-29T22:05:58.424978Z",
     "iopub.status.idle": "2023-06-29T22:05:58.486662Z",
     "shell.execute_reply": "2023-06-29T22:05:58.485787Z"
    },
    "papermill": {
     "duration": 0.073882,
     "end_time": "2023-06-29T22:05:58.488956",
     "exception": false,
     "start_time": "2023-06-29T22:05:58.415074",
     "status": "completed"
    },
    "tags": []
   },
   "outputs": [
    {
     "name": "stdout",
     "output_type": "stream",
     "text": [
      "Mean Absolute Error: 127895.0828807256\n"
     ]
    },
    {
     "data": {
      "application/javascript": [
       "parent.postMessage({\"jupyterEvent\": \"custom.exercise_interaction\", \"data\": {\"outcomeType\": 1, \"valueTowardsCompletion\": 0.5, \"interactionType\": 1, \"questionType\": 2, \"questionId\": \"3_Model3\", \"learnToolsVersion\": \"0.3.4\", \"failureMessage\": \"\", \"exceptionClass\": \"\", \"trace\": \"\"}}, \"*\")"
      ],
      "text/plain": [
       "<IPython.core.display.Javascript object>"
      ]
     },
     "metadata": {},
     "output_type": "display_data"
    },
    {
     "data": {
      "text/markdown": [
       "<span style=\"color:#33cc33\">Correct</span>"
      ],
      "text/plain": [
       "Correct"
      ]
     },
     "metadata": {},
     "output_type": "display_data"
    }
   ],
   "source": [
    "# Define the model\n",
    "my_model_3 = XGBRegressor(n_estimators=1)\n",
    "\n",
    "# Fit the model\n",
    "my_model_3.fit(X_train, y_train)\n",
    "\n",
    "# Get predictions\n",
    "predictions_3 = my_model_3.predict(X_valid)\n",
    "\n",
    "# Calculate MAE\n",
    "mae_3 = mean_absolute_error(predictions_3, y_valid)\n",
    "print(\"Mean Absolute Error:\" , mae_3)\n",
    "\n",
    "# Uncomment to print MAE\n",
    "# print(\"Mean Absolute Error:\" , mae_3)\n",
    "\n",
    "# Check your answer\n",
    "step_3.check()"
   ]
  },
  {
   "cell_type": "code",
   "execution_count": 12,
   "id": "38e9384e",
   "metadata": {
    "execution": {
     "iopub.execute_input": "2023-06-29T22:05:58.508892Z",
     "iopub.status.busy": "2023-06-29T22:05:58.508515Z",
     "iopub.status.idle": "2023-06-29T22:05:58.513361Z",
     "shell.execute_reply": "2023-06-29T22:05:58.511911Z"
    },
    "papermill": {
     "duration": 0.017342,
     "end_time": "2023-06-29T22:05:58.515851",
     "exception": false,
     "start_time": "2023-06-29T22:05:58.498509",
     "status": "completed"
    },
    "tags": []
   },
   "outputs": [],
   "source": [
    "# Lines below will give you a hint or solution code\n",
    "#step_3.hint()\n",
    "#step_3.solution()"
   ]
  },
  {
   "cell_type": "markdown",
   "id": "c618b809",
   "metadata": {
    "papermill": {
     "duration": 0.008293,
     "end_time": "2023-06-29T22:05:58.532718",
     "exception": false,
     "start_time": "2023-06-29T22:05:58.524425",
     "status": "completed"
    },
    "tags": []
   },
   "source": [
    "# Keep going\n",
    "\n",
    "Continue to learn about **[data leakage](https://www.kaggle.com/alexisbcook/data-leakage)**.  This is an important issue for a data scientist to understand, and it has the potential to ruin your models in subtle and dangerous ways!"
   ]
  },
  {
   "cell_type": "markdown",
   "id": "663c727d",
   "metadata": {
    "papermill": {
     "duration": 0.008232,
     "end_time": "2023-06-29T22:05:58.549705",
     "exception": false,
     "start_time": "2023-06-29T22:05:58.541473",
     "status": "completed"
    },
    "tags": []
   },
   "source": [
    "---\n",
    "\n",
    "\n",
    "\n",
    "\n",
    "*Have questions or comments? Visit the [course discussion forum](https://www.kaggle.com/learn/intermediate-machine-learning/discussion) to chat with other learners.*"
   ]
  }
 ],
 "metadata": {
  "kernelspec": {
   "display_name": "Python 3",
   "language": "python",
   "name": "python3"
  },
  "language_info": {
   "codemirror_mode": {
    "name": "ipython",
    "version": 3
   },
   "file_extension": ".py",
   "mimetype": "text/x-python",
   "name": "python",
   "nbconvert_exporter": "python",
   "pygments_lexer": "ipython3",
   "version": "3.10.10"
  },
  "papermill": {
   "default_parameters": {},
   "duration": 27.422086,
   "end_time": "2023-06-29T22:05:59.783893",
   "environment_variables": {},
   "exception": null,
   "input_path": "__notebook__.ipynb",
   "output_path": "__notebook__.ipynb",
   "parameters": {},
   "start_time": "2023-06-29T22:05:32.361807",
   "version": "2.4.0"
  }
 },
 "nbformat": 4,
 "nbformat_minor": 5
}
