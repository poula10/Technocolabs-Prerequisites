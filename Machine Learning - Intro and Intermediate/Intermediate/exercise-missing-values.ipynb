{
 "cells": [
  {
   "cell_type": "markdown",
   "id": "9f4507d5",
   "metadata": {
    "papermill": {
     "duration": 0.014413,
     "end_time": "2023-06-29T16:01:15.424918",
     "exception": false,
     "start_time": "2023-06-29T16:01:15.410505",
     "status": "completed"
    },
    "tags": []
   },
   "source": [
    "**This notebook is an exercise in the [Intermediate Machine Learning](https://www.kaggle.com/learn/intermediate-machine-learning) course.  You can reference the tutorial at [this link](https://www.kaggle.com/alexisbcook/missing-values).**\n",
    "\n",
    "---\n"
   ]
  },
  {
   "cell_type": "markdown",
   "id": "367993f0",
   "metadata": {
    "papermill": {
     "duration": 0.01154,
     "end_time": "2023-06-29T16:01:15.448171",
     "exception": false,
     "start_time": "2023-06-29T16:01:15.436631",
     "status": "completed"
    },
    "tags": []
   },
   "source": [
    "Now it's your turn to test your new knowledge of **missing values** handling. You'll probably find it makes a big difference.\n",
    "\n",
    "# Setup\n",
    "\n",
    "The questions will give you feedback on your work. Run the following cell to set up the feedback system."
   ]
  },
  {
   "cell_type": "code",
   "execution_count": 1,
   "id": "4fac163f",
   "metadata": {
    "execution": {
     "iopub.execute_input": "2023-06-29T16:01:15.473692Z",
     "iopub.status.busy": "2023-06-29T16:01:15.472932Z",
     "iopub.status.idle": "2023-06-29T16:01:15.527234Z",
     "shell.execute_reply": "2023-06-29T16:01:15.526088Z"
    },
    "papermill": {
     "duration": 0.070333,
     "end_time": "2023-06-29T16:01:15.529940",
     "exception": false,
     "start_time": "2023-06-29T16:01:15.459607",
     "status": "completed"
    },
    "tags": []
   },
   "outputs": [
    {
     "name": "stdout",
     "output_type": "stream",
     "text": [
      "Setup Complete\n"
     ]
    }
   ],
   "source": [
    "# Set up code checking\n",
    "import os\n",
    "if not os.path.exists(\"../input/train.csv\"):\n",
    "    os.symlink(\"../input/home-data-for-ml-course/train.csv\", \"../input/train.csv\")  \n",
    "    os.symlink(\"../input/home-data-for-ml-course/test.csv\", \"../input/test.csv\") \n",
    "from learntools.core import binder\n",
    "binder.bind(globals())\n",
    "from learntools.ml_intermediate.ex2 import *\n",
    "print(\"Setup Complete\")"
   ]
  },
  {
   "cell_type": "markdown",
   "id": "ba6eef31",
   "metadata": {
    "papermill": {
     "duration": 0.012189,
     "end_time": "2023-06-29T16:01:15.553843",
     "exception": false,
     "start_time": "2023-06-29T16:01:15.541654",
     "status": "completed"
    },
    "tags": []
   },
   "source": [
    "In this exercise, you will work with data from the [Housing Prices Competition for Kaggle Learn Users](https://www.kaggle.com/c/home-data-for-ml-course). \n",
    "\n",
    "![Ames Housing dataset image](https://storage.googleapis.com/kaggle-media/learn/images/lTJVG4e.png)\n",
    "\n",
    "Run the next code cell without changes to load the training and validation sets in `X_train`, `X_valid`, `y_train`, and `y_valid`.  The test set is loaded in `X_test`."
   ]
  },
  {
   "cell_type": "code",
   "execution_count": 2,
   "id": "952a2383",
   "metadata": {
    "execution": {
     "iopub.execute_input": "2023-06-29T16:01:15.578882Z",
     "iopub.status.busy": "2023-06-29T16:01:15.578461Z",
     "iopub.status.idle": "2023-06-29T16:01:17.142043Z",
     "shell.execute_reply": "2023-06-29T16:01:17.140722Z"
    },
    "papermill": {
     "duration": 1.579294,
     "end_time": "2023-06-29T16:01:17.144752",
     "exception": false,
     "start_time": "2023-06-29T16:01:15.565458",
     "status": "completed"
    },
    "tags": []
   },
   "outputs": [],
   "source": [
    "import pandas as pd\n",
    "from sklearn.model_selection import train_test_split\n",
    "\n",
    "# Read the data\n",
    "X_full = pd.read_csv('../input/train.csv', index_col='Id')\n",
    "X_test_full = pd.read_csv('../input/test.csv', index_col='Id')\n",
    "\n",
    "# Remove rows with missing target, separate target from predictors\n",
    "X_full.dropna(axis=0, subset=['SalePrice'], inplace=True)\n",
    "y = X_full.SalePrice\n",
    "X_full.drop(['SalePrice'], axis=1, inplace=True)\n",
    "\n",
    "# To keep things simple, we'll use only numerical predictors\n",
    "X = X_full.select_dtypes(exclude=['object'])\n",
    "X_test = X_test_full.select_dtypes(exclude=['object'])\n",
    "\n",
    "# Break off validation set from training data\n",
    "X_train, X_valid, y_train, y_valid = train_test_split(X, y, train_size=0.8, test_size=0.2,\n",
    "                                                      random_state=0)"
   ]
  },
  {
   "cell_type": "markdown",
   "id": "f887b66e",
   "metadata": {
    "papermill": {
     "duration": 0.011344,
     "end_time": "2023-06-29T16:01:17.167960",
     "exception": false,
     "start_time": "2023-06-29T16:01:17.156616",
     "status": "completed"
    },
    "tags": []
   },
   "source": [
    "Use the next code cell to print the first five rows of the data."
   ]
  },
  {
   "cell_type": "code",
   "execution_count": 3,
   "id": "9d4d61be",
   "metadata": {
    "execution": {
     "iopub.execute_input": "2023-06-29T16:01:17.193755Z",
     "iopub.status.busy": "2023-06-29T16:01:17.193042Z",
     "iopub.status.idle": "2023-06-29T16:01:17.230738Z",
     "shell.execute_reply": "2023-06-29T16:01:17.229539Z"
    },
    "papermill": {
     "duration": 0.053805,
     "end_time": "2023-06-29T16:01:17.233503",
     "exception": false,
     "start_time": "2023-06-29T16:01:17.179698",
     "status": "completed"
    },
    "tags": []
   },
   "outputs": [
    {
     "data": {
      "text/html": [
       "<div>\n",
       "<style scoped>\n",
       "    .dataframe tbody tr th:only-of-type {\n",
       "        vertical-align: middle;\n",
       "    }\n",
       "\n",
       "    .dataframe tbody tr th {\n",
       "        vertical-align: top;\n",
       "    }\n",
       "\n",
       "    .dataframe thead th {\n",
       "        text-align: right;\n",
       "    }\n",
       "</style>\n",
       "<table border=\"1\" class=\"dataframe\">\n",
       "  <thead>\n",
       "    <tr style=\"text-align: right;\">\n",
       "      <th></th>\n",
       "      <th>MSSubClass</th>\n",
       "      <th>LotFrontage</th>\n",
       "      <th>LotArea</th>\n",
       "      <th>OverallQual</th>\n",
       "      <th>OverallCond</th>\n",
       "      <th>YearBuilt</th>\n",
       "      <th>YearRemodAdd</th>\n",
       "      <th>MasVnrArea</th>\n",
       "      <th>BsmtFinSF1</th>\n",
       "      <th>BsmtFinSF2</th>\n",
       "      <th>...</th>\n",
       "      <th>GarageArea</th>\n",
       "      <th>WoodDeckSF</th>\n",
       "      <th>OpenPorchSF</th>\n",
       "      <th>EnclosedPorch</th>\n",
       "      <th>3SsnPorch</th>\n",
       "      <th>ScreenPorch</th>\n",
       "      <th>PoolArea</th>\n",
       "      <th>MiscVal</th>\n",
       "      <th>MoSold</th>\n",
       "      <th>YrSold</th>\n",
       "    </tr>\n",
       "    <tr>\n",
       "      <th>Id</th>\n",
       "      <th></th>\n",
       "      <th></th>\n",
       "      <th></th>\n",
       "      <th></th>\n",
       "      <th></th>\n",
       "      <th></th>\n",
       "      <th></th>\n",
       "      <th></th>\n",
       "      <th></th>\n",
       "      <th></th>\n",
       "      <th></th>\n",
       "      <th></th>\n",
       "      <th></th>\n",
       "      <th></th>\n",
       "      <th></th>\n",
       "      <th></th>\n",
       "      <th></th>\n",
       "      <th></th>\n",
       "      <th></th>\n",
       "      <th></th>\n",
       "      <th></th>\n",
       "    </tr>\n",
       "  </thead>\n",
       "  <tbody>\n",
       "    <tr>\n",
       "      <th>619</th>\n",
       "      <td>20</td>\n",
       "      <td>90.0</td>\n",
       "      <td>11694</td>\n",
       "      <td>9</td>\n",
       "      <td>5</td>\n",
       "      <td>2007</td>\n",
       "      <td>2007</td>\n",
       "      <td>452.0</td>\n",
       "      <td>48</td>\n",
       "      <td>0</td>\n",
       "      <td>...</td>\n",
       "      <td>774</td>\n",
       "      <td>0</td>\n",
       "      <td>108</td>\n",
       "      <td>0</td>\n",
       "      <td>0</td>\n",
       "      <td>260</td>\n",
       "      <td>0</td>\n",
       "      <td>0</td>\n",
       "      <td>7</td>\n",
       "      <td>2007</td>\n",
       "    </tr>\n",
       "    <tr>\n",
       "      <th>871</th>\n",
       "      <td>20</td>\n",
       "      <td>60.0</td>\n",
       "      <td>6600</td>\n",
       "      <td>5</td>\n",
       "      <td>5</td>\n",
       "      <td>1962</td>\n",
       "      <td>1962</td>\n",
       "      <td>0.0</td>\n",
       "      <td>0</td>\n",
       "      <td>0</td>\n",
       "      <td>...</td>\n",
       "      <td>308</td>\n",
       "      <td>0</td>\n",
       "      <td>0</td>\n",
       "      <td>0</td>\n",
       "      <td>0</td>\n",
       "      <td>0</td>\n",
       "      <td>0</td>\n",
       "      <td>0</td>\n",
       "      <td>8</td>\n",
       "      <td>2009</td>\n",
       "    </tr>\n",
       "    <tr>\n",
       "      <th>93</th>\n",
       "      <td>30</td>\n",
       "      <td>80.0</td>\n",
       "      <td>13360</td>\n",
       "      <td>5</td>\n",
       "      <td>7</td>\n",
       "      <td>1921</td>\n",
       "      <td>2006</td>\n",
       "      <td>0.0</td>\n",
       "      <td>713</td>\n",
       "      <td>0</td>\n",
       "      <td>...</td>\n",
       "      <td>432</td>\n",
       "      <td>0</td>\n",
       "      <td>0</td>\n",
       "      <td>44</td>\n",
       "      <td>0</td>\n",
       "      <td>0</td>\n",
       "      <td>0</td>\n",
       "      <td>0</td>\n",
       "      <td>8</td>\n",
       "      <td>2009</td>\n",
       "    </tr>\n",
       "    <tr>\n",
       "      <th>818</th>\n",
       "      <td>20</td>\n",
       "      <td>NaN</td>\n",
       "      <td>13265</td>\n",
       "      <td>8</td>\n",
       "      <td>5</td>\n",
       "      <td>2002</td>\n",
       "      <td>2002</td>\n",
       "      <td>148.0</td>\n",
       "      <td>1218</td>\n",
       "      <td>0</td>\n",
       "      <td>...</td>\n",
       "      <td>857</td>\n",
       "      <td>150</td>\n",
       "      <td>59</td>\n",
       "      <td>0</td>\n",
       "      <td>0</td>\n",
       "      <td>0</td>\n",
       "      <td>0</td>\n",
       "      <td>0</td>\n",
       "      <td>7</td>\n",
       "      <td>2008</td>\n",
       "    </tr>\n",
       "    <tr>\n",
       "      <th>303</th>\n",
       "      <td>20</td>\n",
       "      <td>118.0</td>\n",
       "      <td>13704</td>\n",
       "      <td>7</td>\n",
       "      <td>5</td>\n",
       "      <td>2001</td>\n",
       "      <td>2002</td>\n",
       "      <td>150.0</td>\n",
       "      <td>0</td>\n",
       "      <td>0</td>\n",
       "      <td>...</td>\n",
       "      <td>843</td>\n",
       "      <td>468</td>\n",
       "      <td>81</td>\n",
       "      <td>0</td>\n",
       "      <td>0</td>\n",
       "      <td>0</td>\n",
       "      <td>0</td>\n",
       "      <td>0</td>\n",
       "      <td>1</td>\n",
       "      <td>2006</td>\n",
       "    </tr>\n",
       "  </tbody>\n",
       "</table>\n",
       "<p>5 rows × 36 columns</p>\n",
       "</div>"
      ],
      "text/plain": [
       "     MSSubClass  LotFrontage  LotArea  OverallQual  OverallCond  YearBuilt  \\\n",
       "Id                                                                           \n",
       "619          20         90.0    11694            9            5       2007   \n",
       "871          20         60.0     6600            5            5       1962   \n",
       "93           30         80.0    13360            5            7       1921   \n",
       "818          20          NaN    13265            8            5       2002   \n",
       "303          20        118.0    13704            7            5       2001   \n",
       "\n",
       "     YearRemodAdd  MasVnrArea  BsmtFinSF1  BsmtFinSF2  ...  GarageArea  \\\n",
       "Id                                                     ...               \n",
       "619          2007       452.0          48           0  ...         774   \n",
       "871          1962         0.0           0           0  ...         308   \n",
       "93           2006         0.0         713           0  ...         432   \n",
       "818          2002       148.0        1218           0  ...         857   \n",
       "303          2002       150.0           0           0  ...         843   \n",
       "\n",
       "     WoodDeckSF  OpenPorchSF  EnclosedPorch  3SsnPorch  ScreenPorch  PoolArea  \\\n",
       "Id                                                                              \n",
       "619           0          108              0          0          260         0   \n",
       "871           0            0              0          0            0         0   \n",
       "93            0            0             44          0            0         0   \n",
       "818         150           59              0          0            0         0   \n",
       "303         468           81              0          0            0         0   \n",
       "\n",
       "     MiscVal  MoSold  YrSold  \n",
       "Id                            \n",
       "619        0       7    2007  \n",
       "871        0       8    2009  \n",
       "93         0       8    2009  \n",
       "818        0       7    2008  \n",
       "303        0       1    2006  \n",
       "\n",
       "[5 rows x 36 columns]"
      ]
     },
     "execution_count": 3,
     "metadata": {},
     "output_type": "execute_result"
    }
   ],
   "source": [
    "X_train.head()"
   ]
  },
  {
   "cell_type": "markdown",
   "id": "95a0e125",
   "metadata": {
    "papermill": {
     "duration": 0.012655,
     "end_time": "2023-06-29T16:01:17.258556",
     "exception": false,
     "start_time": "2023-06-29T16:01:17.245901",
     "status": "completed"
    },
    "tags": []
   },
   "source": [
    "You can already see a few missing values in the first several rows.  In the next step, you'll obtain a more comprehensive understanding of the missing values in the dataset.\n",
    "\n",
    "# Step 1: Preliminary investigation\n",
    "\n",
    "Run the code cell below without changes."
   ]
  },
  {
   "cell_type": "code",
   "execution_count": 4,
   "id": "13e4cc72",
   "metadata": {
    "execution": {
     "iopub.execute_input": "2023-06-29T16:01:17.285659Z",
     "iopub.status.busy": "2023-06-29T16:01:17.285264Z",
     "iopub.status.idle": "2023-06-29T16:01:17.293740Z",
     "shell.execute_reply": "2023-06-29T16:01:17.292348Z"
    },
    "papermill": {
     "duration": 0.024959,
     "end_time": "2023-06-29T16:01:17.296005",
     "exception": false,
     "start_time": "2023-06-29T16:01:17.271046",
     "status": "completed"
    },
    "tags": []
   },
   "outputs": [
    {
     "name": "stdout",
     "output_type": "stream",
     "text": [
      "(1168, 36)\n",
      "LotFrontage    212\n",
      "MasVnrArea       6\n",
      "GarageYrBlt     58\n",
      "dtype: int64\n"
     ]
    }
   ],
   "source": [
    "# Shape of training data (num_rows, num_columns)\n",
    "print(X_train.shape)\n",
    "\n",
    "# Number of missing values in each column of training data\n",
    "missing_val_count_by_column = (X_train.isnull().sum())\n",
    "print(missing_val_count_by_column[missing_val_count_by_column > 0])"
   ]
  },
  {
   "cell_type": "markdown",
   "id": "0825ebb7",
   "metadata": {
    "papermill": {
     "duration": 0.01189,
     "end_time": "2023-06-29T16:01:17.320232",
     "exception": false,
     "start_time": "2023-06-29T16:01:17.308342",
     "status": "completed"
    },
    "tags": []
   },
   "source": [
    "### Part A\n",
    "\n",
    "Use the above output to answer the questions below."
   ]
  },
  {
   "cell_type": "code",
   "execution_count": 5,
   "id": "0098bac9",
   "metadata": {
    "execution": {
     "iopub.execute_input": "2023-06-29T16:01:17.346854Z",
     "iopub.status.busy": "2023-06-29T16:01:17.346113Z",
     "iopub.status.idle": "2023-06-29T16:01:17.357003Z",
     "shell.execute_reply": "2023-06-29T16:01:17.356116Z"
    },
    "papermill": {
     "duration": 0.026563,
     "end_time": "2023-06-29T16:01:17.359118",
     "exception": false,
     "start_time": "2023-06-29T16:01:17.332555",
     "status": "completed"
    },
    "tags": []
   },
   "outputs": [
    {
     "data": {
      "application/javascript": [
       "parent.postMessage({\"jupyterEvent\": \"custom.exercise_interaction\", \"data\": {\"outcomeType\": 1, \"valueTowardsCompletion\": 1.0, \"interactionType\": 1, \"questionType\": 1, \"questionId\": \"1.1_InvestigateEquality\", \"learnToolsVersion\": \"0.3.4\", \"failureMessage\": \"\", \"exceptionClass\": \"\", \"trace\": \"\"}}, \"*\")"
      ],
      "text/plain": [
       "<IPython.core.display.Javascript object>"
      ]
     },
     "metadata": {},
     "output_type": "display_data"
    },
    {
     "data": {
      "text/markdown": [
       "<span style=\"color:#33cc33\">Correct</span>"
      ],
      "text/plain": [
       "Correct"
      ]
     },
     "metadata": {},
     "output_type": "display_data"
    }
   ],
   "source": [
    "# Fill in the line below: How many rows are in the training data?\n",
    "num_rows = X_train.shape[0]\n",
    "\n",
    "# Fill in the line below: How many columns in the training data\n",
    "# have missing values?\n",
    "num_cols_with_missing = missing_val_count_by_column[missing_val_count_by_column > 0].count()\n",
    "\n",
    "# Fill in the line below: How many missing entries are contained in \n",
    "# all of the training data?\n",
    "tot_missing = missing_val_count_by_column.sum()\n",
    "\n",
    "# Check your answers\n",
    "step_1.a.check()"
   ]
  },
  {
   "cell_type": "code",
   "execution_count": 6,
   "id": "62bee5e1",
   "metadata": {
    "execution": {
     "iopub.execute_input": "2023-06-29T16:01:17.387134Z",
     "iopub.status.busy": "2023-06-29T16:01:17.386042Z",
     "iopub.status.idle": "2023-06-29T16:01:17.391127Z",
     "shell.execute_reply": "2023-06-29T16:01:17.389990Z"
    },
    "papermill": {
     "duration": 0.021555,
     "end_time": "2023-06-29T16:01:17.393655",
     "exception": false,
     "start_time": "2023-06-29T16:01:17.372100",
     "status": "completed"
    },
    "tags": []
   },
   "outputs": [],
   "source": [
    "# Lines below will give you a hint or solution code\n",
    "#step_1.a.hint()\n",
    "#step_1.a.solution()"
   ]
  },
  {
   "cell_type": "markdown",
   "id": "49c6dc6d",
   "metadata": {
    "papermill": {
     "duration": 0.012228,
     "end_time": "2023-06-29T16:01:17.418669",
     "exception": false,
     "start_time": "2023-06-29T16:01:17.406441",
     "status": "completed"
    },
    "tags": []
   },
   "source": [
    "### Part B\n",
    "Considering your answers above, what do you think is likely the best approach to dealing with the missing values?"
   ]
  },
  {
   "cell_type": "code",
   "execution_count": 7,
   "id": "79bf540b",
   "metadata": {
    "execution": {
     "iopub.execute_input": "2023-06-29T16:01:17.445983Z",
     "iopub.status.busy": "2023-06-29T16:01:17.445260Z",
     "iopub.status.idle": "2023-06-29T16:01:17.455724Z",
     "shell.execute_reply": "2023-06-29T16:01:17.454311Z"
    },
    "papermill": {
     "duration": 0.027017,
     "end_time": "2023-06-29T16:01:17.458238",
     "exception": false,
     "start_time": "2023-06-29T16:01:17.431221",
     "status": "completed"
    },
    "tags": []
   },
   "outputs": [
    {
     "data": {
      "application/javascript": [
       "parent.postMessage({\"jupyterEvent\": \"custom.exercise_interaction\", \"data\": {\"outcomeType\": 1, \"valueTowardsCompletion\": 1.0, \"interactionType\": 1, \"questionType\": 4, \"questionId\": \"1.2_InvestigateThought\", \"learnToolsVersion\": \"0.3.4\", \"failureMessage\": \"\", \"exceptionClass\": \"\", \"trace\": \"\"}}, \"*\")"
      ],
      "text/plain": [
       "<IPython.core.display.Javascript object>"
      ]
     },
     "metadata": {},
     "output_type": "display_data"
    },
    {
     "data": {
      "text/markdown": [
       "<span style=\"color:#33cc33\">Correct:</span> \n",
       "\n",
       "Since there are relatively few missing entries in the data (the column with the greatest percentage of missing values is missing less than 20% of its entries), we can expect that dropping columns is unlikely to yield good results.  This is because we'd be throwing away a lot of valuable data, and so imputation will likely perform better."
      ],
      "text/plain": [
       "Correct: \n",
       "\n",
       "Since there are relatively few missing entries in the data (the column with the greatest percentage of missing values is missing less than 20% of its entries), we can expect that dropping columns is unlikely to yield good results.  This is because we'd be throwing away a lot of valuable data, and so imputation will likely perform better."
      ]
     },
     "metadata": {},
     "output_type": "display_data"
    }
   ],
   "source": [
    "# Check your answer (Run this code cell to receive credit!)\n",
    "step_1.b.check()"
   ]
  },
  {
   "cell_type": "code",
   "execution_count": 8,
   "id": "387ea725",
   "metadata": {
    "execution": {
     "iopub.execute_input": "2023-06-29T16:01:17.486170Z",
     "iopub.status.busy": "2023-06-29T16:01:17.485750Z",
     "iopub.status.idle": "2023-06-29T16:01:17.490626Z",
     "shell.execute_reply": "2023-06-29T16:01:17.489421Z"
    },
    "papermill": {
     "duration": 0.021921,
     "end_time": "2023-06-29T16:01:17.493226",
     "exception": false,
     "start_time": "2023-06-29T16:01:17.471305",
     "status": "completed"
    },
    "tags": []
   },
   "outputs": [],
   "source": [
    "#step_1.b.hint()"
   ]
  },
  {
   "cell_type": "markdown",
   "id": "9e7ac3b8",
   "metadata": {
    "papermill": {
     "duration": 0.012757,
     "end_time": "2023-06-29T16:01:17.519020",
     "exception": false,
     "start_time": "2023-06-29T16:01:17.506263",
     "status": "completed"
    },
    "tags": []
   },
   "source": [
    "To compare different approaches to dealing with missing values, you'll use the same `score_dataset()` function from the tutorial.  This function reports the [mean absolute error](https://en.wikipedia.org/wiki/Mean_absolute_error) (MAE) from a random forest model."
   ]
  },
  {
   "cell_type": "code",
   "execution_count": 9,
   "id": "77c0d284",
   "metadata": {
    "execution": {
     "iopub.execute_input": "2023-06-29T16:01:17.547324Z",
     "iopub.status.busy": "2023-06-29T16:01:17.546890Z",
     "iopub.status.idle": "2023-06-29T16:01:17.972947Z",
     "shell.execute_reply": "2023-06-29T16:01:17.971774Z"
    },
    "papermill": {
     "duration": 0.443541,
     "end_time": "2023-06-29T16:01:17.975993",
     "exception": false,
     "start_time": "2023-06-29T16:01:17.532452",
     "status": "completed"
    },
    "tags": []
   },
   "outputs": [],
   "source": [
    "from sklearn.ensemble import RandomForestRegressor\n",
    "from sklearn.metrics import mean_absolute_error\n",
    "\n",
    "# Function for comparing different approaches\n",
    "def score_dataset(X_train, X_valid, y_train, y_valid):\n",
    "    model = RandomForestRegressor(n_estimators=100, random_state=0)\n",
    "    model.fit(X_train, y_train)\n",
    "    preds = model.predict(X_valid)\n",
    "    return mean_absolute_error(y_valid, preds)"
   ]
  },
  {
   "cell_type": "markdown",
   "id": "7169b038",
   "metadata": {
    "papermill": {
     "duration": 0.012737,
     "end_time": "2023-06-29T16:01:18.002307",
     "exception": false,
     "start_time": "2023-06-29T16:01:17.989570",
     "status": "completed"
    },
    "tags": []
   },
   "source": [
    "# Step 2: Drop columns with missing values\n",
    "\n",
    "In this step, you'll preprocess the data in `X_train` and `X_valid` to remove columns with missing values.  Set the preprocessed DataFrames to `reduced_X_train` and `reduced_X_valid`, respectively.  "
   ]
  },
  {
   "cell_type": "code",
   "execution_count": 10,
   "id": "85fb6b20",
   "metadata": {
    "execution": {
     "iopub.execute_input": "2023-06-29T16:01:18.030318Z",
     "iopub.status.busy": "2023-06-29T16:01:18.029568Z",
     "iopub.status.idle": "2023-06-29T16:01:18.059015Z",
     "shell.execute_reply": "2023-06-29T16:01:18.057828Z"
    },
    "papermill": {
     "duration": 0.047085,
     "end_time": "2023-06-29T16:01:18.062270",
     "exception": false,
     "start_time": "2023-06-29T16:01:18.015185",
     "status": "completed"
    },
    "tags": []
   },
   "outputs": [
    {
     "name": "stdout",
     "output_type": "stream",
     "text": [
      "['LotFrontage', 'MasVnrArea', 'GarageYrBlt']\n"
     ]
    },
    {
     "data": {
      "application/javascript": [
       "parent.postMessage({\"jupyterEvent\": \"custom.exercise_interaction\", \"data\": {\"outcomeType\": 1, \"valueTowardsCompletion\": 1.0, \"interactionType\": 1, \"questionType\": 2, \"questionId\": \"2_DropMissing\", \"learnToolsVersion\": \"0.3.4\", \"failureMessage\": \"\", \"exceptionClass\": \"\", \"trace\": \"\"}}, \"*\")"
      ],
      "text/plain": [
       "<IPython.core.display.Javascript object>"
      ]
     },
     "metadata": {},
     "output_type": "display_data"
    },
    {
     "data": {
      "text/markdown": [
       "<span style=\"color:#33cc33\">Correct</span>"
      ],
      "text/plain": [
       "Correct"
      ]
     },
     "metadata": {},
     "output_type": "display_data"
    }
   ],
   "source": [
    "# Fill in the line below: get names of columns with missing values\n",
    "missing_cols = missing_val_count_by_column[missing_val_count_by_column > 0].index.tolist() # Your code here\n",
    "#missing_cols = [col for col in X_train.columns if X_train[col].isnull().any()]\n",
    "print(missing_cols)\n",
    "# Fill in the lines below: drop columns in training and validation data\n",
    "reduced_X_train = X_train.drop(missing_cols,axis = 1)\n",
    "reduced_X_valid = X_valid.drop(missing_cols,axis = 1)\n",
    "#or dropna(axis = 1)\n",
    "\n",
    "# Check your answers\n",
    "step_2.check()"
   ]
  },
  {
   "cell_type": "code",
   "execution_count": 11,
   "id": "fe9b3c72",
   "metadata": {
    "execution": {
     "iopub.execute_input": "2023-06-29T16:01:18.098497Z",
     "iopub.status.busy": "2023-06-29T16:01:18.098072Z",
     "iopub.status.idle": "2023-06-29T16:01:18.103244Z",
     "shell.execute_reply": "2023-06-29T16:01:18.101853Z"
    },
    "papermill": {
     "duration": 0.027334,
     "end_time": "2023-06-29T16:01:18.107045",
     "exception": false,
     "start_time": "2023-06-29T16:01:18.079711",
     "status": "completed"
    },
    "tags": []
   },
   "outputs": [],
   "source": [
    "# Lines below will give you a hint or solution code\n",
    "#step_2.hint()\n",
    "#step_2.solution()"
   ]
  },
  {
   "cell_type": "markdown",
   "id": "caa14f00",
   "metadata": {
    "papermill": {
     "duration": 0.014754,
     "end_time": "2023-06-29T16:01:18.136079",
     "exception": false,
     "start_time": "2023-06-29T16:01:18.121325",
     "status": "completed"
    },
    "tags": []
   },
   "source": [
    "Run the next code cell without changes to obtain the MAE for this approach."
   ]
  },
  {
   "cell_type": "code",
   "execution_count": 12,
   "id": "1073ee6c",
   "metadata": {
    "execution": {
     "iopub.execute_input": "2023-06-29T16:01:18.164725Z",
     "iopub.status.busy": "2023-06-29T16:01:18.164324Z",
     "iopub.status.idle": "2023-06-29T16:01:19.496524Z",
     "shell.execute_reply": "2023-06-29T16:01:19.494375Z"
    },
    "papermill": {
     "duration": 1.349854,
     "end_time": "2023-06-29T16:01:19.499623",
     "exception": false,
     "start_time": "2023-06-29T16:01:18.149769",
     "status": "completed"
    },
    "tags": []
   },
   "outputs": [
    {
     "name": "stdout",
     "output_type": "stream",
     "text": [
      "MAE (Drop columns with missing values):\n",
      "17837.82570776256\n"
     ]
    }
   ],
   "source": [
    "print(\"MAE (Drop columns with missing values):\")\n",
    "print(score_dataset(reduced_X_train, reduced_X_valid, y_train, y_valid))"
   ]
  },
  {
   "cell_type": "markdown",
   "id": "71cd68fb",
   "metadata": {
    "papermill": {
     "duration": 0.013,
     "end_time": "2023-06-29T16:01:19.526618",
     "exception": false,
     "start_time": "2023-06-29T16:01:19.513618",
     "status": "completed"
    },
    "tags": []
   },
   "source": [
    "# Step 3: Imputation\n",
    "\n",
    "### Part A\n",
    "\n",
    "Use the next code cell to impute missing values with the mean value along each column.  Set the preprocessed DataFrames to `imputed_X_train` and `imputed_X_valid`.  Make sure that the column names match those in `X_train` and `X_valid`."
   ]
  },
  {
   "cell_type": "code",
   "execution_count": 13,
   "id": "1bd7eff7",
   "metadata": {
    "execution": {
     "iopub.execute_input": "2023-06-29T16:01:19.555420Z",
     "iopub.status.busy": "2023-06-29T16:01:19.554985Z",
     "iopub.status.idle": "2023-06-29T16:01:19.599341Z",
     "shell.execute_reply": "2023-06-29T16:01:19.598200Z"
    },
    "papermill": {
     "duration": 0.062241,
     "end_time": "2023-06-29T16:01:19.602268",
     "exception": false,
     "start_time": "2023-06-29T16:01:19.540027",
     "status": "completed"
    },
    "tags": []
   },
   "outputs": [
    {
     "data": {
      "application/javascript": [
       "parent.postMessage({\"jupyterEvent\": \"custom.exercise_interaction\", \"data\": {\"outcomeType\": 1, \"valueTowardsCompletion\": 1.0, \"interactionType\": 1, \"questionType\": 2, \"questionId\": \"3.1_ImputeCode\", \"learnToolsVersion\": \"0.3.4\", \"failureMessage\": \"\", \"exceptionClass\": \"\", \"trace\": \"\"}}, \"*\")"
      ],
      "text/plain": [
       "<IPython.core.display.Javascript object>"
      ]
     },
     "metadata": {},
     "output_type": "display_data"
    },
    {
     "data": {
      "text/markdown": [
       "<span style=\"color:#33cc33\">Correct</span>"
      ],
      "text/plain": [
       "Correct"
      ]
     },
     "metadata": {},
     "output_type": "display_data"
    }
   ],
   "source": [
    "from sklearn.impute import SimpleImputer\n",
    "\n",
    "# Fill in the lines below: imputation\n",
    "imputer = SimpleImputer() # Your code here\n",
    "imputed_X_train = pd.DataFrame(imputer.fit_transform(X_train))\n",
    "imputed_X_valid = pd.DataFrame(imputer.transform(X_valid))\n",
    "# Fill in the lines below: imputation removed column names; put them back\n",
    "imputed_X_train.columns = X_train.columns\n",
    "imputed_X_valid.columns = X_valid.columns\n",
    "#indices = X_train.isnull().any(axis = 1).index\n",
    "#indices = list(indices)\n",
    "#print(imputed_X_train.loc[indices,missing_cols])\n",
    "# Check your answers\n",
    "step_3.a.check()"
   ]
  },
  {
   "cell_type": "code",
   "execution_count": 14,
   "id": "aeb9b006",
   "metadata": {
    "execution": {
     "iopub.execute_input": "2023-06-29T16:01:19.632224Z",
     "iopub.status.busy": "2023-06-29T16:01:19.631470Z",
     "iopub.status.idle": "2023-06-29T16:01:19.635456Z",
     "shell.execute_reply": "2023-06-29T16:01:19.634634Z"
    },
    "papermill": {
     "duration": 0.021679,
     "end_time": "2023-06-29T16:01:19.637772",
     "exception": false,
     "start_time": "2023-06-29T16:01:19.616093",
     "status": "completed"
    },
    "tags": []
   },
   "outputs": [],
   "source": [
    "# Lines below will give you a hint or solution code\n",
    "#step_3.a.hint()\n",
    "#step_3.a.solution()"
   ]
  },
  {
   "cell_type": "markdown",
   "id": "031ba09e",
   "metadata": {
    "papermill": {
     "duration": 0.01444,
     "end_time": "2023-06-29T16:01:19.666118",
     "exception": false,
     "start_time": "2023-06-29T16:01:19.651678",
     "status": "completed"
    },
    "tags": []
   },
   "source": [
    "Run the next code cell without changes to obtain the MAE for this approach."
   ]
  },
  {
   "cell_type": "code",
   "execution_count": 15,
   "id": "b48e1406",
   "metadata": {
    "execution": {
     "iopub.execute_input": "2023-06-29T16:01:19.696154Z",
     "iopub.status.busy": "2023-06-29T16:01:19.694863Z",
     "iopub.status.idle": "2023-06-29T16:01:21.149446Z",
     "shell.execute_reply": "2023-06-29T16:01:21.148236Z"
    },
    "papermill": {
     "duration": 1.47246,
     "end_time": "2023-06-29T16:01:21.152380",
     "exception": false,
     "start_time": "2023-06-29T16:01:19.679920",
     "status": "completed"
    },
    "tags": []
   },
   "outputs": [
    {
     "name": "stdout",
     "output_type": "stream",
     "text": [
      "MAE (Imputation):\n",
      "18062.894611872147\n"
     ]
    }
   ],
   "source": [
    "print(\"MAE (Imputation):\")\n",
    "print(score_dataset(imputed_X_train, imputed_X_valid, y_train, y_valid))"
   ]
  },
  {
   "cell_type": "markdown",
   "id": "890a33f4",
   "metadata": {
    "papermill": {
     "duration": 0.013669,
     "end_time": "2023-06-29T16:01:21.180118",
     "exception": false,
     "start_time": "2023-06-29T16:01:21.166449",
     "status": "completed"
    },
    "tags": []
   },
   "source": [
    "### Part B\n",
    "\n",
    "Compare the MAE from each approach.  Does anything surprise you about the results?  Why do you think one approach performed better than the other?"
   ]
  },
  {
   "cell_type": "code",
   "execution_count": 16,
   "id": "adc9fc37",
   "metadata": {
    "execution": {
     "iopub.execute_input": "2023-06-29T16:01:21.210697Z",
     "iopub.status.busy": "2023-06-29T16:01:21.209931Z",
     "iopub.status.idle": "2023-06-29T16:01:21.220408Z",
     "shell.execute_reply": "2023-06-29T16:01:21.219153Z"
    },
    "papermill": {
     "duration": 0.028784,
     "end_time": "2023-06-29T16:01:21.223024",
     "exception": false,
     "start_time": "2023-06-29T16:01:21.194240",
     "status": "completed"
    },
    "tags": []
   },
   "outputs": [
    {
     "data": {
      "application/javascript": [
       "parent.postMessage({\"jupyterEvent\": \"custom.exercise_interaction\", \"data\": {\"outcomeType\": 1, \"valueTowardsCompletion\": 1.0, \"interactionType\": 1, \"questionType\": 4, \"questionId\": \"3.2_ImputeThought\", \"learnToolsVersion\": \"0.3.4\", \"failureMessage\": \"\", \"exceptionClass\": \"\", \"trace\": \"\"}}, \"*\")"
      ],
      "text/plain": [
       "<IPython.core.display.Javascript object>"
      ]
     },
     "metadata": {},
     "output_type": "display_data"
    },
    {
     "data": {
      "text/markdown": [
       "<span style=\"color:#33cc33\">Correct:</span> \n",
       "\n",
       "Given that thre are so few missing values in the dataset, we'd expect imputation to perform better than dropping columns entirely.  However, we see that dropping columns performs slightly better!  While this can probably partially be attributed to noise in the dataset, another potential explanation is that the imputation method is not a great match to this dataset.  That is, maybe instead of filling in the mean value, it makes more sense to set every missing value to a value of 0, to fill in the most frequently encountered value, or to use some other method.  For instance, consider the `GarageYrBlt` column (which indicates the year that the garage was built).  It's likely that in some cases, a missing value could indicate a house that does not have a garage.  Does it make more sense to fill in the median value along each column in this case?  Or could we get better results by filling in the minimum value along each column?  It's not quite clear what's best in this case, but perhaps we can rule out some options immediately - for instance, setting missing values in this column to 0 is likely to yield horrible results!"
      ],
      "text/plain": [
       "Correct: \n",
       "\n",
       "Given that thre are so few missing values in the dataset, we'd expect imputation to perform better than dropping columns entirely.  However, we see that dropping columns performs slightly better!  While this can probably partially be attributed to noise in the dataset, another potential explanation is that the imputation method is not a great match to this dataset.  That is, maybe instead of filling in the mean value, it makes more sense to set every missing value to a value of 0, to fill in the most frequently encountered value, or to use some other method.  For instance, consider the `GarageYrBlt` column (which indicates the year that the garage was built).  It's likely that in some cases, a missing value could indicate a house that does not have a garage.  Does it make more sense to fill in the median value along each column in this case?  Or could we get better results by filling in the minimum value along each column?  It's not quite clear what's best in this case, but perhaps we can rule out some options immediately - for instance, setting missing values in this column to 0 is likely to yield horrible results!"
      ]
     },
     "metadata": {},
     "output_type": "display_data"
    }
   ],
   "source": [
    "# Check your answer (Run this code cell to receive credit!)\n",
    "step_3.b.check()"
   ]
  },
  {
   "cell_type": "code",
   "execution_count": 17,
   "id": "b7cfea33",
   "metadata": {
    "execution": {
     "iopub.execute_input": "2023-06-29T16:01:21.255288Z",
     "iopub.status.busy": "2023-06-29T16:01:21.254658Z",
     "iopub.status.idle": "2023-06-29T16:01:21.258410Z",
     "shell.execute_reply": "2023-06-29T16:01:21.257621Z"
    },
    "papermill": {
     "duration": 0.023362,
     "end_time": "2023-06-29T16:01:21.260804",
     "exception": false,
     "start_time": "2023-06-29T16:01:21.237442",
     "status": "completed"
    },
    "tags": []
   },
   "outputs": [],
   "source": [
    "#step_3.b.hint()"
   ]
  },
  {
   "cell_type": "markdown",
   "id": "05b5a7ab",
   "metadata": {
    "papermill": {
     "duration": 0.014691,
     "end_time": "2023-06-29T16:01:21.289911",
     "exception": false,
     "start_time": "2023-06-29T16:01:21.275220",
     "status": "completed"
    },
    "tags": []
   },
   "source": [
    "# Step 4: Generate test predictions\n",
    "\n",
    "In this final step, you'll use any approach of your choosing to deal with missing values.  Once you've preprocessed the training and validation features, you'll train and evaluate a random forest model.  Then, you'll preprocess the test data before generating predictions that can be submitted to the competition!\n",
    "\n",
    "### Part A\n",
    "\n",
    "Use the next code cell to preprocess the training and validation data.  Set the preprocessed DataFrames to `final_X_train` and `final_X_valid`.  **You can use any approach of your choosing here!**  in order for this step to be marked as correct, you need only ensure:\n",
    "- the preprocessed DataFrames have the same number of columns,\n",
    "- the preprocessed DataFrames have no missing values, \n",
    "- `final_X_train` and `y_train` have the same number of rows, and\n",
    "- `final_X_valid` and `y_valid` have the same number of rows."
   ]
  },
  {
   "cell_type": "code",
   "execution_count": 18,
   "id": "5498a936",
   "metadata": {
    "execution": {
     "iopub.execute_input": "2023-06-29T16:01:21.320428Z",
     "iopub.status.busy": "2023-06-29T16:01:21.320017Z",
     "iopub.status.idle": "2023-06-29T16:01:22.830033Z",
     "shell.execute_reply": "2023-06-29T16:01:22.828873Z"
    },
    "papermill": {
     "duration": 1.52829,
     "end_time": "2023-06-29T16:01:22.832770",
     "exception": false,
     "start_time": "2023-06-29T16:01:21.304480",
     "status": "completed"
    },
    "tags": []
   },
   "outputs": [
    {
     "name": "stdout",
     "output_type": "stream",
     "text": [
      "18062.894611872147\n"
     ]
    },
    {
     "data": {
      "application/javascript": [
       "parent.postMessage({\"jupyterEvent\": \"custom.exercise_interaction\", \"data\": {\"outcomeType\": 1, \"valueTowardsCompletion\": 1.0, \"interactionType\": 1, \"questionType\": 2, \"questionId\": \"4.1_PredsCodeA\", \"learnToolsVersion\": \"0.3.4\", \"failureMessage\": \"\", \"exceptionClass\": \"\", \"trace\": \"\"}}, \"*\")"
      ],
      "text/plain": [
       "<IPython.core.display.Javascript object>"
      ]
     },
     "metadata": {},
     "output_type": "display_data"
    },
    {
     "data": {
      "text/markdown": [
       "<span style=\"color:#33cc33\">Correct</span>"
      ],
      "text/plain": [
       "Correct"
      ]
     },
     "metadata": {},
     "output_type": "display_data"
    }
   ],
   "source": [
    "# Preprocessed training and validation features\n",
    "\n",
    "final_imputer = SimpleImputer(strategy='most_frequent')\n",
    "final_X_train = pd.DataFrame(final_imputer.fit_transform(X_train))\n",
    "final_X_valid = pd.DataFrame(final_imputer.transform(X_valid))\n",
    "\n",
    "score = score_dataset(imputed_X_train,imputed_X_valid,y_train,y_valid)\n",
    "print(score)\n",
    "# Check your answers\n",
    "step_4.a.check()"
   ]
  },
  {
   "cell_type": "code",
   "execution_count": 19,
   "id": "1fd027ac",
   "metadata": {
    "execution": {
     "iopub.execute_input": "2023-06-29T16:01:22.864735Z",
     "iopub.status.busy": "2023-06-29T16:01:22.864322Z",
     "iopub.status.idle": "2023-06-29T16:01:22.872398Z",
     "shell.execute_reply": "2023-06-29T16:01:22.871111Z"
    },
    "papermill": {
     "duration": 0.027231,
     "end_time": "2023-06-29T16:01:22.874769",
     "exception": false,
     "start_time": "2023-06-29T16:01:22.847538",
     "status": "completed"
    },
    "tags": []
   },
   "outputs": [
    {
     "data": {
      "application/javascript": [
       "parent.postMessage({\"jupyterEvent\": \"custom.exercise_interaction\", \"data\": {\"interactionType\": 3, \"questionType\": 2, \"questionId\": \"4.1_PredsCodeA\", \"learnToolsVersion\": \"0.3.4\", \"valueTowardsCompletion\": 0.0, \"failureMessage\": \"\", \"exceptionClass\": \"\", \"trace\": \"\", \"outcomeType\": 4}}, \"*\")"
      ],
      "text/plain": [
       "<IPython.core.display.Javascript object>"
      ]
     },
     "metadata": {},
     "output_type": "display_data"
    },
    {
     "data": {
      "text/markdown": [
       "<span style=\"color:#33cc99\">Solution:</span> \n",
       "```python\n",
       "# Imputation\n",
       "final_imputer = SimpleImputer(strategy='median')\n",
       "final_X_train = pd.DataFrame(final_imputer.fit_transform(X_train))\n",
       "final_X_valid = pd.DataFrame(final_imputer.transform(X_valid))\n",
       "\n",
       "# Imputation removed column names; put them back\n",
       "final_X_train.columns = X_train.columns\n",
       "final_X_valid.columns = X_valid.columns\n",
       "\n",
       "```"
      ],
      "text/plain": [
       "Solution: \n",
       "```python\n",
       "# Imputation\n",
       "final_imputer = SimpleImputer(strategy='median')\n",
       "final_X_train = pd.DataFrame(final_imputer.fit_transform(X_train))\n",
       "final_X_valid = pd.DataFrame(final_imputer.transform(X_valid))\n",
       "\n",
       "# Imputation removed column names; put them back\n",
       "final_X_train.columns = X_train.columns\n",
       "final_X_valid.columns = X_valid.columns\n",
       "\n",
       "```"
      ]
     },
     "metadata": {},
     "output_type": "display_data"
    }
   ],
   "source": [
    "# Lines below will give you a hint or solution code\n",
    "#step_4.a.hint()\n",
    "step_4.a.solution()"
   ]
  },
  {
   "cell_type": "markdown",
   "id": "249ef874",
   "metadata": {
    "papermill": {
     "duration": 0.015919,
     "end_time": "2023-06-29T16:01:22.906169",
     "exception": false,
     "start_time": "2023-06-29T16:01:22.890250",
     "status": "completed"
    },
    "tags": []
   },
   "source": [
    "Run the next code cell to train and evaluate a random forest model.  (*Note that we don't use the `score_dataset()` function above, because we will soon use the trained model to generate test predictions!*)"
   ]
  },
  {
   "cell_type": "code",
   "execution_count": 20,
   "id": "dcd7c156",
   "metadata": {
    "execution": {
     "iopub.execute_input": "2023-06-29T16:01:22.939057Z",
     "iopub.status.busy": "2023-06-29T16:01:22.937867Z",
     "iopub.status.idle": "2023-06-29T16:01:24.408146Z",
     "shell.execute_reply": "2023-06-29T16:01:24.406144Z"
    },
    "papermill": {
     "duration": 1.489599,
     "end_time": "2023-06-29T16:01:24.411047",
     "exception": false,
     "start_time": "2023-06-29T16:01:22.921448",
     "status": "completed"
    },
    "tags": []
   },
   "outputs": [
    {
     "name": "stdout",
     "output_type": "stream",
     "text": [
      "MAE (Your approach):\n",
      "17956.065479452056\n"
     ]
    }
   ],
   "source": [
    "# Define and fit model\n",
    "model = RandomForestRegressor(n_estimators=100, random_state=0)\n",
    "model.fit(final_X_train, y_train)\n",
    "\n",
    "# Get validation predictions and MAE\n",
    "preds_valid = model.predict(final_X_valid)\n",
    "print(\"MAE (Your approach):\")\n",
    "print(mean_absolute_error(y_valid, preds_valid))"
   ]
  },
  {
   "cell_type": "markdown",
   "id": "01e3996c",
   "metadata": {
    "papermill": {
     "duration": 0.014921,
     "end_time": "2023-06-29T16:01:24.441416",
     "exception": false,
     "start_time": "2023-06-29T16:01:24.426495",
     "status": "completed"
    },
    "tags": []
   },
   "source": [
    "### Part B\n",
    "\n",
    "Use the next code cell to preprocess your test data.  Make sure that you use a method that agrees with how you preprocessed the training and validation data, and set the preprocessed test features to `final_X_test`.\n",
    "\n",
    "Then, use the preprocessed test features and the trained model to generate test predictions in `preds_test`.\n",
    "\n",
    "In order for this step to be marked correct, you need only ensure:\n",
    "- the preprocessed test DataFrame has no missing values, and\n",
    "- `final_X_test` has the same number of rows as `X_test`."
   ]
  },
  {
   "cell_type": "code",
   "execution_count": 21,
   "id": "83eecb8c",
   "metadata": {
    "execution": {
     "iopub.execute_input": "2023-06-29T16:01:24.473738Z",
     "iopub.status.busy": "2023-06-29T16:01:24.473320Z",
     "iopub.status.idle": "2023-06-29T16:01:24.534498Z",
     "shell.execute_reply": "2023-06-29T16:01:24.533306Z"
    },
    "papermill": {
     "duration": 0.080524,
     "end_time": "2023-06-29T16:01:24.537053",
     "exception": false,
     "start_time": "2023-06-29T16:01:24.456529",
     "status": "completed"
    },
    "tags": []
   },
   "outputs": [
    {
     "name": "stderr",
     "output_type": "stream",
     "text": [
      "/opt/conda/lib/python3.10/site-packages/sklearn/base.py:432: UserWarning: X has feature names, but RandomForestRegressor was fitted without feature names\n",
      "  warnings.warn(\n"
     ]
    },
    {
     "data": {
      "application/javascript": [
       "parent.postMessage({\"jupyterEvent\": \"custom.exercise_interaction\", \"data\": {\"outcomeType\": 1, \"valueTowardsCompletion\": 1.0, \"interactionType\": 1, \"questionType\": 2, \"questionId\": \"4.2_PredsCodeB\", \"learnToolsVersion\": \"0.3.4\", \"failureMessage\": \"\", \"exceptionClass\": \"\", \"trace\": \"\"}}, \"*\")"
      ],
      "text/plain": [
       "<IPython.core.display.Javascript object>"
      ]
     },
     "metadata": {},
     "output_type": "display_data"
    },
    {
     "data": {
      "text/markdown": [
       "<span style=\"color:#33cc33\">Correct</span>"
      ],
      "text/plain": [
       "Correct"
      ]
     },
     "metadata": {},
     "output_type": "display_data"
    }
   ],
   "source": [
    "# Fill in the line below: preprocess test data\n",
    "final_X_test = pd.DataFrame(final_imputer.transform(X_test))\n",
    "\n",
    "final_X_test.columns = X_test.columns\n",
    "# Fill in the line below: get test predictions\n",
    "preds_test = model.predict(final_X_test)\n",
    "\n",
    "# Check your answers\n",
    "step_4.b.check()"
   ]
  },
  {
   "cell_type": "code",
   "execution_count": 22,
   "id": "fea08763",
   "metadata": {
    "execution": {
     "iopub.execute_input": "2023-06-29T16:01:24.571687Z",
     "iopub.status.busy": "2023-06-29T16:01:24.571218Z",
     "iopub.status.idle": "2023-06-29T16:01:24.576229Z",
     "shell.execute_reply": "2023-06-29T16:01:24.574860Z"
    },
    "papermill": {
     "duration": 0.025931,
     "end_time": "2023-06-29T16:01:24.578590",
     "exception": false,
     "start_time": "2023-06-29T16:01:24.552659",
     "status": "completed"
    },
    "tags": []
   },
   "outputs": [],
   "source": [
    "# Lines below will give you a hint or solution code\n",
    "#step_4.b.hint()\n",
    "#step_4.b.solution()"
   ]
  },
  {
   "cell_type": "markdown",
   "id": "68a539b0",
   "metadata": {
    "papermill": {
     "duration": 0.015237,
     "end_time": "2023-06-29T16:01:24.610203",
     "exception": false,
     "start_time": "2023-06-29T16:01:24.594966",
     "status": "completed"
    },
    "tags": []
   },
   "source": [
    "Run the next code cell without changes to save your results to a CSV file that can be submitted directly to the competition."
   ]
  },
  {
   "cell_type": "code",
   "execution_count": 23,
   "id": "a41984de",
   "metadata": {
    "execution": {
     "iopub.execute_input": "2023-06-29T16:01:24.642996Z",
     "iopub.status.busy": "2023-06-29T16:01:24.642594Z",
     "iopub.status.idle": "2023-06-29T16:01:24.659496Z",
     "shell.execute_reply": "2023-06-29T16:01:24.658616Z"
    },
    "papermill": {
     "duration": 0.036755,
     "end_time": "2023-06-29T16:01:24.662384",
     "exception": false,
     "start_time": "2023-06-29T16:01:24.625629",
     "status": "completed"
    },
    "tags": []
   },
   "outputs": [],
   "source": [
    "# Save test predictions to file\n",
    "output = pd.DataFrame({'Id': X_test.index,\n",
    "                       'SalePrice': preds_test})\n",
    "output.to_csv('submission.csv', index=False)"
   ]
  },
  {
   "cell_type": "markdown",
   "id": "85f7887a",
   "metadata": {
    "papermill": {
     "duration": 0.015783,
     "end_time": "2023-06-29T16:01:24.695004",
     "exception": false,
     "start_time": "2023-06-29T16:01:24.679221",
     "status": "completed"
    },
    "tags": []
   },
   "source": [
    "# Submit your results\n",
    "\n",
    "Once you have successfully completed Step 4, you're ready to submit your results to the leaderboard!  (_You also learned how to do this in the previous exercise.  If you need a reminder of how to do this, please use the instructions below._)  \n",
    "\n",
    "First, you'll need to join the competition if you haven't already.  So open a new window by clicking on [this link](https://www.kaggle.com/c/home-data-for-ml-course).  Then click on the **Join Competition** button.\n",
    "\n",
    "![join competition image](https://storage.googleapis.com/kaggle-media/learn/images/wLmFtH3.png)\n",
    "\n",
    "Next, follow the instructions below:\n",
    "1. Begin by clicking on the **Save Version** button in the top right corner of the window.  This will generate a pop-up window.  \n",
    "2. Ensure that the **Save and Run All** option is selected, and then click on the **Save** button.\n",
    "3. This generates a window in the bottom left corner of the notebook.  After it has finished running, click on the number to the right of the **Save Version** button.  This pulls up a list of versions on the right of the screen.  Click on the ellipsis **(...)** to the right of the most recent version, and select **Open in Viewer**.  This brings you into view mode of the same page. You will need to scroll down to get back to these instructions.\n",
    "4. Click on the **Data** tab near the top of the screen.  Then, click on the file you would like to submit, and click on the **Submit** button to submit your results to the leaderboard.\n",
    "\n",
    "You have now successfully submitted to the competition!\n",
    "\n",
    "If you want to keep working to improve your performance, select the **Edit** button in the top right of the screen. Then you can change your code and repeat the process. There's a lot of room to improve, and you will climb up the leaderboard as you work.\n",
    "\n",
    "\n",
    "# Keep going\n",
    "\n",
    "Move on to learn what **[categorical variables](https://www.kaggle.com/alexisbcook/categorical-variables)** are, along with how to incorporate them into your machine learning models.  Categorical variables are very common in real-world data, but you'll get an error if you try to plug them into your models without processing them first!"
   ]
  },
  {
   "cell_type": "markdown",
   "id": "953a44ac",
   "metadata": {
    "papermill": {
     "duration": 0.015224,
     "end_time": "2023-06-29T16:01:24.725769",
     "exception": false,
     "start_time": "2023-06-29T16:01:24.710545",
     "status": "completed"
    },
    "tags": []
   },
   "source": [
    "---\n",
    "\n",
    "\n",
    "\n",
    "\n",
    "*Have questions or comments? Visit the [course discussion forum](https://www.kaggle.com/learn/intermediate-machine-learning/discussion) to chat with other learners.*"
   ]
  }
 ],
 "metadata": {
  "kernelspec": {
   "display_name": "Python 3",
   "language": "python",
   "name": "python3"
  },
  "language_info": {
   "codemirror_mode": {
    "name": "ipython",
    "version": 3
   },
   "file_extension": ".py",
   "mimetype": "text/x-python",
   "name": "python",
   "nbconvert_exporter": "python",
   "pygments_lexer": "ipython3",
   "version": "3.10.10"
  },
  "papermill": {
   "default_parameters": {},
   "duration": 23.429362,
   "end_time": "2023-06-29T16:01:25.765835",
   "environment_variables": {},
   "exception": null,
   "input_path": "__notebook__.ipynb",
   "output_path": "__notebook__.ipynb",
   "parameters": {},
   "start_time": "2023-06-29T16:01:02.336473",
   "version": "2.4.0"
  }
 },
 "nbformat": 4,
 "nbformat_minor": 5
}
